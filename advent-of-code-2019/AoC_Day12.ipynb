{
 "cells": [
  {
   "cell_type": "code",
   "execution_count": 1,
   "metadata": {},
   "outputs": [
    {
     "name": "stdout",
     "output_type": "stream",
     "text": [
      "Solution Part 1: 10845\n"
     ]
    }
   ],
   "source": [
    "moon_1 = [5, 4, 4]\n",
    "moon_2 = [-11, -11, -3]\n",
    "moon_3 = [0, 7, 0]\n",
    "moon_4 = [-13, 2, 10]\n",
    "\n",
    "moon_v = [0, 0, 0]\n",
    "moons = [moon_1, moon_2, moon_3, moon_4]\n",
    "moons_v = [moon_v] * 4\n",
    "\n",
    "\n",
    "def gravity(a, b):\n",
    "    if a > b:\n",
    "        return -1\n",
    "    elif a < b:\n",
    "        return +1\n",
    "    else:\n",
    "        return 0\n",
    "\n",
    "\n",
    "def compare_moon(m1, m2):\n",
    "    ss = []\n",
    "    for i in range(3):\n",
    "        ss.append(gravity(m1[i], m2[i]))\n",
    "    return ss\n",
    "\n",
    "\n",
    "def update_v(v1, v2):\n",
    "    ss = []\n",
    "    for i in range(3):\n",
    "        ss.append(v1[i] + v2[i])\n",
    "    return ss\n",
    "\n",
    "\n",
    "def update_p(m, v):\n",
    "    ss = []\n",
    "    for i in range(3):\n",
    "        ss.append(m[i] + v[i])\n",
    "    return ss\n",
    "\n",
    "\n",
    "energys = []\n",
    "cicles = {}\n",
    "\n",
    "for x in range(12):\n",
    "    cicles[x] = []\n",
    "\n",
    "for x in range(200000):\n",
    "    y = 0\n",
    "    for moon in moons:\n",
    "        for cor in moon:\n",
    "            cicles[y].append(cor)\n",
    "            y += 1\n",
    "\n",
    "    for value_1, moon_1 in enumerate(moons):\n",
    "        for value_2, moon_2 in enumerate(moons):\n",
    "            temp = compare_moon(moon_1, moon_2)\n",
    "            moons_v[value_1] = update_v(moons_v[value_1], temp)\n",
    "    for i in range(4):\n",
    "        moons[i] = update_p(moons[i], moons_v[i])\n",
    "\n",
    "    energy = 0\n",
    "\n",
    "    for i in range(4):\n",
    "        pos = sum([abs(arr) for arr in moons[i]])\n",
    "        v = sum([abs(arr) for arr in moons_v[i]])\n",
    "        energy += pos * v\n",
    "    energys.append(energy)\n",
    "# Part 1\n",
    "print(\"Solution Part 1:\", energys[999])"
   ]
  },
  {
   "cell_type": "code",
   "execution_count": 5,
   "metadata": {},
   "outputs": [
    {
     "data": {
      "image/png": "[encoded data removed]",
      "text/plain": [
       "<Figure size 432x288 with 1 Axes>"
      ]
     },
     "metadata": {
      "needs_background": "light"
     },
     "output_type": "display_data"
    }
   ],
   "source": [
    "# Part 2\n",
    "# We can observe a pattern more or less every 100000 steps\n",
    "import matplotlib.pyplot as plt\n",
    "\n",
    "plt.plot(cicles[2], \"bo\")\n",
    "plt.show()"
   ]
  },
  {
   "cell_type": "code",
   "execution_count": 6,
   "metadata": {},
   "outputs": [
    {
     "name": "stdout",
     "output_type": "stream",
     "text": [
      "[186028]\n",
      "[186028, 231614]\n",
      "[186028, 231614, 32623]\n",
      "[186028, 231614, 32623, 186028]\n",
      "[186028, 231614, 32623, 186028, 231614]\n",
      "[186028, 231614, 32623, 186028, 231614, 102356]\n",
      "[186028, 231614, 32623, 186028, 231614, 102356, 186028]\n",
      "[186028, 231614, 32623, 186028, 231614, 102356, 186028, 231614]\n",
      "[186028, 231614, 32623, 186028, 231614, 102356, 186028, 231614, 102356]\n",
      "[186028, 231614, 32623, 186028, 231614, 102356, 186028, 231614, 102356, 186028]\n",
      "[186028, 231614, 32623, 186028, 231614, 102356, 186028, 231614, 102356, 186028, 231614]\n",
      "[186028, 231614, 32623, 186028, 231614, 102356, 186028, 231614, 102356, 186028, 231614, 102355]\n"
     ]
    }
   ],
   "source": [
    "sol = []\n",
    "for i in range(12):\n",
    "    primer = cicles[i].index(min(cicles[i]))\n",
    "    second = cicles[i].index(min(cicles[i]), primer + 10)\n",
    "    sol.append(primer + second + 1)\n",
    "    print(sol)"
   ]
  },
  {
   "cell_type": "code",
   "execution_count": 7,
   "metadata": {},
   "outputs": [
    {
     "name": "stdout",
     "output_type": "stream",
     "text": [
      "Solution Part 2: 551272644867044.0\n"
     ]
    }
   ],
   "source": [
    "sol = [186028, 231614, 102356]\n",
    "\n",
    "\n",
    "def gcd(x, y):\n",
    "    return x if not y else gcd(y, x % y)\n",
    "\n",
    "\n",
    "def lcm(x, y):\n",
    "    return x * y / gcd(x, y)\n",
    "\n",
    "\n",
    "initial = 1\n",
    "for i in sol:\n",
    "    initial = lcm(initial, i)\n",
    "\n",
    "print(\"Solution Part 2:\", initial)"
   ]
  }
 ],
 "metadata": {
  "kernelspec": {
   "display_name": "Python 3",
   "language": "python",
   "name": "python3"
  },
  "language_info": {
   "codemirror_mode": {
    "name": "ipython",
    "version": 3
   },
   "file_extension": ".py",
   "mimetype": "text/x-python",
   "name": "python",
   "nbconvert_exporter": "python",
   "pygments_lexer": "ipython3",
   "version": "3.7.0"
  }
 },
 "nbformat": 4,
 "nbformat_minor": 2
}

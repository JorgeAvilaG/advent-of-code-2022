{
 "cells": [
  {
   "cell_type": "code",
   "execution_count": 1,
   "metadata": {},
   "outputs": [
    {
     "name": "stdout",
     "output_type": "stream",
     "text": [
      "18933364"
     ]
    }
   ],
   "source": [
    "raw_d = \"59766299734185935790261115703620877190381824215209853207763194576128635631359682876612079355215350473577604721555728904226669021629637829323357312523389374096761677612847270499668370808171197765497511969240451494864028712045794776711862275853405465401181390418728996646794501739600928008413106803610665694684578514524327181348469613507611935604098625200707607292339397162640547668982092343405011530889030486280541249694798815457170337648425355693137656149891119757374882957464941514691345812606515925579852852837849497598111512841599959586200247265784368476772959711497363250758706490540128635133116613480058848821257395084976935351858829607105310340\"\n",
    "d = [int(x) for x in list(raw_d)]\n",
    "\n",
    "\n",
    "def gen_number(numbers, position):\n",
    "    multi = [0, 1, 0, -1]\n",
    "    n_multi = 0\n",
    "    counter = 1\n",
    "    sol = 0\n",
    "    for number in numbers:\n",
    "        if counter > position:\n",
    "            n_multi = (n_multi + 1) % 4\n",
    "            counter = 0\n",
    "        sol += number * multi[n_multi]\n",
    "        counter += 1\n",
    "    return abs(sol) % 10\n",
    "\n",
    "\n",
    "def gen_phase(numbers):\n",
    "    new_list = []\n",
    "    for i in range(len(numbers)):\n",
    "        new_list.append(gen_number(numbers, i))\n",
    "    return new_list\n",
    "\n",
    "\n",
    "# Part 1\n",
    "for i in range(100):\n",
    "    d = gen_phase(d)\n",
    "a = [print(str(x), end=\"\") for x in d[:8]]"
   ]
  },
  {
   "cell_type": "code",
   "execution_count": 2,
   "metadata": {},
   "outputs": [
    {
     "data": {
      "text/plain": [
       "[2, 8, 8, 7, 2, 3, 0, 5]"
      ]
     },
     "execution_count": 2,
     "metadata": {},
     "output_type": "execute_result"
    }
   ],
   "source": [
    "# Part 2\n",
    "a = \"59766299734185935790261115703620877190381824215209853207763194576128635631359682876612079355215350473577604721555728904226669021629637829323357312523389374096761677612847270499668370808171197765497511969240451494864028712045794776711862275853405465401181390418728996646794501739600928008413106803610665694684578514524327181348469613507611935604098625200707607292339397162640547668982092343405011530889030486280541249694798815457170337648425355693137656149891119757374882957464941514691345812606515925579852852837849497598111512841599959586200247265784368476772959711497363250758706490540128635133116613480058848821257395084976935351858829607105310340\"\n",
    "a *= 10000\n",
    "b = reversed(a[5976629:])\n",
    "d = [int(x) for x in list(b)]\n",
    "for i in range(100):\n",
    "    prev = 0\n",
    "    new = []\n",
    "    for i in d:\n",
    "        temp = (i + prev) % 10\n",
    "        new.append(temp)\n",
    "        prev = temp\n",
    "    d = new\n",
    "list(reversed(d))[:8]"
   ]
  }
 ],
 "metadata": {
  "kernelspec": {
   "display_name": "Python 3",
   "language": "python",
   "name": "python3"
  },
  "language_info": {
   "codemirror_mode": {
    "name": "ipython",
    "version": 3
   },
   "file_extension": ".py",
   "mimetype": "text/x-python",
   "name": "python",
   "nbconvert_exporter": "python",
   "pygments_lexer": "ipython3",
   "version": "3.7.0"
  }
 },
 "nbformat": 4,
 "nbformat_minor": 2
}

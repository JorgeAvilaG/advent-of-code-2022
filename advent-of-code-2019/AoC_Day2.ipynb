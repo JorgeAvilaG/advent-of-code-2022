{
 "cells": [
  {
   "cell_type": "code",
   "execution_count": 4,
   "metadata": {},
   "outputs": [
    {
     "name": "stdout",
     "output_type": "stream",
     "text": [
      "Solution Part 1: 6087827\n",
      "Solution Part 2: 5379\n"
     ]
    }
   ],
   "source": [
    "raw_d = \"\"\"1,12,2,3,1,1,2,3,1,3,4,3,1,5,0,3,2,1,6,19,1,9,19,23,1,6,23,27,1,10,27,31,1,5,31,35,2,6,35,39,1,5,39,43,1,5,43,47,2,47,6,51,1,51,5,55,1,13,55,59,2,9,59,63,1,5,63,67,2,67,9,71,1,5,71,75,2,10,75,79,1,6,79,83,1,13,83,87,1,10,87,91,1,91,5,95,2,95,10,99,2,9,99,103,1,103,6,107,1,107,10,111,2,111,10,115,1,115,6,119,2,119,9,123,1,123,6,127,2,127,10,131,1,131,6,135,2,6,135,139,1,139,5,143,1,9,143,147,1,13,147,151,1,2,151,155,1,10,155,0,99,2,14,0,0\"\"\"\n",
    "d = [int(x) for x in raw_d.split(\",\")]\n",
    "\n",
    "\n",
    "def day2(d, noun, verb):\n",
    "    data = d.copy()\n",
    "    data[1] = noun\n",
    "    data[2] = verb\n",
    "    pos = 0\n",
    "    while data[pos] != 99:\n",
    "        if data[pos] == 1:\n",
    "            data[data[pos + 3]] = data[data[pos + 1]] + data[data[pos + 2]]\n",
    "        if data[pos] == 2:\n",
    "            data[data[pos + 3]] = data[data[pos + 1]] * data[data[pos + 2]]\n",
    "        pos += 4\n",
    "    return data[0]\n",
    "\n",
    "\n",
    "# Part 1\n",
    "# Noun is 12 and verb is 2\n",
    "print(\"Solution Part 1:\", day2(d, 12, 2))\n",
    "\n",
    "# Part 2\n",
    "\n",
    "for i in range(100):\n",
    "    for j in range(100):\n",
    "        if day2(d, i, j) == 19690720:\n",
    "            print(\"Solution Part 2:\", i * 100 + j)"
   ]
  }
 ],
 "metadata": {
  "kernelspec": {
   "display_name": "Python 3",
   "language": "python",
   "name": "python3"
  },
  "language_info": {
   "codemirror_mode": {
    "name": "ipython",
    "version": 3
   },
   "file_extension": ".py",
   "mimetype": "text/x-python",
   "name": "python",
   "nbconvert_exporter": "python",
   "pygments_lexer": "ipython3",
   "version": "3.7.0"
  }
 },
 "nbformat": 4,
 "nbformat_minor": 2
}

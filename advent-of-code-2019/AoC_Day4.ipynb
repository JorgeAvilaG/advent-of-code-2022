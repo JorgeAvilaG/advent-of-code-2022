{
 "cells": [
  {
   "cell_type": "code",
   "execution_count": null,
   "metadata": {},
   "outputs": [],
   "source": [
    "initial = 136760\n",
    "end = 595730\n",
    "\n",
    "\n",
    "def is_password(number):\n",
    "    n = [int(x) for x in str(number)]\n",
    "    n0 = 0\n",
    "    cond1 = True\n",
    "    cond2 = False\n",
    "    for i in n:\n",
    "        if i < n0:\n",
    "            cond1 = False\n",
    "            break\n",
    "        if i == n0:\n",
    "            cond2 = True\n",
    "        n0 = i\n",
    "    return cond1 and cond2\n",
    "\n",
    "\n",
    "# Part 1\n",
    "sum([is_password(x) for x in range(136760, 595730)])"
   ]
  },
  {
   "cell_type": "code",
   "execution_count": null,
   "metadata": {},
   "outputs": [],
   "source": [
    "def is_password_part2(number):\n",
    "    n = [int(x) for x in str(number)]\n",
    "    n0 = 0\n",
    "    streak = 1\n",
    "    streaks = set()\n",
    "    cond1 = True\n",
    "    cond2 = False\n",
    "    for i in n:\n",
    "        if i < n0:\n",
    "            cond1 = False\n",
    "            break\n",
    "        if i == n0:\n",
    "            cond2 = True\n",
    "            streak += 1\n",
    "        else:\n",
    "            streaks.add(streak)\n",
    "            streak = 1\n",
    "        n0 = i\n",
    "    streaks.add(streak)\n",
    "    return (cond1 and cond2) and (2 in streaks)\n",
    "\n",
    "\n",
    "# Part 2\n",
    "sum([is_password_part2(x) for x in range(136760, 595730)])"
   ]
  }
 ],
 "metadata": {
  "kernelspec": {
   "display_name": "Python 3",
   "language": "python",
   "name": "python3"
  },
  "language_info": {
   "codemirror_mode": {
    "name": "ipython",
    "version": 3
   },
   "file_extension": ".py",
   "mimetype": "text/x-python",
   "name": "python",
   "nbconvert_exporter": "python",
   "pygments_lexer": "ipython3",
   "version": "3.7.3"
  }
 },
 "nbformat": 4,
 "nbformat_minor": 2
}

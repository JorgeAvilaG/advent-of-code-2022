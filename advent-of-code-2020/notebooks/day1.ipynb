{
 "cells": [
  {
   "cell_type": "code",
   "execution_count": 10,
   "metadata": {},
   "outputs": [],
   "source": [
    "import numpy as np\n",
    "f = open(\"../data/day1.txt\", \"r\")"
   ]
  },
  {
   "cell_type": "code",
   "execution_count": 11,
   "metadata": {},
   "outputs": [],
   "source": [
    "data = list(f)\n",
    "data = [int(item.strip()) for item in data]"
   ]
  },
  {
   "cell_type": "code",
   "execution_count": 12,
   "metadata": {},
   "outputs": [
    {
     "name": "stdout",
     "output_type": "stream",
     "text": [
      "976 1044 1018944\n",
      "1044 976 1018944\n"
     ]
    }
   ],
   "source": [
    "# Part 1\n",
    "for i in data:\n",
    "    for j in data:\n",
    "        if i + j == 2020:\n",
    "            print(i,j,i*j)"
   ]
  },
  {
   "cell_type": "code",
   "execution_count": 14,
   "metadata": {},
   "outputs": [
    {
     "name": "stdout",
     "output_type": "stream",
     "text": [
      "1692 312 16 8446464\n",
      "1692 16 312 8446464\n",
      "312 1692 16 8446464\n",
      "312 16 1692 8446464\n",
      "16 1692 312 8446464\n",
      "16 312 1692 8446464\n"
     ]
    }
   ],
   "source": [
    "# Part 2\n",
    "for i in data:\n",
    "    for j in data:\n",
    "        for v in data:\n",
    "            if i + j + v == 2020:\n",
    "                print(i,j,v,i*j*v)"
   ]
  },
  {
   "cell_type": "code",
   "execution_count": null,
   "metadata": {},
   "outputs": [],
   "source": []
  }
 ],
 "metadata": {
  "kernelspec": {
   "display_name": "Python 3",
   "language": "python",
   "name": "python3"
  },
  "language_info": {
   "codemirror_mode": {
    "name": "ipython",
    "version": 3
   },
   "file_extension": ".py",
   "mimetype": "text/x-python",
   "name": "python",
   "nbconvert_exporter": "python",
   "pygments_lexer": "ipython3",
   "version": "3.7.9"
  }
 },
 "nbformat": 4,
 "nbformat_minor": 4
}

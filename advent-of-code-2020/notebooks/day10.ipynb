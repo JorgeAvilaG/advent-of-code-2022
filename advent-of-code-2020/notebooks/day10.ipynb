{
 "cells": [
  {
   "cell_type": "code",
   "execution_count": 52,
   "metadata": {},
   "outputs": [],
   "source": [
    "import numpy as np\n",
    "f = open(\"../data/day10.txt\", \"r\")\n",
    "data = [int(line.strip()) for line in list(f)]"
   ]
  },
  {
   "cell_type": "code",
   "execution_count": 53,
   "metadata": {},
   "outputs": [
    {
     "name": "stdout",
     "output_type": "stream",
     "text": [
      "70 30 2170\n"
     ]
    }
   ],
   "source": [
    "# Part 1\n",
    "data = sorted(data)\n",
    "n1 = 0\n",
    "n3 = 0\n",
    "jolt = 0\n",
    "for j in data:\n",
    "    if j - jolt == 1:\n",
    "        n1 += 1\n",
    "    elif j-jolt == 3:\n",
    "        n3 += 1\n",
    "    jolt = j\n",
    "    \n",
    "print(n1,n3,n1*(n3+1))"
   ]
  },
  {
   "cell_type": "code",
   "execution_count": 50,
   "metadata": {},
   "outputs": [],
   "source": [
    "# part 2\n",
    "temp = [1,1,1,2]\n",
    "t0 = 4\n",
    "while t0 < 100:\n",
    "    temp.append(temp[t0-1]+temp[t0-2]+temp[t0-3])\n",
    "    t0+=1"
   ]
  },
  {
   "cell_type": "code",
   "execution_count": 65,
   "metadata": {},
   "outputs": [
    {
     "data": {
      "text/plain": [
       "24803586664192"
      ]
     },
     "execution_count": 65,
     "metadata": {},
     "output_type": "execute_result"
    }
   ],
   "source": [
    "n = 0\n",
    "tn = 1\n",
    "sol = 1\n",
    "for j in data:\n",
    "    if j-n == 1:\n",
    "        tn+=1\n",
    "    else:\n",
    "        sol*=temp[tn]\n",
    "        tn = 1\n",
    "    n = j\n",
    "\n",
    "sol*=temp[tn]    \n",
    "sol  "
   ]
  },
  {
   "cell_type": "code",
   "execution_count": null,
   "metadata": {},
   "outputs": [],
   "source": []
  },
  {
   "cell_type": "code",
   "execution_count": null,
   "metadata": {},
   "outputs": [],
   "source": []
  },
  {
   "cell_type": "code",
   "execution_count": null,
   "metadata": {},
   "outputs": [],
   "source": []
  },
  {
   "cell_type": "code",
   "execution_count": null,
   "metadata": {},
   "outputs": [],
   "source": []
  }
 ],
 "metadata": {
  "kernelspec": {
   "display_name": "Python 3",
   "language": "python",
   "name": "python3"
  },
  "language_info": {
   "codemirror_mode": {
    "name": "ipython",
    "version": 3
   },
   "file_extension": ".py",
   "mimetype": "text/x-python",
   "name": "python",
   "nbconvert_exporter": "python",
   "pygments_lexer": "ipython3",
   "version": "3.8.1"
  }
 },
 "nbformat": 4,
 "nbformat_minor": 4
}

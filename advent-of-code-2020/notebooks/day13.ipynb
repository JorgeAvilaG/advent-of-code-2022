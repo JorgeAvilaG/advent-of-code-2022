{
 "cells": [
  {
   "cell_type": "code",
   "execution_count": 7,
   "metadata": {},
   "outputs": [
    {
     "name": "stdout",
     "output_type": "stream",
     "text": [
      "1000391\n",
      "[19, 37, 383, 23, 13, 29, 457, 41, 17]\n"
     ]
    },
    {
     "data": {
      "text/plain": [
       "[16, 15, 5, 17, 11, 22, 439, 9, 8]"
      ]
     },
     "execution_count": 7,
     "metadata": {},
     "output_type": "execute_result"
    }
   ],
   "source": [
    "import numpy as np\n",
    "f = open(\"../data/day13.txt\", \"r\")\n",
    "num = int(f.readline().strip())\n",
    "data = f.readline().strip().split(',')\n",
    "data = [int(n) for n in data if n != 'x']\n",
    "print(num)\n",
    "print(data)\n",
    "[n-num%n for n in data]"
   ]
  },
  {
   "cell_type": "code",
   "execution_count": 8,
   "metadata": {},
   "outputs": [
    {
     "data": {
      "text/plain": [
       "1915"
      ]
     },
     "execution_count": 8,
     "metadata": {},
     "output_type": "execute_result"
    }
   ],
   "source": [
    "383*5"
   ]
  },
  {
   "cell_type": "code",
   "execution_count": 9,
   "metadata": {},
   "outputs": [],
   "source": [
    "# part 2\n",
    "f = open(\"../data/day13.txt\", \"r\")\n",
    "num = int(f.readline().strip())\n",
    "data = f.readline().strip().split(',')\n",
    "data = [int(n) if n != 'x' else n for n in data ]"
   ]
  },
  {
   "cell_type": "code",
   "execution_count": 10,
   "metadata": {},
   "outputs": [
    {
     "name": "stdout",
     "output_type": "stream",
     "text": [
      "[19, 37, 383, 23, 13, 29, 457, 41, 17]\n",
      "[0, 13, 19, 27, 32, 48, 50, 60, 67]\n"
     ]
    }
   ],
   "source": [
    "num =[]\n",
    "nx = []\n",
    "for i,x in enumerate(data):\n",
    "    if x != 'x':\n",
    "        num.append(x)\n",
    "        nx.append(i)\n",
    "print(num)\n",
    "print(nx)"
   ]
  },
  {
   "cell_type": "code",
   "execution_count": 6,
   "metadata": {},
   "outputs": [
    {
     "name": "stdout",
     "output_type": "stream",
     "text": [
      "11\n",
      "6893\n",
      "261971\n",
      "1239770\n",
      "30899673\n",
      "49795979778\n",
      "1678281428251\n",
      "15492330404953\n"
     ]
    },
    {
     "data": {
      "text/plain": [
       "294354277694107"
      ]
     },
     "execution_count": 6,
     "metadata": {},
     "output_type": "execute_result"
    }
   ],
   "source": [
    "n0 = num[0]\n",
    "ns = num[1:]\n",
    "xs = nx[1:]\n",
    "r1 = 0\n",
    "r2 = 1\n",
    "r3 = 1\n",
    "for i,n in enumerate(ns):\n",
    "    r3 = r2\n",
    "    r2*=n\n",
    "    for x in range(r1,r2,r3):              \n",
    "        if (n0*x+xs[i])%n == 0:\n",
    "            print(x)\n",
    "            r1 = x\n",
    "            break\n",
    "r1*n0"
   ]
  },
  {
   "cell_type": "code",
   "execution_count": null,
   "metadata": {},
   "outputs": [],
   "source": []
  }
 ],
 "metadata": {
  "kernelspec": {
   "display_name": "Python 3",
   "language": "python",
   "name": "python3"
  },
  "language_info": {
   "codemirror_mode": {
    "name": "ipython",
    "version": 3
   },
   "file_extension": ".py",
   "mimetype": "text/x-python",
   "name": "python",
   "nbconvert_exporter": "python",
   "pygments_lexer": "ipython3",
   "version": "3.8.1"
  }
 },
 "nbformat": 4,
 "nbformat_minor": 4
}

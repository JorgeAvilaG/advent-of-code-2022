{
 "cells": [
  {
   "cell_type": "code",
   "execution_count": 23,
   "metadata": {},
   "outputs": [],
   "source": [
    "import numpy as np\n",
    "f = open(\"../data/day14.txt\", \"r\")\n",
    "\n",
    "D = {}\n",
    "for line in f:\n",
    "    line = line.strip().split(' = ')\n",
    "    if line[0] == 'mask':\n",
    "        mask1 = '' \n",
    "        mask0 = ''\n",
    "        for car in line[1]:\n",
    "            if car == 'X':\n",
    "                mask1+='0'\n",
    "                mask0+='1'\n",
    "            else:\n",
    "                mask1+=car\n",
    "                mask0+=car\n",
    "        mask1 = int(mask1,2)\n",
    "        mask0 = int(mask0,2)\n",
    "    else:\n",
    "        mem = line[0][4:-1]\n",
    "        num = int(line[1])\n",
    "        D[mem] = (num | mask1) & mask0\n"
   ]
  },
  {
   "cell_type": "code",
   "execution_count": 24,
   "metadata": {},
   "outputs": [
    {
     "data": {
      "text/plain": [
       "11501064782628"
      ]
     },
     "execution_count": 24,
     "metadata": {},
     "output_type": "execute_result"
    }
   ],
   "source": [
    "sol = 0\n",
    "for item in D:\n",
    "    sol+=D[item]\n",
    "sol\n"
   ]
  },
  {
   "cell_type": "code",
   "execution_count": 60,
   "metadata": {},
   "outputs": [],
   "source": [
    "# part 2\n",
    "\n",
    "f = open(\"../data/day14.txt\", \"r\")\n",
    "\n",
    "D = {}\n",
    "for line in f:\n",
    "    line = line.strip().split(' = ')\n",
    "    \n",
    "    if line[0] == 'mask':      \n",
    "        masks = ['']\n",
    "        f_mask = ''\n",
    "        for car in line[1]:\n",
    "            if car == 'X':\n",
    "                f_mask += '0'\n",
    "                masks2 = []\n",
    "                for mask in masks:\n",
    "                    masks2.append(mask+'0')\n",
    "                    masks2.append(mask+'1')\n",
    "                masks = masks2.copy()\n",
    "            else:\n",
    "                f_mask += car \n",
    "                for i in range(len(masks)):\n",
    "                    masks[i] += '0'\n",
    "        f_mask = int(f_mask,2)\n",
    "        masks = [int(mask,2) for mask in masks]\n",
    "   \n",
    "    else:\n",
    "        mem = int(line[0][4:-1]) | f_mask\n",
    "        num = int(line[1])\n",
    "\n",
    "        for i in range(len(masks)):\n",
    "            \n",
    "            D[str(mem ^ masks[i])] = num\n",
    "\n",
    "\n"
   ]
  },
  {
   "cell_type": "code",
   "execution_count": 61,
   "metadata": {},
   "outputs": [
    {
     "data": {
      "text/plain": [
       "5142195937660"
      ]
     },
     "execution_count": 61,
     "metadata": {},
     "output_type": "execute_result"
    }
   ],
   "source": [
    "sol = 0\n",
    "for item in D:\n",
    "    sol+=D[item]\n",
    "sol\n"
   ]
  },
  {
   "cell_type": "code",
   "execution_count": null,
   "metadata": {},
   "outputs": [],
   "source": []
  }
 ],
 "metadata": {
  "kernelspec": {
   "display_name": "Python 3",
   "language": "python",
   "name": "python3"
  },
  "language_info": {
   "codemirror_mode": {
    "name": "ipython",
    "version": 3
   },
   "file_extension": ".py",
   "mimetype": "text/x-python",
   "name": "python",
   "nbconvert_exporter": "python",
   "pygments_lexer": "ipython3",
   "version": "3.8.1"
  }
 },
 "nbformat": 4,
 "nbformat_minor": 4
}

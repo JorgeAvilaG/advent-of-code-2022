{
 "cells": [
  {
   "cell_type": "code",
   "execution_count": 1,
   "metadata": {},
   "outputs": [],
   "source": [
    "import numpy as np\n",
    "f = open(\"../data/dayX.txt\", \"r\")"
   ]
  },
  {
   "cell_type": "code",
   "execution_count": 2,
   "metadata": {},
   "outputs": [],
   "source": [
    "for line in f:\n"
   ]
  },
  {
   "cell_type": "code",
   "execution_count": 15,
   "metadata": {},
   "outputs": [
    {
     "name": "stdout",
     "output_type": "stream",
     "text": [
      "2021 376\n"
     ]
    }
   ],
   "source": [
    "num = [5,1,9,18,13,8,0]\n",
    "D = {}\n",
    "for i,n in enumerate(num):\n",
    "    D[str(n)] = [i+1]\n",
    "#D['0'] = []    \n",
    "turn = len(num)+1\n",
    "last_n = str(num[-1])\n",
    "while turn <= 2020:\n",
    "    if len(D[last_n]) == 1:\n",
    "        D['0'].append(turn)\n",
    "        last_n = '0'\n",
    "    else:\n",
    "        last_n = str(D[last_n][-1] - D[last_n][-2])\n",
    "        #print(last_n,'a')\n",
    "        if last_n in D:\n",
    "            D[last_n].append(turn)\n",
    "        else:\n",
    "            D[last_n] = [turn]\n",
    "    turn += 1\n",
    "print(turn,last_n)\n"
   ]
  },
  {
   "cell_type": "code",
   "execution_count": 21,
   "metadata": {},
   "outputs": [
    {
     "name": "stdout",
     "output_type": "stream",
     "text": [
      "30000001 323780\n"
     ]
    }
   ],
   "source": [
    "# part 2\n",
    "t = 30000000   #30000000\n",
    "\n",
    "num = [5,1,9,18,13,8,0]\n",
    "D = {}\n",
    "for i,n in enumerate(num):\n",
    "    D[str(n)] = [i+1]\n",
    "#D['0'] = []    \n",
    "turn = len(num)+1\n",
    "last_n = str(num[-1])\n",
    "while turn <= t:\n",
    "    if len(D[last_n]) == 1:\n",
    "        D['0'].append(turn)\n",
    "        last_n = '0'\n",
    "    else:\n",
    "        last_n = str(D[last_n][-1] - D[last_n][-2])\n",
    "        #print(last_n,'a')\n",
    "        if last_n in D:\n",
    "            D[last_n].append(turn)\n",
    "        else:\n",
    "            D[last_n] = [turn]\n",
    "    turn += 1\n",
    "print(turn,last_n)"
   ]
  },
  {
   "cell_type": "code",
   "execution_count": null,
   "metadata": {},
   "outputs": [],
   "source": []
  }
 ],
 "metadata": {
  "kernelspec": {
   "display_name": "Python 3",
   "language": "python",
   "name": "python3"
  },
  "language_info": {
   "codemirror_mode": {
    "name": "ipython",
    "version": 3
   },
   "file_extension": ".py",
   "mimetype": "text/x-python",
   "name": "python",
   "nbconvert_exporter": "python",
   "pygments_lexer": "ipython3",
   "version": "3.8.1"
  }
 },
 "nbformat": 4,
 "nbformat_minor": 4
}

{
 "cells": [
  {
   "cell_type": "code",
   "execution_count": 20,
   "metadata": {},
   "outputs": [],
   "source": [
    "import numpy as np\n",
    "f = open(\"../data/day16.txt\", \"r\")\n",
    "\n",
    "D ={}\n",
    "tickets = []\n",
    "for i,line in enumerate(f):\n",
    "    if i<20:\n",
    "        temp = [x.split('-') for x in line.strip().split(': ')[1].split(' or ')]\n",
    "        temp = [int(i) for item in temp for i in item]\n",
    "        D[line.split(': ')[0]] = temp\n",
    "    elif i == 22:\n",
    "        my_t = [int(item) for item in line.strip().split(',')]\n",
    "    elif i > 24:\n",
    "        tickets.append([int(item) for item in line.strip().split(',')])\n",
    "        \n",
    "      "
   ]
  },
  {
   "cell_type": "code",
   "execution_count": 34,
   "metadata": {},
   "outputs": [
    {
     "data": {
      "text/plain": [
       "{'departure location': [47, 164, 179, 960],\n",
       " 'departure station': [49, 808, 833, 968],\n",
       " 'departure platform': [50, 561, 567, 964],\n",
       " 'departure track': [29, 407, 416, 954],\n",
       " 'departure date': [48, 317, 339, 965],\n",
       " 'departure time': [42, 366, 390, 952],\n",
       " 'arrival location': [45, 292, 304, 974],\n",
       " 'arrival station': [26, 255, 266, 951],\n",
       " 'arrival platform': [47, 225, 243, 957],\n",
       " 'arrival track': [37, 442, 452, 954],\n",
       " 'class': [35, 120, 127, 958],\n",
       " 'duration': [47, 642, 659, 972],\n",
       " 'price': [39, 509, 535, 962],\n",
       " 'route': [47, 705, 729, 962],\n",
       " 'row': [49, 480, 494, 959],\n",
       " 'seat': [28, 846, 865, 969],\n",
       " 'train': [30, 598, 606, 968],\n",
       " 'type': [42, 905, 924, 965],\n",
       " 'wagon': [29, 884, 899, 973],\n",
       " 'zone': [39, 790, 803, 969]}"
      ]
     },
     "execution_count": 34,
     "metadata": {},
     "output_type": "execute_result"
    }
   ],
   "source": [
    "D"
   ]
  },
  {
   "cell_type": "code",
   "execution_count": 39,
   "metadata": {},
   "outputs": [],
   "source": [
    "def ruler(r,number):\n",
    "    tem = D[r]\n",
    "    if (number >= tem[0] and number <=tem[1]) or (number >= tem[2] and number <=tem[3]):\n",
    "        return True\n",
    "    else:\n",
    "        return False"
   ]
  },
  {
   "cell_type": "code",
   "execution_count": 43,
   "metadata": {},
   "outputs": [
    {
     "data": {
      "text/plain": [
       "27802"
      ]
     },
     "execution_count": 43,
     "metadata": {},
     "output_type": "execute_result"
    }
   ],
   "source": [
    "invalid = 0\n",
    "for t in tickets:\n",
    "    for number in t:\n",
    "        if not sum([ruler(rule,number) for rule in D]):\n",
    "            invalid += number\n",
    "    \n",
    "invalid    \n",
    "    \n",
    "\n"
   ]
  },
  {
   "cell_type": "code",
   "execution_count": 140,
   "metadata": {},
   "outputs": [],
   "source": [
    "# part 2\n",
    "not_v = set()\n",
    "for i,t in enumerate(tickets):\n",
    "    for number in t:\n",
    "        if not sum([ruler(rule,number) for rule in D]):\n",
    "            not_v.add(i)\n",
    "            break\n",
    "\n",
    "gts = []\n",
    "for i,t in enumerate(tickets):\n",
    "    if i not in not_v:\n",
    "        gts.append(t)\n"
   ]
  },
  {
   "cell_type": "code",
   "execution_count": 141,
   "metadata": {},
   "outputs": [],
   "source": [
    "temp = [[] for _ in range(len(gts[0]))]\n",
    "for t in gts:\n",
    "    for i,number in enumerate(t):\n",
    "\n",
    "        temp[i].append(set([rule for rule in D if ruler(rule,number)]))\n",
    "reduced_temp = []        \n",
    "for item in temp:\n",
    "    reduced_temp.append(set.intersection(*item))\n",
    "    "
   ]
  },
  {
   "cell_type": "code",
   "execution_count": 142,
   "metadata": {},
   "outputs": [
    {
     "name": "stdout",
     "output_type": "stream",
     "text": [
      "12 {'arrival station'}\n",
      "4 {'train'}\n",
      "15 {'duration'}\n",
      "7 {'route'}\n",
      "0 {'wagon'}\n",
      "2 {'zone'}\n",
      "19 {'class'}\n",
      "18 {'arrival track'}\n",
      "10 {'arrival platform'}\n",
      "8 {'departure time'}\n",
      "17 {'departure date'}\n",
      "14 {'departure platform'}\n",
      "11 {'departure track'}\n",
      "1 {'departure location'}\n",
      "6 {'departure station'}\n",
      "9 {'price'}\n",
      "16 {'seat'}\n",
      "5 {'type'}\n",
      "13 {'arrival location'}\n",
      "3 {'row'}\n"
     ]
    },
    {
     "ename": "KeyboardInterrupt",
     "evalue": "",
     "output_type": "error",
     "traceback": [
      "\u001b[1;31m---------------------------------------------------------------------------\u001b[0m",
      "\u001b[1;31mKeyboardInterrupt\u001b[0m                         Traceback (most recent call last)",
      "\u001b[1;32m<ipython-input-142-14f43613be96>\u001b[0m in \u001b[0;36m<module>\u001b[1;34m\u001b[0m\n\u001b[0;32m     12\u001b[0m             \u001b[1;32mbreak\u001b[0m\u001b[1;33m\u001b[0m\u001b[1;33m\u001b[0m\u001b[0m\n\u001b[0;32m     13\u001b[0m     \u001b[1;32mfor\u001b[0m \u001b[0mtt\u001b[0m \u001b[1;32min\u001b[0m \u001b[0mreduced_temp\u001b[0m\u001b[1;33m:\u001b[0m\u001b[1;33m\u001b[0m\u001b[1;33m\u001b[0m\u001b[0m\n\u001b[1;32m---> 14\u001b[1;33m         \u001b[0mtt\u001b[0m \u001b[1;33m-=\u001b[0m \u001b[0mto_delete\u001b[0m\u001b[1;33m\u001b[0m\u001b[1;33m\u001b[0m\u001b[0m\n\u001b[0m",
      "\u001b[1;31mKeyboardInterrupt\u001b[0m: "
     ]
    }
   ],
   "source": [
    "T = {}\n",
    "\n",
    "while True:\n",
    "    for i,t in enumerate(reduced_temp):\n",
    "\n",
    "        if len(t) == 1:\n",
    "            \n",
    "            print(i,t)\n",
    "            to_delete = t.copy()\n",
    "            for item in t:\n",
    "                T[item] = i\n",
    "            break\n",
    "    for tt in reduced_temp:\n",
    "        tt -= to_delete"
   ]
  },
  {
   "cell_type": "code",
   "execution_count": 145,
   "metadata": {},
   "outputs": [
    {
     "data": {
      "text/plain": [
       "279139880759"
      ]
     },
     "execution_count": 145,
     "metadata": {},
     "output_type": "execute_result"
    }
   ],
   "source": [
    "sol = 1\n",
    "for pos in T:\n",
    "    if 'departure' in pos:\n",
    "        i = T[pos]\n",
    "        sol*=my_t[i]\n",
    "sol\n"
   ]
  }
 ],
 "metadata": {
  "kernelspec": {
   "display_name": "Python 3",
   "language": "python",
   "name": "python3"
  },
  "language_info": {
   "codemirror_mode": {
    "name": "ipython",
    "version": 3
   },
   "file_extension": ".py",
   "mimetype": "text/x-python",
   "name": "python",
   "nbconvert_exporter": "python",
   "pygments_lexer": "ipython3",
   "version": "3.8.1"
  }
 },
 "nbformat": 4,
 "nbformat_minor": 4
}

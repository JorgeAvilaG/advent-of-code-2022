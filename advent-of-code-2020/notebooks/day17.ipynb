{
 "cells": [
  {
   "cell_type": "code",
   "execution_count": 1,
   "metadata": {},
   "outputs": [
    {
     "data": {
      "text/plain": [
       "(15, 22, 22)"
      ]
     },
     "execution_count": 1,
     "metadata": {},
     "output_type": "execute_result"
    }
   ],
   "source": [
    "import numpy as np\n",
    "data = \"\"\".###..#.\n",
    "##.##...\n",
    "....#.#.\n",
    "#..#.###\n",
    "...#...#\n",
    "##.#...#\n",
    "#..##.##\n",
    "#.......\"\"\"\n",
    "\n",
    "n = 7\n",
    "m = n*2+8\n",
    "data = [list(line) for line in data.split('\\n')]\n",
    "data = [[1 if c == '#' else 0 for c in line] for line in data]\n",
    "data = [[0]*n+line+[0]*n for line in data]\n",
    "data = [[0]*m]*n + data + [[0]*m]*n\n",
    "\n",
    "temp = [[0]*(m) for _ in range(m)]\n",
    "data = [temp]*n + [data] + [temp]*n\n",
    "data = np.array(data)\n",
    "data.shape"
   ]
  },
  {
   "cell_type": "code",
   "execution_count": 2,
   "metadata": {},
   "outputs": [],
   "source": [
    "def action(x,y,z):\n",
    "    p = [-1,0,+1]\n",
    "    if data[x,y,z] == 1:\n",
    "        total = -1\n",
    "        for i in p:\n",
    "            for ii in p:\n",
    "                for iii in p:\n",
    "                    if data[x+i,y+ii,z+iii] == 1:\n",
    "                        total += 1\n",
    "        if total == 2 or total == 3:\n",
    "            return 1\n",
    "        else:\n",
    "            return 0\n",
    "    else:\n",
    "        total = 0\n",
    "        for i in p:\n",
    "            for ii in p:\n",
    "                for iii in p:\n",
    "                    if data[x+i,y+ii,z+iii] == 1:\n",
    "                        total += 1\n",
    "        if total == 3:\n",
    "            return 1\n",
    "        else:\n",
    "            return 0        "
   ]
  },
  {
   "cell_type": "code",
   "execution_count": 3,
   "metadata": {},
   "outputs": [
    {
     "data": {
      "text/plain": [
       "304"
      ]
     },
     "execution_count": 3,
     "metadata": {},
     "output_type": "execute_result"
    }
   ],
   "source": [
    "for _ in range(6):    \n",
    "    temp = np.zeros_like(data)\n",
    "    for x in range(1,data.shape[0]-1):\n",
    "        for y in range(1,data.shape[1]-1):\n",
    "            for z in range(1,data.shape[2]-1):\n",
    "                temp[x,y,z] = action(x,y,z)\n",
    "    data = temp.copy()            \n",
    "sum(sum(sum(temp)))"
   ]
  },
  {
   "cell_type": "code",
   "execution_count": 6,
   "metadata": {},
   "outputs": [
    {
     "data": {
      "text/plain": [
       "(8, 22, 22)"
      ]
     },
     "execution_count": 6,
     "metadata": {},
     "output_type": "execute_result"
    }
   ],
   "source": [
    "#part 1_2\n",
    "import numpy as np\n",
    "data = \"\"\".###..#.\n",
    "##.##...\n",
    "....#.#.\n",
    "#..#.###\n",
    "...#...#\n",
    "##.#...#\n",
    "#..##.##\n",
    "#.......\"\"\"\n",
    "\n",
    "n = 7\n",
    "m = n*2+8\n",
    "data = [list(line) for line in data.split('\\n')]\n",
    "data = [[1 if c == '#' else 0 for c in line] for line in data]\n",
    "data = [[0]*n+line+[0]*n for line in data]\n",
    "data = [[0]*m]*n + data + [[0]*m]*n\n",
    "\n",
    "temp = [[0]*(m) for _ in range(m)]\n",
    "data = [data]+ [temp]*n \n",
    "data = np.array(data)\n",
    "data.shape"
   ]
  },
  {
   "cell_type": "code",
   "execution_count": 7,
   "metadata": {},
   "outputs": [],
   "source": [
    "def action(x,y,z):\n",
    "    p = [-1,0,+1]\n",
    "    if data[x,y,z] == 1:\n",
    "        total = -1\n",
    "        for i in p:\n",
    "            for ii in p:\n",
    "                for iii in p:\n",
    "                    if data[abs(x+i),y+ii,z+iii] == 1:\n",
    "                        total += 1\n",
    "        if total == 2 or total == 3:\n",
    "            return 1\n",
    "        else:\n",
    "            return 0\n",
    "    else:\n",
    "        total = 0\n",
    "        for i in p:\n",
    "            for ii in p:\n",
    "                for iii in p:\n",
    "                    if data[abs(x+i),y+ii,z+iii] == 1:\n",
    "                        total += 1\n",
    "        if total == 3:\n",
    "            return 1\n",
    "        else:\n",
    "            return 0"
   ]
  },
  {
   "cell_type": "code",
   "execution_count": 8,
   "metadata": {},
   "outputs": [
    {
     "name": "stdout",
     "output_type": "stream",
     "text": [
      "27 0 0 0 0 0 0 0 \n",
      "33 22 0 0 0 0 0 0 \n",
      "13 13 14 0 0 0 0 0 \n",
      "16 32 23 11 0 0 0 0 \n",
      "26 27 32 14 7 0 0 0 \n",
      "22 34 39 41 14 8 0 0 \n"
     ]
    }
   ],
   "source": [
    "for _ in range(6):\n",
    "    for i in range(8):\n",
    "        print(sum(sum(data[i])),end= ' ')\n",
    "    print()\n",
    "        \n",
    "    temp = np.zeros_like(data)\n",
    "    for x in range(0,data.shape[0]-1):\n",
    "        for y in range(1,data.shape[1]-1):\n",
    "            for z in range(1,data.shape[2]-1):\n",
    "                temp[x,y,z] = action(x,y,z)\n",
    "    data = temp.copy()  \n",
    "    "
   ]
  },
  {
   "cell_type": "code",
   "execution_count": 9,
   "metadata": {},
   "outputs": [
    {
     "data": {
      "text/plain": [
       "304"
      ]
     },
     "execution_count": 9,
     "metadata": {},
     "output_type": "execute_result"
    }
   ],
   "source": [
    "sum(sum(sum(data)))*2-sum(sum(data[0]))"
   ]
  },
  {
   "cell_type": "code",
   "execution_count": 10,
   "metadata": {},
   "outputs": [
    {
     "data": {
      "text/plain": [
       "(8, 8, 22, 22)"
      ]
     },
     "execution_count": 10,
     "metadata": {},
     "output_type": "execute_result"
    }
   ],
   "source": [
    "#part 2\n",
    "import numpy as np\n",
    "data = \"\"\".###..#.\n",
    "##.##...\n",
    "....#.#.\n",
    "#..#.###\n",
    "...#...#\n",
    "##.#...#\n",
    "#..##.##\n",
    "#.......\"\"\"\n",
    "\n",
    "n = 7\n",
    "m = n*2+8\n",
    "data = [list(line) for line in data.split('\\n')]\n",
    "data = [[1 if c == '#' else 0 for c in line] for line in data]\n",
    "data = [[0]*n+line+[0]*n for line in data]\n",
    "data = [[0]*m]*n + data + [[0]*m]*n\n",
    "\n",
    "temp = [[0]*(m) for _ in range(m)]\n",
    "data = [data]+ [temp]*n\n",
    "\n",
    "temp = [[[0]*(m) for _ in range(m)]]*(n+1)\n",
    "data = [data]+ [temp]*n\n",
    "\n",
    "data = np.array(data)\n",
    "data.shape"
   ]
  },
  {
   "cell_type": "code",
   "execution_count": 11,
   "metadata": {},
   "outputs": [],
   "source": [
    "def action(x,y,z,w):\n",
    "    p = [-1,0,+1]\n",
    "    if data[x,y,z,w] == 1:\n",
    "        total = -1\n",
    "        for i in p:\n",
    "            for ii in p:\n",
    "                for iii in p:\n",
    "                    for iiii in p:\n",
    "                        if data[abs(x+i),abs(y+ii),z+iii,w+iiii] == 1:\n",
    "                            total += 1\n",
    "        if total == 2 or total == 3:\n",
    "            return 1\n",
    "        else:\n",
    "            return 0\n",
    "    else:\n",
    "        total = 0\n",
    "        for i in p:\n",
    "            for ii in p:\n",
    "                for iii in p:\n",
    "                    for iiii in p:\n",
    "                        if data[abs(x+i),abs(y+ii),z+iii,w+iiii] == 1:\n",
    "                            total += 1\n",
    "        if total == 3:\n",
    "            return 1\n",
    "        else:\n",
    "            return 0"
   ]
  },
  {
   "cell_type": "code",
   "execution_count": 12,
   "metadata": {},
   "outputs": [
    {
     "name": "stdout",
     "output_type": "stream",
     "text": [
      "27\n",
      "209\n",
      "185\n",
      "892\n",
      "556\n",
      "2824\n",
      "1868\n"
     ]
    }
   ],
   "source": [
    "for _ in range(6):\n",
    "    total = 0\n",
    "    for x in range(0,data.shape[0]):\n",
    "            for y in range(0,data.shape[1]):\n",
    "                for z in range(0,data.shape[2]):\n",
    "                    for w in range(0,data.shape[3]):\n",
    "                        if x==0 and y == 0:\n",
    "                            total += data[x,y,z,w]\n",
    "                        elif x == 0 or y == 0:\n",
    "                            total += data[x,y,z,w]*2\n",
    "                        else:\n",
    "                            total += data[x,y,z,w]*4\n",
    "    print(total)\n",
    "        \n",
    "    temp = np.zeros_like(data)\n",
    "    for x in range(0,data.shape[0]-1):\n",
    "        for y in range(0,data.shape[1]-1):\n",
    "            for z in range(1,data.shape[2]-1):\n",
    "                for w in range(1,data.shape[3]-1):\n",
    "                    temp[x,y,z,w] = action(x,y,z,w)\n",
    "    data = temp.copy()  \n",
    "\n",
    "#print solution   \n",
    "total = 0    \n",
    "for x in range(0,data.shape[0]):\n",
    "            for y in range(0,data.shape[1]):\n",
    "                for z in range(0,data.shape[2]):\n",
    "                    for w in range(0,data.shape[3]):\n",
    "                        if x==0 and y == 0:\n",
    "                            total += data[x,y,z,w]\n",
    "                        elif x == 0 or y == 0:\n",
    "                            total += data[x,y,z,w]*2\n",
    "                        else:\n",
    "                            total += data[x,y,z,w]*4\n",
    "print(total)\n",
    "    "
   ]
  },
  {
   "cell_type": "code",
   "execution_count": null,
   "metadata": {},
   "outputs": [],
   "source": []
  }
 ],
 "metadata": {
  "kernelspec": {
   "display_name": "Python 3",
   "language": "python",
   "name": "python3"
  },
  "language_info": {
   "codemirror_mode": {
    "name": "ipython",
    "version": 3
   },
   "file_extension": ".py",
   "mimetype": "text/x-python",
   "name": "python",
   "nbconvert_exporter": "python",
   "pygments_lexer": "ipython3",
   "version": "3.8.1"
  }
 },
 "nbformat": 4,
 "nbformat_minor": 4
}

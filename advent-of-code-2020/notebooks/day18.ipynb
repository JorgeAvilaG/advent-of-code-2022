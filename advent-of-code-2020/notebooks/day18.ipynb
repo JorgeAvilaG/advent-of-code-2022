{
 "cells": [
  {
   "cell_type": "code",
   "execution_count": 1,
   "metadata": {},
   "outputs": [],
   "source": [
    "def gen_data(data):\n",
    "    num = '1234567890'\n",
    "    extra = '+*()'\n",
    "    nums = []\n",
    "    for car in list(data):\n",
    "        if car in num:\n",
    "            nums.append(car)\n",
    "        if car in extra:\n",
    "            nums.append(car)\n",
    "    return nums\n"
   ]
  },
  {
   "cell_type": "code",
   "execution_count": 2,
   "metadata": {},
   "outputs": [],
   "source": [
    "def ej1(pos):\n",
    "    opp = None\n",
    "    while pos < len(nums):\n",
    "        if nums[pos] == '(':\n",
    "            if opp == None:\n",
    "                temp,pos = ej1(pos+1)\n",
    "            elif opp == '*':\n",
    "                a,pos=ej1(pos+1)\n",
    "                temp*=a\n",
    "                opp = None\n",
    "            elif opp == '+':\n",
    "                a,pos=ej1(pos+1)\n",
    "                temp+=a\n",
    "                opp = None \n",
    "        elif nums[pos] == ')':\n",
    "            return temp,pos\n",
    "        elif nums[pos] in '*+':\n",
    "            opp = nums[pos]\n",
    "        elif nums[pos].isnumeric():\n",
    "            if opp == None:\n",
    "                temp = int(nums[pos])\n",
    "            elif opp == '*':\n",
    "                temp*=int(nums[pos])\n",
    "                opp = None\n",
    "            elif opp == '+':\n",
    "                temp+=int(nums[pos])\n",
    "                opp = None\n",
    "        pos += 1\n",
    "        #print(temp)\n",
    "    return temp\n",
    "            \n"
   ]
  },
  {
   "cell_type": "code",
   "execution_count": 4,
   "metadata": {},
   "outputs": [
    {
     "data": {
      "text/plain": [
       "202553439706"
      ]
     },
     "execution_count": 4,
     "metadata": {},
     "output_type": "execute_result"
    }
   ],
   "source": [
    "\n",
    "f = open(\"../data/day18.txt\", \"r\")\n",
    "temp = [line.strip() for line in list(f)]\n",
    "temp = [gen_data(line) for line in temp]\n",
    "\n",
    "sol = 0\n",
    "for line in temp:\n",
    "    #print(line)\n",
    "    nums = line\n",
    "    sol+= ej1(0)\n",
    "sol"
   ]
  },
  {
   "cell_type": "code",
   "execution_count": 65,
   "metadata": {},
   "outputs": [],
   "source": [
    "## Par2\n",
    "\n",
    "def sums(ecu):\n",
    "    for n,x in enumerate(ecu):\n",
    "        if x == '+':\n",
    "            result = [int(ecu[n-1]) + int(ecu[n+1])]\n",
    "            if n == 1:\n",
    "                return result+ecu[n+2:]\n",
    "            return ecu[:n-1]+result+ecu[n+2:]\n",
    "        \n",
    "def mults(ecu):\n",
    "    for n,x in enumerate(ecu):\n",
    "        if x == '*':\n",
    "            result = [int(ecu[n-1]) * int(ecu[n+1])]\n",
    "            if n == 1:\n",
    "                return result+ecu[n+2:]\n",
    "            return ecu[:n-1]+result+ecu[n+2:]\n",
    "\n",
    "def find_p(ecu):\n",
    "    init = False\n",
    "    end = False\n",
    "    counter = 0\n",
    "    for n,x in enumerate(ecu):\n",
    "        if x == '(' and counter == 0:\n",
    "            counter += 1\n",
    "            init = n\n",
    "        elif x == '(':\n",
    "            counter +=1\n",
    "        elif x == ')' and counter == 1:\n",
    "            end = n\n",
    "            break\n",
    "        elif x == ')':\n",
    "            counter -=1\n",
    "    return init,end\n",
    "      \n",
    "def solving(ej):\n",
    "    while '(' in ej:\n",
    "        init,end = find_p(ej)\n",
    "        ej = ej[:init]+solving(ej[init+1:end])+ej[end+1:]\n",
    "        pass\n",
    "    while len(ej) > 1:\n",
    "        while '+' in ej:\n",
    "            ej = sums(ej)\n",
    "        while '*' in ej:\n",
    "            ej = mults(ej)\n",
    "    return ej\n",
    "        \n",
    "          "
   ]
  },
  {
   "cell_type": "code",
   "execution_count": 86,
   "metadata": {},
   "outputs": [
    {
     "data": {
      "text/plain": [
       "[23340]"
      ]
     },
     "execution_count": 86,
     "metadata": {},
     "output_type": "execute_result"
    }
   ],
   "source": [
    "ej = '((2 + 4 * 9) * (6 + 9 * 8 + 6) + 6) + 2 + 4 * 2'\n",
    "ej = ej.replace(' ','')\n",
    "ej = list(ej)\n",
    "solving(ej)"
   ]
  },
  {
   "cell_type": "code",
   "execution_count": 88,
   "metadata": {},
   "outputs": [
    {
     "data": {
      "text/plain": [
       "88534268715686"
      ]
     },
     "execution_count": 88,
     "metadata": {},
     "output_type": "execute_result"
    }
   ],
   "source": [
    "f = open(\"../data/day18.txt\", \"r\")\n",
    "temp = [line.strip() for line in list(f)]\n",
    "temp = [line.replace(' ','') for line in temp]\n",
    "\n",
    "sol = 0\n",
    "for line in temp:\n",
    "    sol+= solving(list(line))[0]\n",
    "sol"
   ]
  }
 ],
 "metadata": {
  "kernelspec": {
   "display_name": "Python 3",
   "language": "python",
   "name": "python3"
  },
  "language_info": {
   "codemirror_mode": {
    "name": "ipython",
    "version": 3
   },
   "file_extension": ".py",
   "mimetype": "text/x-python",
   "name": "python",
   "nbconvert_exporter": "python",
   "pygments_lexer": "ipython3",
   "version": "3.7.9"
  }
 },
 "nbformat": 4,
 "nbformat_minor": 4
}

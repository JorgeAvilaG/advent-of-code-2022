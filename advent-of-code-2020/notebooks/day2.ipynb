{
 "cells": [
  {
   "cell_type": "code",
   "execution_count": 17,
   "metadata": {},
   "outputs": [],
   "source": [
    "import numpy as np\n",
    "\n",
    "f = open(\"../data/day2.txt\", \"r\")"
   ]
  },
  {
   "cell_type": "code",
   "execution_count": 18,
   "metadata": {},
   "outputs": [],
   "source": [
    "passw = []\n",
    "letter = []\n",
    "minn = []\n",
    "maxn = []\n",
    "for line in f:\n",
    "    a, b = line.strip().split(\":\")\n",
    "    passw.append(b.strip())\n",
    "    c, d = a.split(\" \")\n",
    "    letter.append(d)\n",
    "    e, f = c.split(\"-\")\n",
    "    minn.append(int(e))\n",
    "    maxn.append(int(f))"
   ]
  },
  {
   "cell_type": "code",
   "execution_count": 22,
   "metadata": {},
   "outputs": [
    {
     "name": "stdout",
     "output_type": "stream",
     "text": [
      "655\n"
     ]
    }
   ],
   "source": [
    "# Part 1\n",
    "sol = 0\n",
    "for i, p in enumerate(passw):\n",
    "    counter = 0\n",
    "    for l in p:\n",
    "        if l == letter[i]:\n",
    "            counter += 1\n",
    "    if counter >= minn[i] and counter <= maxn[i]:\n",
    "        sol += 1\n",
    "print(sol)"
   ]
  },
  {
   "cell_type": "code",
   "execution_count": 23,
   "metadata": {},
   "outputs": [],
   "source": [
    "# Part 2\n",
    "sol = 0\n",
    "for i, p in enumerate(passw):\n",
    "    if (p[minn[i] - 1] == letter[i] and not p[maxn[i] - 1] == letter[i]) or (\n",
    "        not p[minn[i] - 1] == letter[i] and p[maxn[i] - 1] == letter[i]\n",
    "    ):\n",
    "        sol += 1"
   ]
  },
  {
   "cell_type": "code",
   "execution_count": 24,
   "metadata": {},
   "outputs": [
    {
     "data": {
      "text/plain": [
       "673"
      ]
     },
     "execution_count": 24,
     "metadata": {},
     "output_type": "execute_result"
    }
   ],
   "source": [
    "sol"
   ]
  },
  {
   "cell_type": "code",
   "execution_count": null,
   "metadata": {},
   "outputs": [],
   "source": []
  }
 ],
 "metadata": {
  "kernelspec": {
   "display_name": "Python 3",
   "language": "python",
   "name": "python3"
  },
  "language_info": {
   "codemirror_mode": {
    "name": "ipython",
    "version": 3
   },
   "file_extension": ".py",
   "mimetype": "text/x-python",
   "name": "python",
   "nbconvert_exporter": "python",
   "pygments_lexer": "ipython3",
   "version": "3.8.1"
  }
 },
 "nbformat": 4,
 "nbformat_minor": 4
}

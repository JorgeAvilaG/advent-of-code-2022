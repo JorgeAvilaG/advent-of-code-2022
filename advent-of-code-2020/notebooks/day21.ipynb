{
 "cells": [
  {
   "cell_type": "code",
   "execution_count": 77,
   "metadata": {},
   "outputs": [],
   "source": [
    "f = open(\"../data/day21.txt\", \"r\")\n",
    "data = [line.strip() for line in list(f)]\n",
    "data = [line.split('(contains ') for line in data]\n",
    "data = [[set(line[0].strip().split()),set(line[1][0:-1].split(', '))] for line in data]\n"
   ]
  },
  {
   "cell_type": "code",
   "execution_count": 78,
   "metadata": {},
   "outputs": [
    {
     "data": {
      "text/plain": [
       "{'dairy', 'eggs', 'fish', 'nuts', 'peanuts', 'sesame', 'shellfish', 'soy'}"
      ]
     },
     "execution_count": 78,
     "metadata": {},
     "output_type": "execute_result"
    }
   ],
   "source": [
    "allergens = set() \n",
    "for x in data:\n",
    "    for item in x[1]:\n",
    "        allergens.add(item)\n",
    "\n",
    "done_allergens = []\n",
    "allergern_ingredient = []\n",
    "allergens"
   ]
  },
  {
   "cell_type": "code",
   "execution_count": 83,
   "metadata": {},
   "outputs": [],
   "source": [
    "#repetir ejecucion varias veces\n",
    "for allergen in done_allergens:\n",
    "    allergens.remove(allergen)\n",
    "done_allergens = []\n",
    "for allergen in allergens:\n",
    "    prev = set()\n",
    "    for x in data:\n",
    "        if allergen in x[1]:\n",
    "            if len(prev) == 0:\n",
    "                prev = x[0]\n",
    "            else:    \n",
    "                prev = prev.intersection(x[0])\n",
    "    print(allergen,prev)\n",
    "    if len(prev) == 1: \n",
    "        done_allergens.append(allergen)\n",
    "        bad_i = prev.pop()\n",
    "        allergern_ingredient.append((allergen,bad_i))\n",
    "        for x in data:\n",
    "            if bad_i in x[0]:\n",
    "                x[0].remove(bad_i)\n",
    "    \n",
    "            \n",
    "            \n",
    "\n",
    "    "
   ]
  },
  {
   "cell_type": "code",
   "execution_count": 84,
   "metadata": {},
   "outputs": [
    {
     "name": "stdout",
     "output_type": "stream",
     "text": [
      "2282\n"
     ]
    }
   ],
   "source": [
    "sol = 0\n",
    "for x in data:\n",
    "    sol += len(x[0])\n",
    "print(sol)"
   ]
  },
  {
   "cell_type": "code",
   "execution_count": 85,
   "metadata": {},
   "outputs": [
    {
     "data": {
      "text/plain": [
       "[('shellfish', 'rkzqs'),\n",
       " ('fish', 'hphcb'),\n",
       " ('peanuts', 'vzzxl'),\n",
       " ('sesame', 'ctmzsr'),\n",
       " ('soy', 'zmhnj'),\n",
       " ('eggs', 'zjsh'),\n",
       " ('dairy', 'vrzkz'),\n",
       " ('nuts', 'mbdksj')]"
      ]
     },
     "execution_count": 85,
     "metadata": {},
     "output_type": "execute_result"
    }
   ],
   "source": [
    "# part 2\n",
    "allergern_ingredient"
   ]
  },
  {
   "cell_type": "code",
   "execution_count": 87,
   "metadata": {},
   "outputs": [],
   "source": [
    "allergern_ingredient.sort()"
   ]
  },
  {
   "cell_type": "code",
   "execution_count": 88,
   "metadata": {},
   "outputs": [
    {
     "data": {
      "text/plain": [
       "[('dairy', 'vrzkz'),\n",
       " ('eggs', 'zjsh'),\n",
       " ('fish', 'hphcb'),\n",
       " ('nuts', 'mbdksj'),\n",
       " ('peanuts', 'vzzxl'),\n",
       " ('sesame', 'ctmzsr'),\n",
       " ('shellfish', 'rkzqs'),\n",
       " ('soy', 'zmhnj')]"
      ]
     },
     "execution_count": 88,
     "metadata": {},
     "output_type": "execute_result"
    }
   ],
   "source": [
    "allergern_ingredient"
   ]
  },
  {
   "cell_type": "code",
   "execution_count": 91,
   "metadata": {},
   "outputs": [],
   "source": [
    "sol = ''\n",
    "for x in allergern_ingredient:\n",
    "    sol+=x[1]+','"
   ]
  },
  {
   "cell_type": "code",
   "execution_count": 92,
   "metadata": {},
   "outputs": [
    {
     "data": {
      "text/plain": [
       "'vrzkz,zjsh,hphcb,mbdksj,vzzxl,ctmzsr,rkzqs,zmhnj,'"
      ]
     },
     "execution_count": 92,
     "metadata": {},
     "output_type": "execute_result"
    }
   ],
   "source": [
    "sol"
   ]
  },
  {
   "cell_type": "code",
   "execution_count": null,
   "metadata": {},
   "outputs": [],
   "source": []
  }
 ],
 "metadata": {
  "kernelspec": {
   "display_name": "Python 3",
   "language": "python",
   "name": "python3"
  },
  "language_info": {
   "codemirror_mode": {
    "name": "ipython",
    "version": 3
   },
   "file_extension": ".py",
   "mimetype": "text/x-python",
   "name": "python",
   "nbconvert_exporter": "python",
   "pygments_lexer": "ipython3",
   "version": "3.7.9"
  }
 },
 "nbformat": 4,
 "nbformat_minor": 4
}

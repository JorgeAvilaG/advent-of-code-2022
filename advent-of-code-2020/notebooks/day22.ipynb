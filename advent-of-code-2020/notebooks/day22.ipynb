{
 "cells": [
  {
   "cell_type": "code",
   "execution_count": 32,
   "metadata": {},
   "outputs": [],
   "source": [
    "f = open(\"../data/day22.txt\", \"r\")\n",
    "data = [line.strip() for line in list(f)]\n",
    "player1 = []\n",
    "player2 = []\n",
    "temp = True\n",
    "for line in data:\n",
    "    if line == 'Player 2:':\n",
    "        temp = False\n",
    "    elif line == 'Player 1:' or line == '':\n",
    "        pass\n",
    "    elif temp:\n",
    "        player1.append(int(line))\n",
    "    else:\n",
    "        player2.append(int(line))\n",
    "\n",
    "from collections import deque\n",
    "player1 = deque(player1)\n",
    "player2 = deque(player2)    "
   ]
  },
  {
   "cell_type": "code",
   "execution_count": 20,
   "metadata": {},
   "outputs": [],
   "source": [
    "def round1():\n",
    "    card1 = player1.popleft()\n",
    "    card2 = player2.popleft()\n",
    "    if card1 > card2:\n",
    "        player1.append(card1)\n",
    "        player1.append(card2)\n",
    "    else:\n",
    "        player2.append(card2)\n",
    "        player2.append(card1)"
   ]
  },
  {
   "cell_type": "code",
   "execution_count": 12,
   "metadata": {},
   "outputs": [],
   "source": [
    "while len(player1) > 0 and len(player2) > 0:\n",
    "    round1()"
   ]
  },
  {
   "cell_type": "code",
   "execution_count": 16,
   "metadata": {},
   "outputs": [
    {
     "data": {
      "text/plain": [
       "50"
      ]
     },
     "execution_count": 16,
     "metadata": {},
     "output_type": "execute_result"
    }
   ],
   "source": [
    "len(player1)"
   ]
  },
  {
   "cell_type": "code",
   "execution_count": 17,
   "metadata": {},
   "outputs": [
    {
     "data": {
      "text/plain": [
       "29764"
      ]
     },
     "execution_count": 17,
     "metadata": {},
     "output_type": "execute_result"
    }
   ],
   "source": [
    "value = len(player1)\n",
    "sol = 0\n",
    "for card in player1:\n",
    "    sol += card*value\n",
    "    value-=1\n",
    "sol"
   ]
  },
  {
   "cell_type": "markdown",
   "metadata": {},
   "source": [
    "### part 2\n",
    "34272 too hight"
   ]
  },
  {
   "cell_type": "code",
   "execution_count": 138,
   "metadata": {},
   "outputs": [],
   "source": [
    "def game(desk1, desk2, Game):\n",
    "    prev_rounds1 = set()\n",
    "    prev_rounds2 = set()\n",
    "    while True:\n",
    "        #print(Game)\n",
    "        #print('P1----',desk1)\n",
    "        #print('P2----',desk2)\n",
    "        if str(desk1) in prev_rounds1 or str(desk2) in prev_rounds2:\n",
    "            #print(\"ojo\")\n",
    "            #print(prev_rounds)\n",
    "            return 'Player1',desk1 #win player1\n",
    "        \n",
    "        else:\n",
    "            prev_rounds1.add(str(desk1))\n",
    "            prev_rounds2.add(str(desk2))\n",
    "\n",
    "        \n",
    "        card1 = desk1.popleft()\n",
    "        card2 = desk2.popleft()\n",
    "        \n",
    "        if len(desk1) >= card1 and len(desk2) >= card2:\n",
    "\n",
    "            result = game(deque(list(desk1)[:card1]),deque(list(desk2)[:card2]),Game+1)\n",
    "            if result[0] == 'Player1':\n",
    "                desk1.append(card1)\n",
    "                desk1.append(card2)\n",
    "            elif result[0] == 'Player2':\n",
    "            \n",
    "                desk2.append(card2)\n",
    "                desk2.append(card1)\n",
    "            else:\n",
    "                print('aaaaaaaaaaaaaaaaaaaa')\n",
    "                \n",
    "            \n",
    "        else:\n",
    "            if card1 > card2:\n",
    "                desk1.append(card1)\n",
    "                desk1.append(card2)\n",
    "            else:\n",
    "                desk2.append(card2)\n",
    "                desk2.append(card1)\n",
    "        if len(desk1) == 0:\n",
    "            return 'Player2', desk2\n",
    "        elif len(desk2) == 0:\n",
    "            return 'Player1', desk1\n"
   ]
  },
  {
   "cell_type": "code",
   "execution_count": 139,
   "metadata": {},
   "outputs": [],
   "source": [
    "f = open(\"../data/day22.txt\", \"r\")\n",
    "data = [line.strip() for line in list(f)]\n",
    "player1 = []\n",
    "player2 = []\n",
    "temp = True\n",
    "for line in data:\n",
    "    if line == 'Player 2:':\n",
    "        temp = False\n",
    "    elif line == 'Player 1:' or line == '':\n",
    "        pass\n",
    "    elif temp:\n",
    "        player1.append(int(line))\n",
    "    else:\n",
    "        player2.append(int(line))\n",
    "\n",
    "from collections import deque\n",
    "player1 = deque(player1)\n",
    "player2 = deque(player2)"
   ]
  },
  {
   "cell_type": "code",
   "execution_count": 141,
   "metadata": {},
   "outputs": [],
   "source": [
    "a = game(player1, player2, 1)"
   ]
  },
  {
   "cell_type": "code",
   "execution_count": 115,
   "metadata": {},
   "outputs": [],
   "source": [
    "player1=deque([ 9, 2, 6, 3, 1])\n",
    "player2=deque([ 5, 8, 4, 7, 10])\n",
    "\n",
    "\n",
    "\n",
    "a = game(player1, player2,1)"
   ]
  },
  {
   "cell_type": "code",
   "execution_count": 142,
   "metadata": {},
   "outputs": [
    {
     "data": {
      "text/plain": [
       "('Player1',\n",
       " deque([2,\n",
       "        6,\n",
       "        48,\n",
       "        36,\n",
       "        24,\n",
       "        20,\n",
       "        44,\n",
       "        23,\n",
       "        7,\n",
       "        5,\n",
       "        49,\n",
       "        13,\n",
       "        43,\n",
       "        9,\n",
       "        45,\n",
       "        29,\n",
       "        31,\n",
       "        8,\n",
       "        40,\n",
       "        21,\n",
       "        30,\n",
       "        19,\n",
       "        46,\n",
       "        28,\n",
       "        32,\n",
       "        14,\n",
       "        39,\n",
       "        38,\n",
       "        22,\n",
       "        3,\n",
       "        17,\n",
       "        4,\n",
       "        15,\n",
       "        11,\n",
       "        50,\n",
       "        42,\n",
       "        34,\n",
       "        18,\n",
       "        47,\n",
       "        35,\n",
       "        41,\n",
       "        16,\n",
       "        37,\n",
       "        10,\n",
       "        33,\n",
       "        26,\n",
       "        27,\n",
       "        25,\n",
       "        12,\n",
       "        1]))"
      ]
     },
     "execution_count": 142,
     "metadata": {},
     "output_type": "execute_result"
    }
   ],
   "source": [
    "a"
   ]
  },
  {
   "cell_type": "code",
   "execution_count": 144,
   "metadata": {},
   "outputs": [
    {
     "data": {
      "text/plain": [
       "32588"
      ]
     },
     "execution_count": 144,
     "metadata": {},
     "output_type": "execute_result"
    }
   ],
   "source": [
    "value = len(a[1])\n",
    "sol = 0\n",
    "for card in a[1]:\n",
    "\n",
    "    sol += card*value\n",
    "    value-=1\n",
    "sol"
   ]
  }
 ],
 "metadata": {
  "kernelspec": {
   "display_name": "Python 3",
   "language": "python",
   "name": "python3"
  },
  "language_info": {
   "codemirror_mode": {
    "name": "ipython",
    "version": 3
   },
   "file_extension": ".py",
   "mimetype": "text/x-python",
   "name": "python",
   "nbconvert_exporter": "python",
   "pygments_lexer": "ipython3",
   "version": "3.7.9"
  }
 },
 "nbformat": 4,
 "nbformat_minor": 4
}

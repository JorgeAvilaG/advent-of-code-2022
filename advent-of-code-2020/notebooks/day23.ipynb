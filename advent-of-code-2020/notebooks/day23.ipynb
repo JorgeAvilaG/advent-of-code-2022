{
 "cells": [
  {
   "cell_type": "code",
   "execution_count": 56,
   "metadata": {},
   "outputs": [
    {
     "data": {
      "text/plain": [
       "{7: 8, 8: 4, 4: 2, 2: 3, 3: 5, 5: 9, 9: 1, 1: 6, 6: 7}"
      ]
     },
     "execution_count": 56,
     "metadata": {},
     "output_type": "execute_result"
    }
   ],
   "source": [
    "data = \"784235916\"\n",
    "#data = '389125467' #example\n",
    "\n",
    "data = [int(x) for x in list(data)]\n",
    "\n",
    "D = {}\n",
    "prev = 0\n",
    "for n,number in enumerate(data):\n",
    "    D[number] = data[(n+1)%len(data)]\n",
    "    \n",
    "D"
   ]
  },
  {
   "cell_type": "code",
   "execution_count": 57,
   "metadata": {},
   "outputs": [],
   "source": [
    "c_cup = data[0]\n",
    "#print(c_cup)\n",
    "for x in range(100):\n",
    "    cup1 = D[c_cup]\n",
    "    cup2 = D[cup1]\n",
    "    cup3 = D[cup2]\n",
    " #   print({cup1,cup2,cup3})\n",
    "    \n",
    "    D[c_cup] = D[cup3]\n",
    "  #  print(D[c_cup])\n",
    "    \n",
    "    d_cup = (c_cup-1)%9\n",
    "   # print('dest',d_cup)\n",
    "    if d_cup == 0:\n",
    "        d_cup = 9\n",
    "    while True:\n",
    "        if d_cup not in {cup1,cup2,cup3}:\n",
    "            break\n",
    "        else:\n",
    "            d_cup = (d_cup-1)%9\n",
    "            if d_cup == 0:\n",
    "                d_cup = 9\n",
    "    #print('dest',d_cup)\n",
    "    \n",
    "    temp = D[d_cup]\n",
    "    D[d_cup] = cup1\n",
    "    D[cup3] = temp\n",
    "    \n",
    "    c_cup = D[c_cup]"
   ]
  },
  {
   "cell_type": "code",
   "execution_count": 58,
   "metadata": {},
   "outputs": [
    {
     "name": "stdout",
     "output_type": "stream",
     "text": [
      "53248976"
     ]
    }
   ],
   "source": [
    "prev = 1\n",
    "for x in range(8):\n",
    "    print(D[prev],end='')\n",
    "    prev = D[prev]\n",
    "    "
   ]
  },
  {
   "cell_type": "code",
   "execution_count": 86,
   "metadata": {},
   "outputs": [],
   "source": [
    "## part 2"
   ]
  },
  {
   "cell_type": "code",
   "execution_count": 95,
   "metadata": {},
   "outputs": [
    {
     "data": {
      "text/plain": [
       "{7: 8, 8: 4, 4: 2, 2: 3, 3: 5, 5: 9, 9: 1, 1: 6, 6: 7}"
      ]
     },
     "execution_count": 95,
     "metadata": {},
     "output_type": "execute_result"
    }
   ],
   "source": [
    "data = \"784235916\"\n",
    "#data = '389125467' #example\n",
    "\n",
    "data = [int(x) for x in list(data)]\n",
    "\n",
    "D = {}\n",
    "prev = 0\n",
    "for n,number in enumerate(data):\n",
    "    D[number] = data[(n+1)%len(data)]\n",
    "    \n",
    "D"
   ]
  },
  {
   "cell_type": "code",
   "execution_count": 96,
   "metadata": {},
   "outputs": [],
   "source": [
    "prev = data[-1] #example\n",
    "for x in range(10,1000001):\n",
    "    D[prev] = x\n",
    "    prev = x\n",
    "D[prev] = data[0] #example"
   ]
  },
  {
   "cell_type": "code",
   "execution_count": 97,
   "metadata": {},
   "outputs": [
    {
     "name": "stdout",
     "output_type": "stream",
     "text": [
      "635429\n",
      "659113\n"
     ]
    }
   ],
   "source": [
    "c_cup = data[0]\n",
    "#print(c_cup)\n",
    "for x in range(10000000):\n",
    "    cup1 = D[c_cup]\n",
    "    cup2 = D[cup1]\n",
    "    cup3 = D[cup2]\n",
    " #   print({cup1,cup2,cup3})\n",
    "    \n",
    "    D[c_cup] = D[cup3]\n",
    "  #  print(D[c_cup])\n",
    "    \n",
    "    d_cup = (c_cup-1)%1000000\n",
    "   # print('dest',d_cup)\n",
    "    if d_cup == 0:\n",
    "        d_cup = 1000000\n",
    "    while True:\n",
    "        if d_cup not in {cup1,cup2,cup3}:\n",
    "            break\n",
    "        else:\n",
    "            d_cup = (d_cup-1)%1000000\n",
    "            if d_cup == 0:\n",
    "                d_cup = 1000000\n",
    "    #print('dest',d_cup)\n",
    "    \n",
    "    temp = D[d_cup]\n",
    "    D[d_cup] = cup1\n",
    "    D[cup3] = temp\n",
    "    \n",
    "    c_cup = D[c_cup]\n",
    "    \n",
    "    \n",
    "prev = 1\n",
    "print(D[prev])\n",
    "prev = D[prev]\n",
    "print(D[prev])"
   ]
  },
  {
   "cell_type": "code",
   "execution_count": 98,
   "metadata": {},
   "outputs": [
    {
     "name": "stdout",
     "output_type": "stream",
     "text": [
      "418819514477\n"
     ]
    }
   ],
   "source": [
    "prev = 1\n",
    "first = D[prev]\n",
    "print(first*D[first])"
   ]
  },
  {
   "cell_type": "code",
   "execution_count": null,
   "metadata": {},
   "outputs": [],
   "source": []
  }
 ],
 "metadata": {
  "kernelspec": {
   "display_name": "Python 3",
   "language": "python",
   "name": "python3"
  },
  "language_info": {
   "codemirror_mode": {
    "name": "ipython",
    "version": 3
   },
   "file_extension": ".py",
   "mimetype": "text/x-python",
   "name": "python",
   "nbconvert_exporter": "python",
   "pygments_lexer": "ipython3",
   "version": "3.7.9"
  }
 },
 "nbformat": 4,
 "nbformat_minor": 4
}

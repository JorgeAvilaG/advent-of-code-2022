{
 "cells": [
  {
   "cell_type": "code",
   "execution_count": 7,
   "metadata": {},
   "outputs": [],
   "source": [
    "data1 = 9789649\n",
    "data2 = 3647239\n",
    "\n",
    "datat1 = 5764801\n",
    "datat2 = 17807724"
   ]
  },
  {
   "cell_type": "code",
   "execution_count": 8,
   "metadata": {},
   "outputs": [],
   "source": [
    "def transformation(number, s_number):\n",
    "    return(number*s_number)%20201227\n",
    "    "
   ]
  },
  {
   "cell_type": "code",
   "execution_count": 10,
   "metadata": {},
   "outputs": [
    {
     "name": "stdout",
     "output_type": "stream",
     "text": [
      "8 test1\n",
      "11 test2\n",
      "12387410 3647239\n",
      "14587082 9789649 9789649\n",
      "20201234 test1\n",
      "20201237 test2\n",
      "32588636 3647239\n",
      "34788308 9789649 9789649\n",
      "40402460 test1\n",
      "40402463 test2\n",
      "52789862 3647239\n",
      "54989534 9789649 9789649\n",
      "60603686 test1\n",
      "60603689 test2\n",
      "72991088 3647239\n",
      "75190760 9789649 9789649\n",
      "80804912 test1\n",
      "80804915 test2\n",
      "93192314 3647239\n",
      "95391986 9789649 9789649\n"
     ]
    }
   ],
   "source": [
    "number = 1\n",
    "n=8\n",
    "for x in range(10**n):\n",
    "    number = transformation(number,7)\n",
    "    if number == data1:\n",
    "        print(x+1,data1,number)\n",
    "    if number == data2:\n",
    "        print(x+1,number)\n",
    "    if number == datat1:\n",
    "        print(x+1, 'test1')\n",
    "    if number == datat2:\n",
    "        print(x+1, 'test2')"
   ]
  },
  {
   "cell_type": "code",
   "execution_count": null,
   "metadata": {},
   "outputs": [],
   "source": [
    "12387410 3647239\n",
    "14587082 9789649 9789649"
   ]
  },
  {
   "cell_type": "code",
   "execution_count": 13,
   "metadata": {},
   "outputs": [
    {
     "name": "stdout",
     "output_type": "stream",
     "text": [
      "13239263\n",
      "6286092\n",
      "17588834\n",
      "8144799\n",
      "19339482\n",
      "16501187\n",
      "16669039\n",
      "11273191\n",
      "12070132\n",
      "14897079\n",
      "7340505\n",
      "2\n",
      "10847306\n",
      "1914476\n",
      "874663\n",
      "5243202\n",
      "8733831\n",
      "1213104\n",
      "14897079\n",
      "12841067\n"
     ]
    }
   ],
   "source": [
    "#test\n",
    "number = 5764801\n",
    "for x in range(11):\n",
    "    number = transformation(number,5764801)\n",
    "    print(number)\n",
    "print('2')\n",
    "#test\n",
    "number = 17807724\n",
    "for x in range(8):\n",
    "    number = transformation(number,17807724)\n",
    "    print(number)"
   ]
  },
  {
   "cell_type": "code",
   "execution_count": 15,
   "metadata": {},
   "outputs": [
    {
     "name": "stdout",
     "output_type": "stream",
     "text": [
      "8740494\n",
      "8740494\n"
     ]
    }
   ],
   "source": [
    "\n",
    "number = 3647239\n",
    "for x in range(14587082-1):\n",
    "    number = transformation(number,3647239)\n",
    "print(number)\n",
    "\n",
    "number = 9789649\n",
    "for x in range(12387410-1):\n",
    "    number = transformation(number,9789649)\n",
    "print(number)"
   ]
  },
  {
   "cell_type": "code",
   "execution_count": null,
   "metadata": {},
   "outputs": [],
   "source": []
  }
 ],
 "metadata": {
  "kernelspec": {
   "display_name": "Python 3",
   "language": "python",
   "name": "python3"
  },
  "language_info": {
   "codemirror_mode": {
    "name": "ipython",
    "version": 3
   },
   "file_extension": ".py",
   "mimetype": "text/x-python",
   "name": "python",
   "nbconvert_exporter": "python",
   "pygments_lexer": "ipython3",
   "version": "3.7.9"
  }
 },
 "nbformat": 4,
 "nbformat_minor": 4
}

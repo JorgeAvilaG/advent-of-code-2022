{
 "cells": [
  {
   "cell_type": "code",
   "execution_count": 1,
   "metadata": {},
   "outputs": [],
   "source": [
    "import numpy as np\n",
    "f = open(\"../data/day3.txt\", \"r\")"
   ]
  },
  {
   "cell_type": "code",
   "execution_count": 2,
   "metadata": {},
   "outputs": [],
   "source": [
    "area = []\n",
    "for line in f:\n",
    "    area.append(list(line.strip()))"
   ]
  },
  {
   "cell_type": "code",
   "execution_count": 3,
   "metadata": {},
   "outputs": [
    {
     "data": {
      "text/plain": [
       "145"
      ]
     },
     "execution_count": 3,
     "metadata": {},
     "output_type": "execute_result"
    }
   ],
   "source": [
    "# Part 1\n",
    "x, y = 0, 0\n",
    "lx, ly = 3, 1 \n",
    "sol = 0\n",
    "while True:\n",
    "    if area [y][x] == '#':\n",
    "        sol += 1\n",
    "    x= (x+lx)%len(area[0])\n",
    "    y+=ly\n",
    "    if y >= len(area):\n",
    "        break        \n",
    "sol"
   ]
  },
  {
   "cell_type": "code",
   "execution_count": 4,
   "metadata": {},
   "outputs": [],
   "source": [
    "# Part 2\n",
    "\n",
    "lxs = [1,3,5,7,1]\n",
    "lys = [1,1,1,1,2]\n",
    "sol = 1\n",
    "\n",
    "for lx,ly in zip(lxs,lys):\n",
    "    x, y = 0, 0\n",
    "    temp = 0\n",
    "    while True:\n",
    "        if area [y][x] == '#':\n",
    "            temp += 1\n",
    "        x= (x+lx)%len(area[0])\n",
    "        y+=ly\n",
    "        if y >= len(area):\n",
    "            break       \n",
    "    sol*=temp"
   ]
  },
  {
   "cell_type": "code",
   "execution_count": 5,
   "metadata": {},
   "outputs": [
    {
     "data": {
      "text/plain": [
       "3424528800"
      ]
     },
     "execution_count": 5,
     "metadata": {},
     "output_type": "execute_result"
    }
   ],
   "source": [
    "sol"
   ]
  },
  {
   "cell_type": "code",
   "execution_count": null,
   "metadata": {},
   "outputs": [],
   "source": []
  }
 ],
 "metadata": {
  "kernelspec": {
   "display_name": "Python 3",
   "language": "python",
   "name": "python3"
  },
  "language_info": {
   "codemirror_mode": {
    "name": "ipython",
    "version": 3
   },
   "file_extension": ".py",
   "mimetype": "text/x-python",
   "name": "python",
   "nbconvert_exporter": "python",
   "pygments_lexer": "ipython3",
   "version": "3.8.1"
  }
 },
 "nbformat": 4,
 "nbformat_minor": 4
}

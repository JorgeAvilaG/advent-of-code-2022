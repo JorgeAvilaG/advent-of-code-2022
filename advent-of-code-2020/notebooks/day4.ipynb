{
 "cells": [
  {
   "cell_type": "code",
   "execution_count": 123,
   "metadata": {},
   "outputs": [],
   "source": [
    "import numpy as np\n",
    "\n",
    "f = open(\"../data/day4.txt\", \"r\")\n",
    "#f = open(\"../data/testday4.txt\", \"r\")\n",
    "\n",
    "\n",
    "pp = [{}]\n",
    "n = 0\n",
    "for line in f:\n",
    "    if line == \"\\n\":\n",
    "        pp.append({})\n",
    "        n += 1\n",
    "    else:\n",
    "        for x in line.strip().split(\" \"):\n",
    "            pp[n][x.split(\":\")[0]] = x.split(\":\")[1]"
   ]
  },
  {
   "cell_type": "code",
   "execution_count": 124,
   "metadata": {},
   "outputs": [
    {
     "data": {
      "text/plain": [
       "247"
      ]
     },
     "execution_count": 124,
     "metadata": {},
     "output_type": "execute_result"
    }
   ],
   "source": [
    "# part 1\n",
    "params = set([\"byr\", \"iyr\", \"eyr\", \"hgt\", \"hcl\", \"ecl\", \"pid\"])\n",
    "sol = 0\n",
    "for p in pp:\n",
    "    if params.issubset(set(p.keys())):\n",
    "        sol += 1\n",
    "\n",
    "sol"
   ]
  },
  {
   "cell_type": "code",
   "execution_count": 125,
   "metadata": {},
   "outputs": [
    {
     "data": {
      "text/plain": [
       "145"
      ]
     },
     "execution_count": 125,
     "metadata": {},
     "output_type": "execute_result"
    }
   ],
   "source": [
    "# part 2\n",
    "import re\n",
    "\n",
    "params = set([\"byr\", \"iyr\", \"eyr\", \"hgt\", \"hcl\", \"ecl\", \"pid\"])\n",
    "sol = 0\n",
    "for p in pp:\n",
    "    if params.issubset(set(p.keys())):\n",
    "        checks = []\n",
    "        checks.append(1920 <= int(p[\"byr\"]) and int(p[\"byr\"]) <= 2002)\n",
    "        checks.append(2010 <= int(p[\"iyr\"]) and int(p[\"iyr\"]) <= 2020)\n",
    "        checks.append(2020 <= int(p[\"eyr\"]) and int(p[\"eyr\"]) <= 2030)\n",
    "        checks.append(\n",
    "            (\n",
    "                p[\"hgt\"][-2:] == \"cm\"\n",
    "                and (150 <= int(p[\"hgt\"][:-2]))\n",
    "                and (int(p[\"hgt\"][:-2]) <= 193)\n",
    "            )\n",
    "            or (\n",
    "                p[\"hgt\"][-2:] == \"in\"\n",
    "                and (59 <= int(p[\"hgt\"][:-2]))\n",
    "                and (int(p[\"hgt\"][:-2]) <= 76)\n",
    "            )\n",
    "        )\n",
    "        checks.append(len(p[\"hcl\"]) == 7 and re.search(r\"#\\w\", p[\"hcl\"]) != None)\n",
    "        checks.append(\n",
    "            p[\"ecl\"]\n",
    "            in set(\n",
    "                [\n",
    "                    \"amb\",\n",
    "                    \"blu\",\n",
    "                    \"brn\",\n",
    "                    \"gry\",\n",
    "                    \"grn\",\n",
    "                    \"hzl\",\n",
    "                    \"oth\",\n",
    "                ]\n",
    "            )\n",
    "        )\n",
    "        checks.append(len(p[\"pid\"]) == 9 and re.search(r\"[0-9]{9}\", p[\"pid\"]) != None)\n",
    "\n",
    "        if sum(checks) == 7:\n",
    "            sol += 1\n",
    "\n",
    "\n",
    "sol"
   ]
  }
 ],
 "metadata": {
  "kernelspec": {
   "display_name": "Python 3",
   "language": "python",
   "name": "python3"
  },
  "language_info": {
   "codemirror_mode": {
    "name": "ipython",
    "version": 3
   },
   "file_extension": ".py",
   "mimetype": "text/x-python",
   "name": "python",
   "nbconvert_exporter": "python",
   "pygments_lexer": "ipython3",
   "version": "3.8.1"
  }
 },
 "nbformat": 4,
 "nbformat_minor": 4
}

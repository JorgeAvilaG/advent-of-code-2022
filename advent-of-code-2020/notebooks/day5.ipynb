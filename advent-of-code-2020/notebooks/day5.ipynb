{
 "cells": [
  {
   "cell_type": "code",
   "execution_count": 14,
   "metadata": {},
   "outputs": [
    {
     "name": "stdout",
     "output_type": "stream",
     "text": [
      "880\n"
     ]
    }
   ],
   "source": [
    "import numpy as np\n",
    "f = open(\"../data/day5.txt\", \"r\")\n",
    "sol = 0\n",
    "for line in f:\n",
    "    row_l = line.strip()[:7]\n",
    "    row = ''\n",
    "    for l in row_l:\n",
    "        if l == 'F':\n",
    "            row += '0'\n",
    "        else:\n",
    "            row += '1'\n",
    "    row = int(row,2)\n",
    "    seat_l = line.strip()[-3:]\n",
    "    seat = ''\n",
    "    for l in seat_l:\n",
    "        if l == 'L':\n",
    "            seat+='0'\n",
    "        else:\n",
    "            seat+='1'\n",
    "    seat = int(seat,2)\n",
    "    ID = row*8 + seat\n",
    "    #print(row_l)\n",
    "    #print(row,seat,ID)\n",
    "    if ID > sol:\n",
    "        sol = ID\n",
    "print(sol)\n",
    "            \n",
    "            \n",
    "            "
   ]
  },
  {
   "cell_type": "code",
   "execution_count": 15,
   "metadata": {},
   "outputs": [],
   "source": [
    "# Part 2\n",
    "import numpy as np\n",
    "f = open(\"../data/day5.txt\", \"r\")\n",
    "lID = []\n",
    "for line in f:\n",
    "    row_l = line.strip()[:7]\n",
    "    row = ''\n",
    "    for l in row_l:\n",
    "        if l == 'F':\n",
    "            row += '0'\n",
    "        else:\n",
    "            row += '1'\n",
    "    row = int(row,2)\n",
    "    seat_l = line.strip()[-3:]\n",
    "    seat = ''\n",
    "    for l in seat_l:\n",
    "        if l == 'L':\n",
    "            seat+='0'\n",
    "        else:\n",
    "            seat+='1'\n",
    "    seat = int(seat,2)\n",
    "    ID = row*8 + seat\n",
    "    lID.append(ID)\n",
    "\n"
   ]
  },
  {
   "cell_type": "code",
   "execution_count": 20,
   "metadata": {},
   "outputs": [
    {
     "name": "stdout",
     "output_type": "stream",
     "text": [
      "731\n"
     ]
    }
   ],
   "source": [
    "lID.sort()\n",
    "f = lID[0]\n",
    "i = 0\n",
    "\n",
    "while True:\n",
    "    if lID[i] != f:\n",
    "        print(f)\n",
    "        break\n",
    "    else:\n",
    "        i+=1\n",
    "        f+=1\n",
    "    "
   ]
  },
  {
   "cell_type": "code",
   "execution_count": null,
   "metadata": {},
   "outputs": [],
   "source": []
  },
  {
   "cell_type": "code",
   "execution_count": null,
   "metadata": {},
   "outputs": [],
   "source": []
  }
 ],
 "metadata": {
  "kernelspec": {
   "display_name": "Python 3",
   "language": "python",
   "name": "python3"
  },
  "language_info": {
   "codemirror_mode": {
    "name": "ipython",
    "version": 3
   },
   "file_extension": ".py",
   "mimetype": "text/x-python",
   "name": "python",
   "nbconvert_exporter": "python",
   "pygments_lexer": "ipython3",
   "version": "3.8.1"
  }
 },
 "nbformat": 4,
 "nbformat_minor": 4
}

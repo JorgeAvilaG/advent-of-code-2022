{
 "cells": [
  {
   "cell_type": "code",
   "execution_count": 1,
   "metadata": {},
   "outputs": [],
   "source": [
    "import numpy as np\n",
    "\n",
    "f = open(\"../data/day8.txt\", \"r\")\n",
    "code = [line.strip().split() for line in list(f)]"
   ]
  },
  {
   "cell_type": "code",
   "execution_count": 2,
   "metadata": {},
   "outputs": [],
   "source": [
    "# acc, jmp, or nop\n",
    "def acc(n, i, accumulator):\n",
    "    return i + 1, accumulator + n\n",
    "\n",
    "\n",
    "def jmp(n, i, accumulator):\n",
    "    return i + n, accumulator\n",
    "\n",
    "\n",
    "def nop(n, i, accumulator):\n",
    "    return i + 1, accumulator\n",
    "\n",
    "\n",
    "F = {\n",
    "    \"acc\": acc,\n",
    "    \"jmp\": jmp,\n",
    "    \"nop\": nop,\n",
    "}"
   ]
  },
  {
   "cell_type": "code",
   "execution_count": 3,
   "metadata": {},
   "outputs": [
    {
     "name": "stdout",
     "output_type": "stream",
     "text": [
      "1610\n"
     ]
    }
   ],
   "source": [
    "# part 1\n",
    "i = 0\n",
    "accumulator = 0\n",
    "dif_i = set()\n",
    "while True:\n",
    "    if i in dif_i:\n",
    "        print(accumulator)\n",
    "        break\n",
    "    else:\n",
    "        dif_i.add(i)\n",
    "    i, accumulator = F[code[i][0]](int(code[i][1]), i, accumulator)"
   ]
  },
  {
   "cell_type": "code",
   "execution_count": 4,
   "metadata": {},
   "outputs": [
    {
     "name": "stdout",
     "output_type": "stream",
     "text": [
      "651 nop 1703\n"
     ]
    }
   ],
   "source": [
    "# part 2\n",
    "\n",
    "for line in range(len(code)):\n",
    "    if code[line][0] == \"acc\":\n",
    "        continue\n",
    "    elif code[line][0] == \"jmp\":\n",
    "        change = \"nop\"\n",
    "    else:\n",
    "        change = \"jmp\"\n",
    "\n",
    "    i = 0\n",
    "    accumulator = 0\n",
    "    dif_i = set()\n",
    "    while True:\n",
    "        if i in dif_i:\n",
    "            # print('loop',accumulator)\n",
    "            break\n",
    "        else:\n",
    "            dif_i.add(i)\n",
    "\n",
    "        if i == line:\n",
    "            i, accumulator = F[change](int(code[i][1]), i, accumulator)\n",
    "        else:\n",
    "            i, accumulator = F[code[i][0]](int(code[i][1]), i, accumulator)\n",
    "        if i == len(code):\n",
    "            print(i, change, accumulator)\n",
    "            break"
   ]
  },
  {
   "cell_type": "code",
   "execution_count": null,
   "metadata": {},
   "outputs": [],
   "source": []
  }
 ],
 "metadata": {
  "kernelspec": {
   "display_name": "Python 3",
   "language": "python",
   "name": "python3"
  },
  "language_info": {
   "codemirror_mode": {
    "name": "ipython",
    "version": 3
   },
   "file_extension": ".py",
   "mimetype": "text/x-python",
   "name": "python",
   "nbconvert_exporter": "python",
   "pygments_lexer": "ipython3",
   "version": "3.8.1"
  }
 },
 "nbformat": 4,
 "nbformat_minor": 4
}

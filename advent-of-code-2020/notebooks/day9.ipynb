{
 "cells": [
  {
   "cell_type": "code",
   "execution_count": 18,
   "metadata": {},
   "outputs": [],
   "source": [
    "import numpy as np\n",
    "f = open(\"../data/day9.txt\", \"r\")\n",
    "\n",
    "data = [int(line.strip()) for line in list(f)]"
   ]
  },
  {
   "cell_type": "code",
   "execution_count": 19,
   "metadata": {},
   "outputs": [
    {
     "name": "stdout",
     "output_type": "stream",
     "text": [
      "18272118\n"
     ]
    }
   ],
   "source": [
    "# Part 1\n",
    "n = 25\n",
    "for pos in range(n,len(data)):\n",
    "\n",
    "    good = False\n",
    "    for x in range(pos-n,pos):\n",
    "        for y in range(x+1,pos):\n",
    "            if data[x]+data[y] == data[pos]:\n",
    "                good = True\n",
    "    if not good:\n",
    "        print(data[pos])\n",
    "        break\n",
    "        "
   ]
  },
  {
   "cell_type": "code",
   "execution_count": 20,
   "metadata": {},
   "outputs": [
    {
     "name": "stdout",
     "output_type": "stream",
     "text": [
      "18272118 394 410\n"
     ]
    }
   ],
   "source": [
    "# Part 2\n",
    "obj = 18272118\n",
    "\n",
    "for pos in range(len(data)):\n",
    "    total = data[pos]\n",
    "    for x in range(pos+1,len(data)):\n",
    "        total += data[x]\n",
    "        if total == obj:\n",
    "            print(total, pos, x)\n",
    "            break\n",
    "        elif total > obj:\n",
    "            break\n"
   ]
  },
  {
   "cell_type": "code",
   "execution_count": 23,
   "metadata": {},
   "outputs": [
    {
     "data": {
      "text/plain": [
       "2186361"
      ]
     },
     "execution_count": 23,
     "metadata": {},
     "output_type": "execute_result"
    }
   ],
   "source": [
    "max(data[394:410+1])+min(data[394:410+1])"
   ]
  },
  {
   "cell_type": "code",
   "execution_count": null,
   "metadata": {},
   "outputs": [],
   "source": []
  }
 ],
 "metadata": {
  "kernelspec": {
   "display_name": "Python 3",
   "language": "python",
   "name": "python3"
  },
  "language_info": {
   "codemirror_mode": {
    "name": "ipython",
    "version": 3
   },
   "file_extension": ".py",
   "mimetype": "text/x-python",
   "name": "python",
   "nbconvert_exporter": "python",
   "pygments_lexer": "ipython3",
   "version": "3.8.1"
  }
 },
 "nbformat": 4,
 "nbformat_minor": 4
}

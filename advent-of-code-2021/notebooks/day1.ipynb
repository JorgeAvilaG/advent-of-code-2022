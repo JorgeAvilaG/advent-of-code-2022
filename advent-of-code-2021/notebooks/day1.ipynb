{
 "cells": [
  {
   "cell_type": "code",
   "execution_count": 10,
   "metadata": {},
   "outputs": [
    {
     "name": "stdout",
     "output_type": "stream",
     "text": [
      "1195\n"
     ]
    }
   ],
   "source": [
    "f = open(\"../data/data_day1.txt\", \"r\")\n",
    "data = list(f)\n",
    "data = [int(x.strip()) for x in data]\n",
    "\n",
    "## part 1\n",
    "io = 10**9\n",
    "counter = 0\n",
    "for n in data:\n",
    "    if n > io:\n",
    "        counter += 1\n",
    "    io = n\n",
    "print(counter)"
   ]
  },
  {
   "cell_type": "code",
   "execution_count": 11,
   "metadata": {},
   "outputs": [
    {
     "name": "stdout",
     "output_type": "stream",
     "text": [
      "1235\n"
     ]
    }
   ],
   "source": [
    "## part 2\n",
    "io = 10**9\n",
    "counter = 0\n",
    "for i in range(len(data)-2):\n",
    "    temp = data[i]+data[i+1]+data[i+2]\n",
    "    if temp > io:\n",
    "        counter += 1\n",
    "    io = temp\n",
    "print(counter)"
   ]
  }
 ],
 "metadata": {
  "kernelspec": {
   "display_name": "Python 3",
   "language": "python",
   "name": "python3"
  },
  "language_info": {
   "codemirror_mode": {
    "name": "ipython",
    "version": 3
   },
   "file_extension": ".py",
   "mimetype": "text/x-python",
   "name": "python",
   "nbconvert_exporter": "python",
   "pygments_lexer": "ipython3",
   "version": "3.7.9"
  }
 },
 "nbformat": 4,
 "nbformat_minor": 4
}

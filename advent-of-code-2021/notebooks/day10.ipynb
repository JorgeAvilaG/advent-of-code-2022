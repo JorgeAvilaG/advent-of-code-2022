{
 "cells": [
  {
   "cell_type": "code",
   "execution_count": 29,
   "id": "9a90f3fa-eb16-4047-80ba-a1baf5c74108",
   "metadata": {},
   "outputs": [
    {
     "data": {
      "text/plain": [
       "['(((<(([{{((<[[<><>]<()[]>]{[{}()]<(){}>}>[<([]{})>])(<<(<><>>[<><>]>(<{}()><(){}>)>[(([])<[]()>)])){<((<{}()',\n",
       " '{(({({<[[[{[{({}{})[[]{}]}[{(){}}((){})]][{((){}){[]{}}}<(()())<<><>>>]}]]]{([<{<<()()>([][])>({[]()}[{}<',\n",
       " '[[{<(([<<{(<[[()()]]{[[]()]<{}>}><{{{}()}<<>[]>><(())[()[]]>>)([{[[][]][()()]}{{()()}}](<{{}()}>))}[([{<<',\n",
       " '{<[{<{[({[[[[{<>{}}<{}()>]<{<><>}{[][]}>](<<<>[]>[()()]>[{[]{}>[<>()]])]{{{[()()][<><>]}<[{}()][{}{}]',\n",
       " '(<[{[{[((<{[[<()()><{}{}>][(<>{}){{}{}}]]{<[<><>]>{{{}[]}(<>[])}}}(<[[[]{}](<>{})]{[[][]][[][]]}>)>)){<{']"
      ]
     },
     "execution_count": 29,
     "metadata": {},
     "output_type": "execute_result"
    }
   ],
   "source": [
    "f = open(\"../data/data_day10.txt\", \"r\")\n",
    "data = list(f)\n",
    "data = [line.strip() for line in data]\n",
    "data[:5]"
   ]
  },
  {
   "cell_type": "code",
   "execution_count": 30,
   "id": "5ebb46a7-aea9-4974-851a-8848418af305",
   "metadata": {},
   "outputs": [
    {
     "data": {
      "text/plain": [
       "323613"
      ]
     },
     "execution_count": 30,
     "metadata": {},
     "output_type": "execute_result"
    }
   ],
   "source": [
    "D = {}\n",
    "D['('] = ')'\n",
    "D['<'] = '>'\n",
    "D['['] = ']'\n",
    "D['{'] = '}'\n",
    "\n",
    "Points = {}\n",
    "Points[')'] = 3\n",
    "Points[']'] = 57\n",
    "Points['}'] = 1197\n",
    "Points['>'] = 25137\n",
    "\n",
    "# part 1\n",
    "sol = 0\n",
    "new_data = []\n",
    "for line in data:\n",
    "    expected = []\n",
    "    corrupted = False\n",
    "    for c in line:\n",
    "        if c in D.keys():\n",
    "            expected.append(D[c])\n",
    "        else:\n",
    "            closer = expected.pop()\n",
    "            if closer != c:\n",
    "                corrupted = True\n",
    "                break\n",
    "    if corrupted:\n",
    "        sol += Points[c]\n",
    "    else:\n",
    "        new_data.append(line)\n",
    "sol\n",
    "                       "
   ]
  },
  {
   "cell_type": "code",
   "execution_count": 31,
   "id": "375c2253-f476-4bf5-9d28-245be2b83215",
   "metadata": {},
   "outputs": [
    {
     "data": {
      "text/plain": [
       "3103006161"
      ]
     },
     "execution_count": 31,
     "metadata": {},
     "output_type": "execute_result"
    }
   ],
   "source": [
    "# part 2\n",
    "Points_2 = {}\n",
    "Points_2[')'] = 1\n",
    "Points_2[']'] = 2\n",
    "Points_2['}'] = 3\n",
    "Points_2['>'] = 4\n",
    "\n",
    "sols = []\n",
    "for line in new_data:\n",
    "    expected = []\n",
    "    \n",
    "    for c in line:\n",
    "        if c in D.keys():\n",
    "            expected.append(D[c])\n",
    "        else:\n",
    "            closer = expected.pop()\n",
    "    \n",
    "    sol = 0\n",
    "    while expected:\n",
    "        next_c = expected.pop()\n",
    "        sol *= 5\n",
    "        sol += Points_2[next_c]\n",
    "    sols.append(sol)\n",
    "    \n",
    "sorted(sols)[len(sols)//2]\n"
   ]
  },
  {
   "cell_type": "code",
   "execution_count": null,
   "id": "aadfce9b-351b-46eb-adcf-85e2a17a53ff",
   "metadata": {},
   "outputs": [],
   "source": []
  }
 ],
 "metadata": {
  "kernelspec": {
   "display_name": "Python 3 (ipykernel)",
   "language": "python",
   "name": "python3"
  },
  "language_info": {
   "codemirror_mode": {
    "name": "ipython",
    "version": 3
   },
   "file_extension": ".py",
   "mimetype": "text/x-python",
   "name": "python",
   "nbconvert_exporter": "python",
   "pygments_lexer": "ipython3",
   "version": "3.9.9"
  }
 },
 "nbformat": 4,
 "nbformat_minor": 5
}

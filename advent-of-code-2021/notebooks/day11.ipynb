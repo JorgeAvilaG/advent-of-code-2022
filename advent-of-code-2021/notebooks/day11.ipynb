{
 "cells": [
  {
   "cell_type": "code",
   "execution_count": 19,
   "metadata": {},
   "outputs": [
    {
     "data": {
      "text/plain": [
       "array([[6, 6, 3, 6, 8, 2, 7, 4, 6, 5],\n",
       "       [6, 7, 7, 4, 2, 4, 8, 4, 3, 1],\n",
       "       [4, 2, 2, 7, 3, 8, 6, 3, 6, 6],\n",
       "       [7, 4, 4, 7, 4, 5, 2, 6, 1, 3],\n",
       "       [6, 2, 2, 3, 1, 2, 2, 5, 4, 5],\n",
       "       [2, 8, 1, 4, 3, 8, 8, 7, 6, 6],\n",
       "       [6, 6, 1, 5, 5, 5, 1, 1, 4, 4],\n",
       "       [4, 8, 3, 6, 2, 3, 5, 8, 3, 6],\n",
       "       [5, 3, 3, 4, 7, 8, 3, 2, 5, 6],\n",
       "       [4, 1, 2, 8, 3, 4, 4, 8, 4, 3]])"
      ]
     },
     "execution_count": 19,
     "metadata": {},
     "output_type": "execute_result"
    }
   ],
   "source": [
    "import numpy as np\n",
    "f = open(\"../data/data_day11.txt\", \"r\")\n",
    "data = list(f)\n",
    "data = [list(line.strip()) for line in data]\n",
    "data = [[int(x) for x in line] for line in data]\n",
    "data = np.array(data)\n",
    "data"
   ]
  },
  {
   "cell_type": "code",
   "execution_count": 25,
   "metadata": {},
   "outputs": [
    {
     "data": {
      "text/plain": [
       "1585"
      ]
     },
     "execution_count": 25,
     "metadata": {},
     "output_type": "execute_result"
    }
   ],
   "source": [
    "# part 1\n",
    "new_d = data.copy()\n",
    "sol = 0\n",
    "\n",
    "for _ in range(100):\n",
    "    new_d += 1\n",
    "    to_flash = set()\n",
    "    flashed = set()\n",
    "    for i in range(10):\n",
    "        for j in range(10):\n",
    "            if new_d[i][j] > 9:\n",
    "                to_flash.add((i,j))\n",
    "    \n",
    "    while len(to_flash):\n",
    "        x,y = to_flash.pop()\n",
    "        if (x,y) in flashed:\n",
    "            continue\n",
    "        else:\n",
    "            flashed.add((x,y))\n",
    "        \n",
    "        increment = [1,0,-1]\n",
    "        for inc in increment:\n",
    "            for inc2 in increment:\n",
    "                if inc == 0 and inc2 == 0:\n",
    "                    continue\n",
    "                if x+inc > 9 or x+inc < 0:\n",
    "                    continue\n",
    "                if y+inc2 > 9 or y+inc2 < 0:\n",
    "                    continue    \n",
    "                new_d[x+inc][y+inc2] += 1\n",
    "                if new_d[x+inc][y+inc2] > 9:\n",
    "                    if (x+inc,y+inc2) not in flashed:\n",
    "                        to_flash.add((x+inc,y+inc2))\n",
    "    \n",
    "    \n",
    "    while len(flashed):\n",
    "        sol += 1\n",
    "        x,y = flashed.pop()\n",
    "        new_d[x][y] = 0\n",
    "        \n",
    "                \n",
    "    \n",
    "\n",
    "\n",
    "    \n",
    "    #print(new_d)\n",
    "sol"
   ]
  },
  {
   "cell_type": "code",
   "execution_count": 26,
   "metadata": {},
   "outputs": [
    {
     "name": "stdout",
     "output_type": "stream",
     "text": [
      "382\n"
     ]
    }
   ],
   "source": [
    "# part 1\n",
    "new_d = data.copy()\n",
    "n = 1000\n",
    "\n",
    "for _ in range(n):\n",
    "    new_d += 1\n",
    "    to_flash = set()\n",
    "    flashed = set()\n",
    "    for i in range(10):\n",
    "        for j in range(10):\n",
    "            if new_d[i][j] > 9:\n",
    "                to_flash.add((i,j))\n",
    "    \n",
    "    while len(to_flash):\n",
    "        x,y = to_flash.pop()\n",
    "        if (x,y) in flashed:\n",
    "            continue\n",
    "        else:\n",
    "            flashed.add((x,y))\n",
    "        \n",
    "        increment = [1,0,-1]\n",
    "        for inc in increment:\n",
    "            for inc2 in increment:\n",
    "                if inc == 0 and inc2 == 0:\n",
    "                    continue\n",
    "                if x+inc > 9 or x+inc < 0:\n",
    "                    continue\n",
    "                if y+inc2 > 9 or y+inc2 < 0:\n",
    "                    continue    \n",
    "                new_d[x+inc][y+inc2] += 1\n",
    "                if new_d[x+inc][y+inc2] > 9:\n",
    "                    if (x+inc,y+inc2) not in flashed:\n",
    "                        to_flash.add((x+inc,y+inc2))\n",
    "    \n",
    "    if len(flashed) == 100:\n",
    "        print(_+1)\n",
    "        break\n",
    "    while len(flashed):\n",
    "        x,y = flashed.pop()\n",
    "        new_d[x][y] = 0\n"
   ]
  },
  {
   "cell_type": "code",
   "execution_count": null,
   "metadata": {},
   "outputs": [],
   "source": []
  }
 ],
 "metadata": {
  "kernelspec": {
   "display_name": "Python 3",
   "language": "python",
   "name": "python3"
  },
  "language_info": {
   "codemirror_mode": {
    "name": "ipython",
    "version": 3
   },
   "file_extension": ".py",
   "mimetype": "text/x-python",
   "name": "python",
   "nbconvert_exporter": "python",
   "pygments_lexer": "ipython3",
   "version": "3.7.9"
  }
 },
 "nbformat": 4,
 "nbformat_minor": 4
}

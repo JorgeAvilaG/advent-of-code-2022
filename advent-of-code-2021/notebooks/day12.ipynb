{
 "cells": [
  {
   "cell_type": "code",
   "execution_count": 21,
   "metadata": {},
   "outputs": [
    {
     "data": {
      "text/plain": [
       "[['um', 'end'],\n",
       " ['pk', 'um'],\n",
       " ['FE', 'il'],\n",
       " ['ay', 'FE'],\n",
       " ['pk', 'start'],\n",
       " ['end', 'jt'],\n",
       " ['um', 'FE'],\n",
       " ['RO', 'il'],\n",
       " ['xc', 'ay'],\n",
       " ['il', 'end'],\n",
       " ['start', 'EZ'],\n",
       " ['pk', 'FE'],\n",
       " ['xc', 'start'],\n",
       " ['jt', 'FE'],\n",
       " ['EZ', 'um'],\n",
       " ['pk', 'xc'],\n",
       " ['xc', 'EZ'],\n",
       " ['pk', 'ay'],\n",
       " ['il', 'ay'],\n",
       " ['jt', 'EZ'],\n",
       " ['jt', 'om'],\n",
       " ['pk', 'EZ']]"
      ]
     },
     "execution_count": 21,
     "metadata": {},
     "output_type": "execute_result"
    }
   ],
   "source": [
    "f = open(\"../data/data_day12.txt\", \"r\")\n",
    "data = [line.strip().split('-') for line in list(f)]\n",
    "data"
   ]
  },
  {
   "cell_type": "markdown",
   "metadata": {},
   "source": [
    "f = open(\"../data/test_day12.txt\", \"r\")\n",
    "data = [line.strip().split('-') for line in list(f)]\n",
    "data"
   ]
  },
  {
   "cell_type": "code",
   "execution_count": 22,
   "metadata": {},
   "outputs": [
    {
     "data": {
      "text/plain": [
       "{'um': {'EZ', 'FE', 'end', 'pk'},\n",
       " 'end': {'il', 'jt', 'um'},\n",
       " 'pk': {'EZ', 'FE', 'ay', 'start', 'um', 'xc'},\n",
       " 'FE': {'ay', 'il', 'jt', 'pk', 'um'},\n",
       " 'il': {'FE', 'RO', 'ay', 'end'},\n",
       " 'ay': {'FE', 'il', 'pk', 'xc'},\n",
       " 'start': {'EZ', 'pk', 'xc'},\n",
       " 'jt': {'EZ', 'FE', 'end', 'om'},\n",
       " 'RO': {'il'},\n",
       " 'xc': {'EZ', 'ay', 'pk', 'start'},\n",
       " 'EZ': {'jt', 'pk', 'start', 'um', 'xc'},\n",
       " 'om': {'jt'}}"
      ]
     },
     "execution_count": 22,
     "metadata": {},
     "output_type": "execute_result"
    }
   ],
   "source": [
    "M = {}\n",
    "big_c = set()\n",
    "for line in data:\n",
    "    if line[0] not in M:\n",
    "        M[line[0]] = set()\n",
    "    if line[1] not in M:\n",
    "        M[line[1]] = set()\n",
    "    if line[0].isupper():\n",
    "        big_c.add(line[0])\n",
    "    if line[1].isupper():\n",
    "        big_c.add(line[1])\n",
    "    M[line[0]].add(line[1])\n",
    "    M[line[1]].add(line[0])\n",
    "M   "
   ]
  },
  {
   "cell_type": "code",
   "execution_count": 23,
   "metadata": {},
   "outputs": [
    {
     "data": {
      "text/plain": [
       "3497"
      ]
     },
     "execution_count": 23,
     "metadata": {},
     "output_type": "execute_result"
    }
   ],
   "source": [
    "#part 1\n",
    "paths = []\n",
    "to_check = [('start',set())]\n",
    "\n",
    "while to_check:\n",
    "    position, p = to_check.pop()\n",
    "    path = p.copy()\n",
    "    path.add(position)\n",
    "    \n",
    "    if position == 'end':\n",
    "        paths.append(path)\n",
    "        continue\n",
    "    \n",
    "    for pos in M[position]:\n",
    "        if pos in path and pos not in big_c:\n",
    "            continue\n",
    "        to_check.append((pos,path))\n",
    "\n",
    "\n",
    "len(paths)"
   ]
  },
  {
   "cell_type": "code",
   "execution_count": 24,
   "metadata": {},
   "outputs": [
    {
     "data": {
      "text/plain": [
       "93686"
      ]
     },
     "execution_count": 24,
     "metadata": {},
     "output_type": "execute_result"
    }
   ],
   "source": [
    "#part 2\n",
    "paths = []\n",
    "to_check = [('start',set(),0)]\n",
    "\n",
    "while to_check:\n",
    "    position, p, joker_used = to_check.pop()\n",
    "    path = p.copy()\n",
    "    #print(position, p, joker_used)\n",
    "    \n",
    "    if position == 'end':\n",
    "        path.add(position)\n",
    "        paths.append(path)\n",
    "        continue\n",
    "    if position == 'start' and position in path:\n",
    "        continue\n",
    "    if position not in big_c and position in path:\n",
    "        if joker_used:\n",
    "            continue\n",
    "        else:\n",
    "            joker_used = 1\n",
    "\n",
    "    \n",
    "    path.add(position)\n",
    "    #print(position, p, joker_used)\n",
    "    \n",
    "    for pos in M[position]:            \n",
    "        to_check.append((pos,path,joker_used))\n",
    "\n",
    "    #print(to_check)\n",
    "len(paths)"
   ]
  },
  {
   "cell_type": "code",
   "execution_count": null,
   "metadata": {},
   "outputs": [],
   "source": []
  }
 ],
 "metadata": {
  "kernelspec": {
   "display_name": "Python 3",
   "language": "python",
   "name": "python3"
  },
  "language_info": {
   "codemirror_mode": {
    "name": "ipython",
    "version": 3
   },
   "file_extension": ".py",
   "mimetype": "text/x-python",
   "name": "python",
   "nbconvert_exporter": "python",
   "pygments_lexer": "ipython3",
   "version": "3.7.9"
  }
 },
 "nbformat": 4,
 "nbformat_minor": 4
}

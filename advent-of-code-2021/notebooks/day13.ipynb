{
 "cells": [
  {
   "cell_type": "code",
   "execution_count": 11,
   "id": "a03bc10a",
   "metadata": {},
   "outputs": [
    {
     "name": "stdout",
     "output_type": "stream",
     "text": [
      "['x=655', 'y=447', 'x=327', 'y=223', 'x=163', 'y=111', 'x=81', 'y=55', 'x=40', 'y=27', 'y=13', 'y=6']\n"
     ]
    }
   ],
   "source": [
    "f = open(\"../data/data_day13.txt\", \"r\")\n",
    "data = [line.strip() for line in list(f)]\n",
    "coord = set()\n",
    "folding = []\n",
    "for line in data:\n",
    "    if ',' in line:\n",
    "        temp = line.split(',')\n",
    "        coord.add((int(temp[0]),int(temp[1])))\n",
    "    else:\n",
    "        line.split(' ')\n",
    "        folding.append(line.split(' ')[-1])\n",
    "folding = folding[1:]\n",
    "print(folding)"
   ]
  },
  {
   "cell_type": "code",
   "execution_count": 12,
   "id": "da542e24",
   "metadata": {},
   "outputs": [
    {
     "data": {
      "text/plain": [
       "847"
      ]
     },
     "execution_count": 12,
     "metadata": {},
     "output_type": "execute_result"
    }
   ],
   "source": [
    "# part 1\n",
    "\n",
    "def folding_x(x, coor):\n",
    "    x0, y0 = coor\n",
    "    if x0 < x:\n",
    "        return coor\n",
    "    temp = x-(x0 - x)\n",
    "    return (temp,y0)\n",
    "\n",
    "def folding_y(y, coor):\n",
    "    x0, y0 = coor\n",
    "    if y0 < y:\n",
    "        return coor\n",
    "    temp = y-(y0 - y)\n",
    "    return (x0,temp)\n",
    "\n",
    "\n",
    "to_fold = folding[0]\n",
    "\n",
    "edge, magnitude = to_fold.split('=')\n",
    "magnitude = int(magnitude)\n",
    "\n",
    "coord_part1 = coord.copy()\n",
    "\n",
    "new_coord_part1 = set()\n",
    "\n",
    "for item in coord_part1:\n",
    "    if edge == 'x':\n",
    "        new_coord_part1.add(folding_x(magnitude,item))\n",
    "    if edge == 'y':\n",
    "        new_coord_part1.add(folding_y(magnitude,item))\n",
    "len(new_coord_part1)"
   ]
  },
  {
   "cell_type": "code",
   "execution_count": 13,
   "id": "52317971",
   "metadata": {},
   "outputs": [
    {
     "name": "stdout",
     "output_type": "stream",
     "text": [
      "847\n",
      "695\n",
      "587\n",
      "479\n",
      "397\n",
      "337\n",
      "278\n",
      "226\n",
      "183\n",
      "151\n",
      "125\n",
      "104\n"
     ]
    }
   ],
   "source": [
    "# part 2\n",
    "coord_part2 = coord.copy()\n",
    "\n",
    "for to_fold in folding:\n",
    "\n",
    "    edge, magnitude = to_fold.split('=')\n",
    "    magnitude = int(magnitude)\n",
    "\n",
    "    new_coord_part2 = set()\n",
    "\n",
    "    for item in coord_part2:\n",
    "        if edge == 'x':\n",
    "            new_coord_part2.add(folding_x(magnitude,item))\n",
    "        if edge == 'y':\n",
    "            new_coord_part2.add(folding_y(magnitude,item))\n",
    "    \n",
    "    coord_part2 = new_coord_part2.copy()\n",
    "    print(len(coord_part2))\n",
    "    \n",
    "\n"
   ]
  },
  {
   "cell_type": "code",
   "execution_count": 10,
   "id": "437deffd",
   "metadata": {},
   "outputs": [
    {
     "name": "stdout",
     "output_type": "stream",
     "text": [
      "###...##..####.###...##..####..##..###..\n",
      "#..#.#..#....#.#..#.#..#.#....#..#.#..#.\n",
      "###..#......#..#..#.#....###..#..#.###..\n",
      "#..#.#.....#...###..#....#....####.#..#.\n",
      "#..#.#..#.#....#.#..#..#.#....#..#.#..#.\n",
      "###...##..####.#..#..##..####.#..#.###..\n",
      "........................................\n",
      "........................................\n"
     ]
    }
   ],
   "source": [
    "a = list('.'*40)\n",
    "aa = []\n",
    "for _ in range(8):\n",
    "    aa.append(a.copy())\n",
    "\n",
    "c = list(coord_part2)\n",
    "for item in c:\n",
    "    x,y = item\n",
    "    aa[y][x] = '#'\n",
    "    \n",
    "for line in aa:\n",
    "    for l in line:\n",
    "        print(l,end='')\n",
    "    print()"
   ]
  },
  {
   "cell_type": "code",
   "execution_count": 36,
   "id": "0c7c7d2e",
   "metadata": {},
   "outputs": [
    {
     "data": {
      "text/plain": [
       "'.'"
      ]
     },
     "execution_count": 36,
     "metadata": {},
     "output_type": "execute_result"
    }
   ],
   "source": [
    "BCZRCEAB"
   ]
  },
  {
   "cell_type": "code",
   "execution_count": null,
   "id": "638f89a0",
   "metadata": {},
   "outputs": [],
   "source": []
  }
 ],
 "metadata": {
  "kernelspec": {
   "display_name": "Python 3 (ipykernel)",
   "language": "python",
   "name": "python3"
  },
  "language_info": {
   "codemirror_mode": {
    "name": "ipython",
    "version": 3
   },
   "file_extension": ".py",
   "mimetype": "text/x-python",
   "name": "python",
   "nbconvert_exporter": "python",
   "pygments_lexer": "ipython3",
   "version": "3.9.9"
  }
 },
 "nbformat": 4,
 "nbformat_minor": 5
}

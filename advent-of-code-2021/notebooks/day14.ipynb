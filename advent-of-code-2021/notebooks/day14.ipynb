{
 "cells": [
  {
   "cell_type": "code",
   "execution_count": 30,
   "metadata": {},
   "outputs": [
    {
     "name": "stdout",
     "output_type": "stream",
     "text": [
      "NNCB\n"
     ]
    },
    {
     "data": {
      "text/plain": [
       "dict_keys(['CH', 'HH', 'CB', 'NH', 'HB', 'HC', 'HN', 'NN', 'BH', 'NC', 'NB', 'BN', 'BB', 'BC', 'CC', 'CN'])"
      ]
     },
     "execution_count": 30,
     "metadata": {},
     "output_type": "execute_result"
    }
   ],
   "source": [
    "f = open(\"../data/test_day14.txt\", \"r\")\n",
    "data = [line.strip() for line in list(f)]\n",
    "real_template = data.pop(0)\n",
    "print(real_template)\n",
    "data.pop(0)\n",
    "data = [line.split(' -> ')for line in data]\n",
    "D = {}\n",
    "for line in data:\n",
    "    D[line[0]] = line[1]\n",
    "D.keys()"
   ]
  },
  {
   "cell_type": "code",
   "execution_count": 31,
   "metadata": {},
   "outputs": [],
   "source": [
    "template = real_template\n",
    "for _ in range(10):\n",
    "    new_t = ''\n",
    "    for l in range(0,len(template)-1):\n",
    "        to_find = template[l:l+2]\n",
    "        new_t += template[l]\n",
    "        if to_find in D:\n",
    "            new_t += D[to_find]\n",
    "    new_t+=template[-1]\n",
    "    template = new_t\n"
   ]
  },
  {
   "cell_type": "code",
   "execution_count": 32,
   "metadata": {},
   "outputs": [
    {
     "name": "stdout",
     "output_type": "stream",
     "text": [
      "1588\n"
     ]
    }
   ],
   "source": [
    "high = 0\n",
    "low = 10000000000\n",
    "for l in set(template):\n",
    "    temp = template.count(l)\n",
    "    if temp > high: high = temp\n",
    "    if temp < low: low = temp\n",
    "print(high-low)"
   ]
  },
  {
   "cell_type": "code",
   "execution_count": 53,
   "metadata": {},
   "outputs": [
    {
     "name": "stdout",
     "output_type": "stream",
     "text": [
      "CFFPOHBCVVNPHCNBKVNV\n",
      "{'KO': 0, 'CV': 1, 'CF': 1, 'FK': 0, 'BN': 0, 'VN': 2, 'BC': 1, 'OP': 0, 'HS': 0, 'HK': 0, 'CC': 0, 'CK': 0, 'OC': 0, 'SN': 0, 'PK': 0, 'BB': 0, 'PO': 1, 'HF': 0, 'BV': 0, 'HP': 0, 'VF': 0, 'BP': 0, 'CH': 0, 'KN': 0, 'NP': 1, 'FS': 0, 'BH': 0, 'VB': 0, 'OS': 0, 'KK': 0, 'SO': 0, 'NB': 1, 'PS': 0, 'KV': 1, 'CS': 0, 'PN': 0, 'HB': 1, 'NF': 0, 'SC': 0, 'NH': 0, 'HV': 0, 'FN': 0, 'KS': 0, 'BO': 0, 'KP': 0, 'OK': 0, 'OV': 0, 'CN': 1, 'SB': 0, 'VP': 0, 'HC': 1, 'FB': 0, 'VS': 0, 'PH': 1, 'VC': 0, 'KH': 0, 'SH': 0, 'BK': 1, 'SP': 0, 'SF': 0, 'OO': 0, 'VH': 0, 'PP': 0, 'FV': 0, 'KC': 0, 'CO': 0, 'NO': 0, 'FO': 0, 'SK': 0, 'ON': 0, 'VO': 0, 'VV': 1, 'CP': 0, 'FC': 0, 'FP': 1, 'FH': 0, 'KF': 0, 'PB': 0, 'NN': 0, 'SS': 0, 'CB': 0, 'HH': 0, 'FF': 1, 'KB': 0, 'HO': 0, 'BF': 0, 'PV': 0, 'OB': 0, 'OH': 1, 'VK': 0, 'NV': 1, 'SV': 0, 'NC': 0, 'OF': 0, 'NS': 0, 'PF': 0, 'HN': 0, 'BS': 0, 'NK': 0, 'PC': 0}\n",
      "{'KO': 'F', 'CV': 'H', 'CF': 'P', 'FK': 'B', 'BN': 'P', 'VN': 'K', 'BC': 'H', 'OP': 'S', 'HS': 'V', 'HK': 'N', 'CC': 'F', 'CK': 'V', 'OC': 'S', 'SN': 'C', 'PK': 'H', 'BB': 'S', 'PO': 'F', 'HF': 'K', 'BV': 'P', 'HP': 'F', 'VF': 'H', 'BP': 'H', 'CH': 'C', 'KN': 'O', 'NP': 'F', 'FS': 'F', 'BH': 'B', 'VB': 'P', 'OS': 'S', 'KK': 'O', 'SO': 'P', 'NB': 'O', 'PS': 'O', 'KV': 'O', 'CS': 'P', 'PN': 'O', 'HB': 'V', 'NF': 'P', 'SC': 'S', 'NH': 'N', 'HV': 'K', 'FN': 'V', 'KS': 'P', 'BO': 'C', 'KP': 'V', 'OK': 'B', 'OV': 'P', 'CN': 'C', 'SB': 'H', 'VP': 'C', 'HC': 'P', 'FB': 'F', 'VS': 'K', 'PH': 'C', 'VC': 'H', 'KH': 'B', 'SH': 'B', 'BK': 'N', 'SP': 'P', 'SF': 'B', 'OO': 'B', 'VH': 'K', 'PP': 'C', 'FV': 'P', 'KC': 'P', 'CO': 'S', 'NO': 'O', 'FO': 'K', 'SK': 'O', 'ON': 'K', 'VO': 'H', 'VV': 'H', 'CP': 'P', 'FC': 'B', 'FP': 'N', 'FH': 'C', 'KF': 'F', 'PB': 'C', 'NN': 'K', 'SS': 'O', 'CB': 'C', 'HH': 'S', 'FF': 'S', 'KB': 'N', 'HO': 'O', 'BF': 'N', 'PV': 'K', 'OB': 'B', 'OH': 'N', 'VK': 'V', 'NV': 'H', 'SV': 'F', 'NC': 'P', 'OF': 'V', 'NS': 'V', 'PF': 'N', 'HN': 'K', 'BS': 'S', 'NK': 'H', 'PC': 'O'}\n"
     ]
    }
   ],
   "source": [
    "# part 2\n",
    "\n",
    "f = open(\"../data/data_day14.txt\", \"r\")\n",
    "data = [line.strip() for line in list(f)]\n",
    "real_template = data.pop(0)\n",
    "print(real_template)\n",
    "data.pop(0)\n",
    "data = [line.split(' -> ')for line in data]\n",
    "D = {}\n",
    "for line in data:\n",
    "    D[line[0]] = line[1]\n",
    "    \n",
    "Entities = {}\n",
    "for k in D.keys():\n",
    "    Entities[k] = 0\n",
    "for n in range(len(real_template)-1):\n",
    "    Entities[real_template[n:n+2]] += 1 \n",
    "print(Entities)\n",
    "print(D)"
   ]
  },
  {
   "cell_type": "code",
   "execution_count": 54,
   "metadata": {},
   "outputs": [
    {
     "name": "stdout",
     "output_type": "stream",
     "text": [
      "3232426226464\n"
     ]
    }
   ],
   "source": [
    "\n",
    "for _ in range(40):\n",
    "    new_Ent = Entities.copy()\n",
    "    #print(new_Ent)\n",
    "    for ent in Entities:\n",
    "        new_l = D[ent]\n",
    "        new_Ent[ent[0]+new_l] += Entities[ent]\n",
    "        new_Ent[new_l+ent[-1]] += Entities[ent]\n",
    "        new_Ent[ent] -= Entities[ent]\n",
    "    Entities = new_Ent.copy()\n",
    "     \n",
    "    \n",
    "Sol = {}\n",
    "for ent in Entities:\n",
    "    for l in ent:\n",
    "        if l not in Sol:\n",
    "            Sol[l] = 0\n",
    "    for l in ent:\n",
    "        Sol[l] += Entities[ent]\n",
    "Sol[real_template[0]] += 1\n",
    "Sol[real_template[-1]] += 1\n",
    "        \n",
    "for ent in Sol:\n",
    "    Sol[ent] = Sol[ent]//2 \n",
    "\n",
    "    \n",
    "M = 0\n",
    "m = 10**10000\n",
    "    \n",
    "for ent in Sol:\n",
    "    if Sol[ent] > M:\n",
    "        M = Sol[ent]\n",
    "    if Sol[ent] < m:\n",
    "        m = Sol[ent]\n",
    "print(M-m)\n",
    "    \n",
    "    \n",
    "    \n",
    "    \n",
    "    "
   ]
  },
  {
   "cell_type": "code",
   "execution_count": null,
   "metadata": {},
   "outputs": [],
   "source": []
  }
 ],
 "metadata": {
  "kernelspec": {
   "display_name": "Python 3",
   "language": "python",
   "name": "python3"
  },
  "language_info": {
   "codemirror_mode": {
    "name": "ipython",
    "version": 3
   },
   "file_extension": ".py",
   "mimetype": "text/x-python",
   "name": "python",
   "nbconvert_exporter": "python",
   "pygments_lexer": "ipython3",
   "version": "3.7.9"
  }
 },
 "nbformat": 4,
 "nbformat_minor": 5
}

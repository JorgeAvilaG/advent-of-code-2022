{
 "cells": [
  {
   "cell_type": "code",
   "execution_count": 56,
   "metadata": {},
   "outputs": [
    {
     "name": "stdout",
     "output_type": "stream",
     "text": [
      "100 100\n"
     ]
    }
   ],
   "source": [
    "f = open(\"../data/data_day15.txt\", \"r\")\n",
    "data = [list(line.strip()) for line in list(f)]\n",
    "data = [[int(x)for x in line] for line in data]\n",
    "print(len(data),len(data[0]))"
   ]
  },
  {
   "cell_type": "code",
   "execution_count": 57,
   "metadata": {
    "tags": []
   },
   "outputs": [
    {
     "name": "stdout",
     "output_type": "stream",
     "text": [
      "462\n",
      "462\n"
     ]
    }
   ],
   "source": [
    "# part 1\n",
    "def new_pos(x,y):\n",
    "    pos = [1,-1]\n",
    "    sol = []\n",
    "    for i in pos:\n",
    "        if x+i >= 0 and x+i < len(data):\n",
    "            sol.append((x+i,y))\n",
    "        if y+i >= 0 and y+i < len(data):\n",
    "            sol.append((x,y+i))\n",
    "    return sol\n",
    "\n",
    "\n",
    "x0, y0 = 0,0\n",
    "xf, yf = len(data)-1,len(data)-1\n",
    "path = set()\n",
    "path.add((0,0))\n",
    "to_check = [(0,x0,y0,path)]\n",
    "visited = {}\n",
    "\n",
    "while to_check:\n",
    "    to_check = sorted(to_check, reverse = True)\n",
    "    punt,x,y,path = to_check.pop()\n",
    "    path = path.copy()\n",
    "\n",
    "    if (x,y) in visited:\n",
    "        if visited[(x,y)] <= punt:\n",
    "            continue\n",
    "        else:\n",
    "            visited[(x,y)] = punt\n",
    "    else:\n",
    "        visited[(x,y)] = punt\n",
    "    \n",
    "    if (x,y) == (xf,yf):\n",
    "        print(punt)\n",
    "        continue\n",
    "        \n",
    "    pos = new_pos(x,y)\n",
    "    for p in pos:\n",
    "        if p in path:\n",
    "            continue\n",
    "        xi,yi = p\n",
    "        new_p = path.copy()\n",
    "        new_p.add((xi,yi))\n",
    "        to_check.append((punt+data[yi][xi],xi,yi,new_p))\n",
    "    \n",
    "print(visited[(len(data)-1,len(data)-1)])"
   ]
  },
  {
   "cell_type": "code",
   "execution_count": 58,
   "metadata": {},
   "outputs": [],
   "source": [
    "#part 2\n",
    "import copy\n",
    "Data = {}\n",
    "for n in range(0,9):\n",
    "    temp = copy.deepcopy(data)\n",
    "    for x in range(len(data)):\n",
    "        for y in range(len(data)):\n",
    "            temp[y][x] +=n\n",
    "            while temp[y][x] > 9:\n",
    "                   temp[y][x] -= 9\n",
    "    Data[n] = copy.deepcopy(temp)\n",
    "\n",
    "    \n"
   ]
  },
  {
   "cell_type": "code",
   "execution_count": 59,
   "metadata": {},
   "outputs": [],
   "source": [
    "big_data = []\n",
    "for j in range(5):\n",
    "    for i in range(len(data)):\n",
    "        line = []\n",
    "        for x in range(5):\n",
    "            line+=Data[x+j][i]\n",
    "        big_data.append(line)\n",
    "    \n"
   ]
  },
  {
   "cell_type": "code",
   "execution_count": 60,
   "metadata": {},
   "outputs": [
    {
     "name": "stdout",
     "output_type": "stream",
     "text": [
      "[6, 8, 6, 4, 5, 4, 1, 5, 5, 2, 1, 1, 3, 2, 7, 5, 6, 7, 4, 4, 3, 7, 5, 6, 4, 6, 1, 5, 8, 6, 5, 4, 5, 7, 7, 4, 8, 3, 5, 5, 6, 1, 6, 7, 7, 3, 6, 6, 6, 5, 2, 2, 8, 6, 9, 6, 6, 9, 9, 3, 2, 1, 5, 6, 2, 5, 1, 3, 6, 3, 4, 9, 6, 5, 4, 7, 9, 5, 5, 6, 9, 9, 5, 9, 1, 2, 4, 6, 4, 1, 3, 5, 7, 7, 4, 6, 8, 9, 5, 5, 7, 9, 7, 5, 6, 5, 2, 6, 6, 3, 2, 2, 4, 3, 8, 6, 7, 8, 5, 5, 4, 8, 6, 7, 5, 7, 2, 6, 9, 7, 6, 5, 6, 8, 8, 5, 9, 4, 6, 6, 7, 2, 7, 8, 8, 4, 7, 7, 7, 6, 3, 3, 9, 7, 1, 7, 7, 1, 1, 4, 3, 2, 6, 7, 3, 6, 2, 4, 7, 4, 5, 1, 7, 6, 5, 8, 1, 6, 6, 7, 1, 1, 6, 1, 2, 3, 5, 7, 5, 2, 4, 6, 8, 8, 5, 7, 9, 1, 6, 6, 8, 1, 8, 6, 7, 6, 3, 7, 7, 4, 3, 3, 5, 4, 9, 7, 8, 9, 6, 6, 5, 9, 7, 8, 6, 8, 3, 7, 1, 8, 7, 6, 7, 9, 9, 6, 1, 5, 7, 7, 8, 3, 8, 9, 9, 5, 8, 8, 8, 7, 4, 4, 1, 8, 2, 8, 8, 2, 2, 5, 4, 3, 7, 8, 4, 7, 3, 5, 8, 5, 6, 2, 8, 7, 6, 9, 2, 7, 7, 8, 2, 2, 7, 2, 3, 4, 6, 8, 6, 3, 5, 7, 9, 9, 6, 8, 1, 2, 7, 7, 9, 2, 9, 7, 8, 7, 4, 8, 8, 5, 4, 4, 6, 5, 1, 8, 9, 1, 7, 7, 6, 1, 8, 9, 7, 9, 4, 8, 2, 9, 8, 7, 8, 1, 1, 7, 2, 6, 8, 8, 9, 4, 9, 1, 1, 6, 9, 9, 9, 8, 5, 5, 2, 9, 3, 9, 9, 3, 3, 6, 5, 4, 8, 9, 5, 8, 4, 6, 9, 6, 7, 3, 9, 8, 7, 1, 3, 8, 8, 9, 3, 3, 8, 3, 4, 5, 7, 9, 7, 4, 6, 8, 1, 1, 7, 9, 2, 3, 8, 8, 1, 3, 1, 8, 9, 8, 5, 9, 9, 6, 5, 5, 7, 6, 2, 9, 1, 2, 8, 8, 7, 2, 9, 1, 8, 1, 5, 9, 3, 1, 9, 8, 9, 2, 2, 8, 3, 7, 9, 9, 1, 5, 1, 2, 2, 7, 1, 1, 1, 9, 6, 6, 3, 1, 4, 1, 1, 4, 4, 7, 6, 5, 9, 1, 6, 9, 5, 7, 1, 7, 8, 4, 1, 9, 8, 2, 4, 9, 9, 1, 4, 4, 9, 4, 5, 6, 8, 1, 8, 5, 7, 9, 2, 2, 8, 1, 3, 4, 9, 9]\n"
     ]
    }
   ],
   "source": [
    "print(big_data[-1])"
   ]
  },
  {
   "cell_type": "code",
   "execution_count": 61,
   "metadata": {},
   "outputs": [
    {
     "name": "stdout",
     "output_type": "stream",
     "text": [
      "2846\n",
      "2846\n"
     ]
    }
   ],
   "source": [
    "def new_pos(x,y):\n",
    "    pos = [1,-1]\n",
    "    sol = []\n",
    "    for i in pos:\n",
    "        if x+i >= 0 and x+i < len(big_data):\n",
    "            sol.append((x+i,y))\n",
    "        if y+i >= 0 and y+i < len(big_data):\n",
    "            sol.append((x,y+i))\n",
    "    return sol\n",
    "\n",
    "\n",
    "x0, y0 = 0,0\n",
    "xf, yf = len(big_data)-1,len(big_data)-1\n",
    "path = set()\n",
    "path.add((0,0))\n",
    "to_check = [(0,x0,y0,path)]\n",
    "visited = {}\n",
    "\n",
    "while to_check:\n",
    "    to_check = sorted(to_check, reverse = True)\n",
    "    punt,x,y,path = to_check.pop()\n",
    "    path = path.copy()\n",
    "\n",
    "    if (x,y) in visited:\n",
    "        if visited[(x,y)] <= punt:\n",
    "            continue\n",
    "        else:\n",
    "            visited[(x,y)] = punt\n",
    "    else:\n",
    "        visited[(x,y)] = punt\n",
    "    \n",
    "    if (x,y) == (xf,yf):\n",
    "        print(punt)\n",
    "        continue\n",
    "        \n",
    "    pos = new_pos(x,y)\n",
    "    for p in pos:\n",
    "        if p in path:\n",
    "            continue\n",
    "        xi,yi = p\n",
    "        new_p = path.copy()\n",
    "        new_p.add((xi,yi))\n",
    "        to_check.append((punt+big_data[yi][xi],xi,yi,new_p))\n",
    "    \n",
    "print(visited[(len(big_data)-1,len(big_data)-1)])"
   ]
  },
  {
   "cell_type": "code",
   "execution_count": null,
   "metadata": {},
   "outputs": [],
   "source": []
  }
 ],
 "metadata": {
  "kernelspec": {
   "display_name": "Python 3",
   "language": "python",
   "name": "python3"
  },
  "language_info": {
   "codemirror_mode": {
    "name": "ipython",
    "version": 3
   },
   "file_extension": ".py",
   "mimetype": "text/x-python",
   "name": "python",
   "nbconvert_exporter": "python",
   "pygments_lexer": "ipython3",
   "version": "3.7.9"
  }
 },
 "nbformat": 4,
 "nbformat_minor": 5
}

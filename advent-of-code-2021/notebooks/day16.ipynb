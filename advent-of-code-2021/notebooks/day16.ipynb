{
 "cells": [
  {
   "cell_type": "code",
   "execution_count": 48,
   "metadata": {},
   "outputs": [
    {
     "data": {
      "text/plain": [
       "'00000000010101010011001001000100011110000011011001'"
      ]
     },
     "execution_count": 48,
     "metadata": {},
     "output_type": "execute_result"
    }
   ],
   "source": [
    "f = open(\"../data/data_day16.txt\", \"r\")\n",
    "data = list(f)\n",
    "data = list(data[0])\n",
    "D = {\n",
    "    '0' : '0000',\n",
    "    '1' : '0001',\n",
    "    '2' : '0010',\n",
    "    '3' : '0011',\n",
    "    '4' : '0100',\n",
    "    '5' : '0101',\n",
    "    '6' : '0110',\n",
    "    '7' : '0111',\n",
    "    '8' : '1000',\n",
    "    '9' : '1001',\n",
    "    'A' : '1010',\n",
    "    'B' : '1011',\n",
    "    'C' : '1100',\n",
    "    'D' : '1101',\n",
    "    'E' : '1110',\n",
    "    'F' : '1111',\n",
    "}\n",
    "packet = ''\n",
    "for d in data:\n",
    "    packet += D[d]\n",
    "packet[0:50]"
   ]
  },
  {
   "cell_type": "code",
   "execution_count": 49,
   "metadata": {},
   "outputs": [
    {
     "data": {
      "text/plain": [
       "(981, 5474, 0)"
      ]
     },
     "execution_count": 49,
     "metadata": {},
     "output_type": "execute_result"
    }
   ],
   "source": [
    "# part 1\n",
    "def read_packet(p_0):\n",
    "    p_ver = int(packet[p_0:p_0+3],2)\n",
    "    #print('version',p_ver)\n",
    "    ID = packet[p_0+3:p_0+6]\n",
    "    #print(ID)\n",
    "    if ID == '100':\n",
    "        temp = p_0+6\n",
    "        number = ''\n",
    "        reading = True\n",
    "        while reading:\n",
    "            pack = packet[temp:temp+5]\n",
    "           #print(pack)\n",
    "            if pack[0] == '0':\n",
    "                reading = False\n",
    "            number+= pack[1:]\n",
    "            temp += 5\n",
    "        \n",
    "        return p_ver, temp-p_0, int(number,2) #temp-p_0 size of packet\n",
    "    \n",
    "    else:\n",
    "        \n",
    "        length_ID = packet[p_0+6]\n",
    "     #   print('length_ID',length_ID)\n",
    "        if length_ID == '1':\n",
    "            n_packets = int(packet[p_0+7:p_0+7+11],2)\n",
    "      #      print('n_packets', n_packets)\n",
    "            new_p = p_0+7+11\n",
    "            while n_packets:\n",
    "                n_packets -= 1\n",
    "                sub_p_ver, b, c = read_packet(new_p)\n",
    "                p_ver += sub_p_ver\n",
    "                new_p += b\n",
    "            return p_ver, new_p-p_0, 0\n",
    "            \n",
    "        else:\n",
    "            total_bits = int(packet[p_0+7:p_0+7+15],2)\n",
    "       #     print('total_bits', total_bits)\n",
    "            last_b = p_0+7+15 + total_bits\n",
    "            new_p = p_0+7+15\n",
    "            while new_p < last_b:\n",
    "                sub_p_ver, b, c = read_packet(new_p)\n",
    "                p_ver += sub_p_ver\n",
    "                new_p += b\n",
    "\n",
    "            return p_ver, last_b-p_0, 0\n",
    "        \n",
    "        \n",
    "        \n",
    "read_packet(0)"
   ]
  },
  {
   "cell_type": "code",
   "execution_count": 50,
   "metadata": {},
   "outputs": [],
   "source": [
    "# part 2\n",
    "\n",
    "def packets_op(packets,n):\n",
    "    if n == 0:\n",
    "        sol = 0\n",
    "        for p in packets:\n",
    "            sol+=p\n",
    "        return sol\n",
    "    \n",
    "    elif n == 1:\n",
    "        sol = 1\n",
    "        for p in packets:\n",
    "            sol *= p\n",
    "        return sol\n",
    "    elif n == 2:\n",
    "        sol = 10**99\n",
    "        for p in packets:\n",
    "            if p < sol: sol = p\n",
    "        return sol\n",
    "    elif n == 3:\n",
    "        sol = 0\n",
    "        for p in packets:\n",
    "            if p > sol: sol = p\n",
    "        return sol\n",
    "    elif n == 4:\n",
    "        return packets\n",
    "        \n",
    "    elif n == 5:\n",
    "        if packets[0] > packets[1]:\n",
    "            return 1\n",
    "        else:\n",
    "            return 0\n",
    "    elif n == 6:\n",
    "        if packets[0] < packets[1]:\n",
    "            return 1\n",
    "        else:\n",
    "            return 0\n",
    "    elif n == 7:\n",
    "        if packets[0] == packets[1]:\n",
    "            return 1\n",
    "        else:\n",
    "            return 0\n",
    "\n",
    "\n",
    "def read_packet(p_0):\n",
    "    p_ver = int(packet[p_0:p_0+3],2)\n",
    "    ID = int(packet[p_0+3:p_0+6],2)\n",
    "    if ID == 4:\n",
    "        temp = p_0+6\n",
    "        number = ''\n",
    "        reading = True\n",
    "        while reading:\n",
    "            pack = packet[temp:temp+5]\n",
    "            if pack[0] == '0':\n",
    "                reading = False\n",
    "            number+= pack[1:]\n",
    "            temp += 5\n",
    "        sol = int(number,2)\n",
    "        new_p = temp\n",
    "\n",
    "    else:\n",
    "        length_ID = packet[p_0+6]\n",
    "        if length_ID == '1':\n",
    "            n_packets = int(packet[p_0+7:p_0+7+11],2)\n",
    "            new_p = p_0+7+11\n",
    "            packets = []\n",
    "            while n_packets:\n",
    "                n_packets -= 1\n",
    "                b, c = read_packet(new_p)\n",
    "                new_p += b\n",
    "                packets.append(c)\n",
    "\n",
    "            \n",
    "        else:\n",
    "            total_bits = int(packet[p_0+7:p_0+7+15],2)\n",
    "            last_b = p_0+7+15 + total_bits\n",
    "            new_p = p_0+7+15\n",
    "            packets = []\n",
    "            while new_p < last_b:\n",
    "                b, c = read_packet(new_p)\n",
    "                new_p += b\n",
    "                packets.append(c)    \n",
    "        sol = packets\n",
    " \n",
    "    sol = packets_op(sol,ID)\n",
    "    return new_p-p_0, sol\n",
    "        \n"
   ]
  },
  {
   "cell_type": "code",
   "execution_count": 51,
   "metadata": {},
   "outputs": [
    {
     "data": {
      "text/plain": [
       "(5474, 299227024091)"
      ]
     },
     "execution_count": 51,
     "metadata": {},
     "output_type": "execute_result"
    }
   ],
   "source": [
    "read_packet(0)"
   ]
  },
  {
   "cell_type": "code",
   "execution_count": null,
   "metadata": {},
   "outputs": [],
   "source": []
  }
 ],
 "metadata": {
  "kernelspec": {
   "display_name": "Python 3",
   "language": "python",
   "name": "python3"
  },
  "language_info": {
   "codemirror_mode": {
    "name": "ipython",
    "version": 3
   },
   "file_extension": ".py",
   "mimetype": "text/x-python",
   "name": "python",
   "nbconvert_exporter": "python",
   "pygments_lexer": "ipython3",
   "version": "3.7.9"
  }
 },
 "nbformat": 4,
 "nbformat_minor": 5
}

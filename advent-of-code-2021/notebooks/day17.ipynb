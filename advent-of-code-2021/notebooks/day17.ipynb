{
 "cells": [
  {
   "cell_type": "code",
   "execution_count": 5,
   "id": "a5dffe4d",
   "metadata": {},
   "outputs": [
    {
     "name": "stdout",
     "output_type": "stream",
     "text": [
      "['target', 'area:', 'x=117..164,', 'y=-140..-89']\n",
      "[117, 164] [-140, -89]\n"
     ]
    }
   ],
   "source": [
    "f = open(\"../data/data_day17.txt\", \"r\")\n",
    "data = list(f)[0].split()\n",
    "print(data)\n",
    "rangeX = [117,164]\n",
    "rangeY = [-140,-89]\n",
    "#rangeX = [20,30]\n",
    "#rangeY = [-10,-5]\n",
    "print(rangeX, rangeY)"
   ]
  },
  {
   "cell_type": "code",
   "execution_count": 6,
   "id": "826ff9a0",
   "metadata": {},
   "outputs": [],
   "source": [
    "def new_pos(pos,vel):\n",
    "    new_p = (pos[0]+vel[0],pos[1]+vel[1])\n",
    "    new_v = [0,0]\n",
    "    if vel[0] > 0:\n",
    "        new_v[0] = vel[0]-1\n",
    "    if vel[0] < 0:\n",
    "        new_v[0] = vel[0]+1\n",
    "    new_v[1] =vel[1]-1\n",
    "    return new_p, new_v"
   ]
  },
  {
   "cell_type": "code",
   "execution_count": 7,
   "id": "1fb6f772",
   "metadata": {},
   "outputs": [
    {
     "name": "stdout",
     "output_type": "stream",
     "text": [
      "9730\n"
     ]
    }
   ],
   "source": [
    "max_y = 0\n",
    "for v_x in range(10,20):\n",
    "    for v_y in range(10,200):\n",
    "        x,y = 0,0\n",
    "        initials = v_y\n",
    "        initialsx = v_x\n",
    "        vx = v_x\n",
    "        vy = v_y\n",
    "        while y >= rangeY[0]:\n",
    "            if x >= rangeX[0] and x <= rangeX[1] and y >= rangeY[0] and y <= rangeY[1]:\n",
    "                if (initials*(initials+1))//2 > max_y: max_y = (initials*(initials+1))//2\n",
    "                #print(x,y,'velocity',vx,vy, initialsx,initials, initials*(initials+1)//2)\n",
    "            (x,y),(vx,vy) = new_pos((x,y),(vx,vy))\n",
    "print(max_y)"
   ]
  },
  {
   "cell_type": "code",
   "execution_count": 27,
   "id": "dab58225",
   "metadata": {},
   "outputs": [
    {
     "data": {
      "text/plain": [
       "4110"
      ]
     },
     "execution_count": 27,
     "metadata": {},
     "output_type": "execute_result"
    }
   ],
   "source": [
    "# part 2\n",
    "\n",
    "total = set()\n",
    "for v_x in range(0,165):\n",
    "    for v_y in range(-141,230):\n",
    "        x,y = 0,0\n",
    "        initials = v_y\n",
    "        initialsx = v_x\n",
    "        vx = v_x\n",
    "        vy = v_y\n",
    "        while y >= rangeY[0]:\n",
    "            if x >= rangeX[0] and x <= rangeX[1] and y >= rangeY[0] and y <= rangeY[1]:\n",
    "                total.add((initialsx,initials))\n",
    "                #if (initials*(initials+1))//2 > max_y: max_y = (initials*(initials+1))//2\n",
    "                #print(x,y,'velocity',vx,vy, initialsx,initials, initials*(initials+1)//2)\n",
    "            (x,y),(vx,vy) = new_pos((x,y),(vx,vy))\n",
    "len(total)"
   ]
  },
  {
   "cell_type": "code",
   "execution_count": null,
   "id": "0350ae34",
   "metadata": {},
   "outputs": [],
   "source": [
    "# 333 too low 410 too low\n",
    "#not right 2190\n",
    "4110"
   ]
  }
 ],
 "metadata": {
  "kernelspec": {
   "display_name": "Python 3 (ipykernel)",
   "language": "python",
   "name": "python3"
  },
  "language_info": {
   "codemirror_mode": {
    "name": "ipython",
    "version": 3
   },
   "file_extension": ".py",
   "mimetype": "text/x-python",
   "name": "python",
   "nbconvert_exporter": "python",
   "pygments_lexer": "ipython3",
   "version": "3.9.9"
  }
 },
 "nbformat": 4,
 "nbformat_minor": 5
}

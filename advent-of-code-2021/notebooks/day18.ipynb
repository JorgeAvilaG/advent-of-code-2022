{
 "cells": [
  {
   "cell_type": "code",
   "execution_count": 1,
   "metadata": {},
   "outputs": [
    {
     "data": {
      "text/plain": [
       "['[[[[2,8],[4,6]],[[2,4],[9,4]]],[[[0,6],[4,6]],[1,6]]]',\n",
       " '[7,[[5,7],1]]',\n",
       " '[[[[8,8],7],5],[[[5,6],1],6]]',\n",
       " '[[[8,5],[[0,0],[4,9]]],[2,8]]',\n",
       " '[7,[[5,2],[[3,0],[7,7]]]]']"
      ]
     },
     "execution_count": 1,
     "metadata": {},
     "output_type": "execute_result"
    }
   ],
   "source": [
    "f = open(\"../data/data_day18.txt\", \"r\")\n",
    "data = list(f)\n",
    "data = [line.strip() for line in data]\n",
    "data[0:5]"
   ]
  },
  {
   "cell_type": "code",
   "execution_count": 2,
   "metadata": {},
   "outputs": [
    {
     "name": "stdout",
     "output_type": "stream",
     "text": [
      "[(4, 7), (4, 8), (4, 8), (4, 8), (4, 7), (4, 7), (4, 7), (4, 8), (4, 7), (4, 8), (4, 0), (4, 8), (4, 8), (4, 9), (4, 4), (4, 6)]\n"
     ]
    }
   ],
   "source": [
    "import math\n",
    "def gen_number(string):\n",
    "    sol = []\n",
    "    level = 0\n",
    "    for i in string:\n",
    "        if i == \"[\":\n",
    "            level += 1\n",
    "        elif i == \"]\":\n",
    "            level -= 1\n",
    "        elif i == \",\":\n",
    "            continue\n",
    "        else:\n",
    "            sol.append((level, int(i)))\n",
    "    return sol\n",
    "\n",
    "def add_numbers(n1,n2):\n",
    "    new_n1 = [(n[0]+1, n[1])for n in n1]\n",
    "    new_n2 = [(n[0]+1, n[1])for n in n2]\n",
    "    return new_n1 + new_n2\n",
    "\n",
    "def explode_number(n):\n",
    "    for i,number in enumerate(n):\n",
    "        if number[0] == 5:\n",
    "            if i != 0:\n",
    "                n[i-1] = (n[i-1][0], n[i-1][1]+ number[1])\n",
    "            if i+1 != len(n)-1:\n",
    "                n[i+2] = (n[i+2][0], n[i+2][1]+ n[i+1][1])\n",
    "            n[i+1] = (n[i+1][0]-1, 0)\n",
    "            new_n = n[:i]+n[i+1:]\n",
    "            return True , new_n\n",
    "    return False, n\n",
    "\n",
    "def split(n):\n",
    "    for i,number in enumerate(n):\n",
    "        if number[1] > 9:\n",
    "            left = number[1]//2\n",
    "            right = number[1] - left\n",
    "\n",
    "            return True , n[:i]+[(number[0]+1, left)]+[(number[0]+1, right)]+n[i+1:]\n",
    "    return False, n\n",
    "\n",
    "\n",
    "pre = gen_number(data[0])\n",
    "for line in data[1:]:\n",
    "    #print(line)\n",
    "    #print(gen_number(line))\n",
    "    pre = add_numbers(pre, gen_number(line))\n",
    "    #print(pre)\n",
    "    changed = True\n",
    "    while changed:\n",
    "        changed = False\n",
    "        while True:\n",
    "            b, pre = explode_number(pre)\n",
    "            if b:\n",
    "                changed = True\n",
    "            if not b:\n",
    "                break\n",
    "        \n",
    "        b, pre = split(pre)\n",
    "        if b:\n",
    "            changed = True\n",
    "print(pre)\n",
    "    "
   ]
  },
  {
   "cell_type": "code",
   "execution_count": 3,
   "metadata": {},
   "outputs": [
    {
     "data": {
      "text/plain": [
       "4347"
      ]
     },
     "execution_count": 3,
     "metadata": {},
     "output_type": "execute_result"
    }
   ],
   "source": [
    "def cal_mag(n):\n",
    "    level = 4\n",
    "    while level:\n",
    "        pre = []\n",
    "        pos = 0\n",
    "        while pos < len(n):\n",
    "            number = n[pos]\n",
    "            if number[0] == level:\n",
    "                a = number[1]\n",
    "                pos += 1\n",
    "                number = n[pos]\n",
    "                b = number[1]\n",
    "                pre.append((level-1, 3*a+2*b))\n",
    "            else:\n",
    "                pre.append(number)\n",
    "            pos += 1\n",
    "        n = pre\n",
    "        level -= 1\n",
    "    return n\n",
    "\n",
    "\n",
    "cal_mag(pre)[0][1]"
   ]
  },
  {
   "cell_type": "code",
   "execution_count": 4,
   "metadata": {},
   "outputs": [
    {
     "name": "stdout",
     "output_type": "stream",
     "text": [
      "4721\n"
     ]
    }
   ],
   "source": [
    "# part 2\n",
    "\n",
    "sol = 0\n",
    "for line in data:\n",
    "    for line2 in data:\n",
    "        if line == line2:\n",
    "            continue\n",
    "        pre = add_numbers(gen_number(line), gen_number(line2))\n",
    "\n",
    "        changed = True\n",
    "        while changed:\n",
    "            changed = False\n",
    "            while True:\n",
    "                b, pre = explode_number(pre)\n",
    "                if b:\n",
    "                    changed = True\n",
    "                if not b:\n",
    "                    break\n",
    "            b, pre = split(pre)\n",
    "            if b:\n",
    "                changed = True\n",
    "        number = cal_mag(pre)[0][1]\n",
    "        if number > sol:\n",
    "            sol = number\n",
    "print(sol)\n",
    "        "
   ]
  }
 ],
 "metadata": {
  "kernelspec": {
   "display_name": "Python 3",
   "language": "python",
   "name": "python3"
  },
  "language_info": {
   "codemirror_mode": {
    "name": "ipython",
    "version": 3
   },
   "file_extension": ".py",
   "mimetype": "text/x-python",
   "name": "python",
   "nbconvert_exporter": "python",
   "pygments_lexer": "ipython3",
   "version": "3.7.9"
  },
  "vscode": {
   "interpreter": {
    "hash": "68a6ae3e2399868ae5a564f3ca4e81a5451c3ca1ffe3b8d5d0da66c2f0b35b5a"
   }
  }
 },
 "nbformat": 4,
 "nbformat_minor": 4
}

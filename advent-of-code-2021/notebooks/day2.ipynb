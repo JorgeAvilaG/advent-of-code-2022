{
 "cells": [
  {
   "cell_type": "code",
   "execution_count": 2,
   "metadata": {},
   "outputs": [
    {
     "data": {
      "text/plain": [
       "[['forward', '4'],\n",
       " ['down', '7'],\n",
       " ['down', '4'],\n",
       " ['forward', '2'],\n",
       " ['down', '4'],\n",
       " ['down', '9'],\n",
       " ['down', '1'],\n",
       " ['forward', '1'],\n",
       " ['down', '4'],\n",
       " ['up', '5']]"
      ]
     },
     "execution_count": 2,
     "metadata": {},
     "output_type": "execute_result"
    }
   ],
   "source": [
    "f = open(\"../data/data_day2.txt\", \"r\")\n",
    "data = list(f)\n",
    "data = [x.strip().split() for x in data]\n",
    "data[0:10]"
   ]
  },
  {
   "cell_type": "code",
   "execution_count": 3,
   "metadata": {},
   "outputs": [
    {
     "name": "stdout",
     "output_type": "stream",
     "text": [
      "1250395\n"
     ]
    }
   ],
   "source": [
    "f,v = 0,0\n",
    "\n",
    "for line in data:\n",
    "    if line[0] == 'forward':\n",
    "        f += int(line[1])\n",
    "    elif line[0] == 'up':\n",
    "        v -= int(line[1])\n",
    "    elif line[0] == 'down':\n",
    "        v += int(line[1])\n",
    "print(f*v)"
   ]
  },
  {
   "cell_type": "code",
   "execution_count": 4,
   "metadata": {},
   "outputs": [
    {
     "name": "stdout",
     "output_type": "stream",
     "text": [
      "1451210346\n"
     ]
    }
   ],
   "source": [
    "f,v,a = 0,0,0\n",
    "\n",
    "for line in data:\n",
    "    if line[0] == 'forward':\n",
    "        f += int(line[1])\n",
    "        v += int(line[1])*a\n",
    "        \n",
    "    elif line[0] == 'up':\n",
    "        a -= int(line[1])\n",
    "    elif line[0] == 'down':\n",
    "        a += int(line[1])\n",
    "print(f*v)"
   ]
  },
  {
   "cell_type": "code",
   "execution_count": null,
   "metadata": {},
   "outputs": [],
   "source": []
  }
 ],
 "metadata": {
  "kernelspec": {
   "display_name": "Python 3",
   "language": "python",
   "name": "python3"
  },
  "language_info": {
   "codemirror_mode": {
    "name": "ipython",
    "version": 3
   },
   "file_extension": ".py",
   "mimetype": "text/x-python",
   "name": "python",
   "nbconvert_exporter": "python",
   "pygments_lexer": "ipython3",
   "version": "3.7.9"
  }
 },
 "nbformat": 4,
 "nbformat_minor": 4
}

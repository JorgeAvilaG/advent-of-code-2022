{
 "cells": [
  {
   "cell_type": "code",
   "execution_count": 24,
   "metadata": {},
   "outputs": [
    {
     "name": "stdout",
     "output_type": "stream",
     "text": [
      "1000 688 747\n"
     ]
    },
    {
     "data": {
      "text/plain": [
       "513936"
      ]
     },
     "execution_count": 24,
     "metadata": {},
     "output_type": "execute_result"
    }
   ],
   "source": [
    "# part 1\n",
    "data = \"\"\"Player 1 starting position: 8\n",
    "        Player 2 starting position: 2\"\"\"\n",
    "p1 = 8-1\n",
    "p2 = 2-1\n",
    "# 10 positions mod 10, 0 to 9\n",
    "\n",
    "dize = 0\n",
    "def roll_dize(dize):\n",
    "    dize += 1\n",
    "    if dize == 101:\n",
    "        dize = 1\n",
    "    return dize\n",
    "\n",
    "score_p1 = 0\n",
    "score_p2 = 0\n",
    "\n",
    "counter = 0\n",
    "while score_p1 < 1000 or score_p2 < 1000:\n",
    "    # p1\n",
    "    total = 0\n",
    "    for _ in range(3):\n",
    "        dize = roll_dize(dize)\n",
    "        total += dize\n",
    "    counter += 3\n",
    "    \n",
    "    p1 = (p1 + total)%10\n",
    "    \n",
    "    score_p1 += p1+1\n",
    "    #print(score_p1)\n",
    "    if score_p1 >= 1000 or score_p2 >= 1000:\n",
    "        break\n",
    "    # p2\n",
    "    total = 0\n",
    "    for _ in range(3):\n",
    "        dize = roll_dize(dize)\n",
    "        total += dize\n",
    "    counter += 3\n",
    "    p2 = (p2 + total)%10\n",
    "    score_p2 += p2+1\n",
    "print(score_p1,score_p2,counter)\n",
    "score_p2*counter"
   ]
  },
  {
   "cell_type": "code",
   "execution_count": 3,
   "metadata": {},
   "outputs": [
    {
     "name": "stdout",
     "output_type": "stream",
     "text": [
      "105619718613031 94052321632284\n"
     ]
    }
   ],
   "source": [
    "# part 2\n",
    "data = \"\"\"Player 1 starting position: 8\n",
    "        Player 2 starting position: 2\"\"\"\n",
    "p1 = 8-1\n",
    "p2 = 2-1\n",
    "# 10 positions mod 10, 0 to 9\n",
    "\n",
    "Scores = {3:1, # score versus number of universes\n",
    "        4:3,\n",
    "        5:6,\n",
    "        6:7,\n",
    "        7:6,\n",
    "        8:3,\n",
    "        9:1,}\n",
    "#(p1, p2, score_p1, score_p2, n_universes, turn_p1)\n",
    "to_check = []\n",
    "to_check.append((p1,p2,0,0,1,True))\n",
    "\n",
    "w_p1 = 0\n",
    "w_p2 = 0\n",
    "\n",
    "while to_check:\n",
    "    p1, p2, score_p1, score_p2, n_universes, turn_p1 = to_check.pop()\n",
    "    \n",
    "    if turn_p1:\n",
    "        for score in Scores:\n",
    "            new_p1 = (p1 + score)%10\n",
    "            new_score_p1 = score_p1+new_p1+1\n",
    "            new_n_universes = n_universes*Scores[score]\n",
    "            new_turn_p1 = False\n",
    "            \n",
    "            if new_score_p1 >= 21:\n",
    "                w_p1 += new_n_universes\n",
    "            else:\n",
    "                to_check.append((new_p1, p2, new_score_p1, score_p2, new_n_universes, new_turn_p1))\n",
    "    else:\n",
    "        for score in Scores:\n",
    "            new_p2 = (p2 + score)%10\n",
    "            new_score_p2 = score_p2+new_p2+1\n",
    "            new_n_universes = n_universes*Scores[score]\n",
    "            new_turn_p1 = True\n",
    "            \n",
    "            if new_score_p2 >= 21:\n",
    "                w_p2 += new_n_universes\n",
    "            else:\n",
    "                to_check.append((p1, new_p2, score_p1, new_score_p2, new_n_universes, new_turn_p1))\n",
    "        \n",
    "    \n",
    "    \n",
    "    \n",
    "print(w_p1,w_p2)"
   ]
  },
  {
   "cell_type": "code",
   "execution_count": 4,
   "metadata": {},
   "outputs": [
    {
     "name": "stdout",
     "output_type": "stream",
     "text": [
      "p1 105619718613031\n"
     ]
    }
   ],
   "source": [
    "if w_p1 > w_p2:\n",
    "    print('p1', w_p1)\n",
    "else:\n",
    "    print('p2', w_p2)"
   ]
  },
  {
   "cell_type": "code",
   "execution_count": null,
   "metadata": {},
   "outputs": [],
   "source": []
  }
 ],
 "metadata": {
  "kernelspec": {
   "display_name": "Python 3",
   "language": "python",
   "name": "python3"
  },
  "language_info": {
   "codemirror_mode": {
    "name": "ipython",
    "version": 3
   },
   "file_extension": ".py",
   "mimetype": "text/x-python",
   "name": "python",
   "nbconvert_exporter": "python",
   "pygments_lexer": "ipython3",
   "version": "3.7.9"
  }
 },
 "nbformat": 4,
 "nbformat_minor": 5
}

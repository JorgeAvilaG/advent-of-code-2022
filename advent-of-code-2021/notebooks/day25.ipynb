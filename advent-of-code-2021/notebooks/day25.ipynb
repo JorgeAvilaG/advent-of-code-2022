{
 "cells": [
  {
   "cell_type": "code",
   "execution_count": 12,
   "metadata": {},
   "outputs": [
    {
     "name": "stdout",
     "output_type": "stream",
     "text": [
      "137 139\n",
      "['.', 'v', '>', 'v', '.', '.', '.', 'v', '>', '.', 'v', 'v', '.', 'v', 'v', '.', '.', '>', '>', '.', '.', '.', '.', '.', '.', '>', '.', '>', 'v', 'v', 'v', 'v', '.', '.', '.', '>', '.', '>', 'v', '>', 'v', '>', '.', '>', '.', 'v', '>', '.', '.', 'v', '>', 'v', '>', '.', 'v', '.', 'v', '>', '>', 'v', '>', 'v', 'v', '.', '.', '>', 'v', '.', '.', '.', 'v', 'v', '.', '.', '>', '.', 'v', '.', '.', 'v', 'v', 'v', '.', '.', '.', '>', '.', '.', 'v', 'v', '.', '.', 'v', 'v', '.', '>', '.', '.', 'v', '.', '.', '.', 'v', '.', '.', '.', '>', '.', '.', '>', '.', '.', 'v', '>', '>', '.', '.', 'v', '.', 'v', '.', '.', '.', '.', '.', '.', '>', '.', '>', 'v', 'v', '.', 'v', '.', '.', '.', 'v', '.', '.']\n"
     ]
    }
   ],
   "source": [
    "f = open(\"../data/data_day25.txt\", \"r\")\n",
    "data = list(f)\n",
    "data = [list(line.strip()) for line in data]\n",
    "print(len(data),len(data[0]))\n",
    "print(data[0])\n",
    "\n",
    "south = set()\n",
    "east = set()\n",
    "for y in range(len(data)):\n",
    "    for x in range(len(data[0])):\n",
    "        if data[y][x] == 'v':\n",
    "            south.add((x,y))\n",
    "        elif data[y][x] == '>':\n",
    "            east.add((x,y))"
   ]
  },
  {
   "cell_type": "code",
   "execution_count": 17,
   "metadata": {},
   "outputs": [
    {
     "name": "stdout",
     "output_type": "stream",
     "text": [
      "486\n"
     ]
    }
   ],
   "source": [
    "counter = 0\n",
    "moving = True\n",
    "\n",
    "while moving:\n",
    "    moving = False\n",
    "    counter += 1\n",
    "    \n",
    "    new_east = set()\n",
    "    for cucu in east:\n",
    "        x,y = cucu\n",
    "        new_y = y\n",
    "        new_x = (x+1)%len(data[0])\n",
    "        \n",
    "        if ((new_x,new_y) not in east) and ((new_x,new_y) not in south):\n",
    "            new_east.add((new_x,new_y))\n",
    "            moving = True\n",
    "        else:\n",
    "            new_east.add(cucu)\n",
    "    east = new_east.copy()     \n",
    "        \n",
    "    new_south = set()\n",
    "    for cucu in south:\n",
    "        x,y = cucu\n",
    "        new_y = (y+1)%len(data)\n",
    "        new_x = x\n",
    "        \n",
    "        if ((new_x,new_y) not in east) and ((new_x,new_y) not in south):\n",
    "            new_south.add((new_x,new_y))\n",
    "            moving = True\n",
    "        else:\n",
    "            new_south.add(cucu)\n",
    "    south = new_south.copy()\n",
    "print(counter)\n",
    "    \n",
    "    \n"
   ]
  },
  {
   "cell_type": "code",
   "execution_count": null,
   "metadata": {},
   "outputs": [],
   "source": []
  }
 ],
 "metadata": {
  "kernelspec": {
   "display_name": "Python 3",
   "language": "python",
   "name": "python3"
  },
  "language_info": {
   "codemirror_mode": {
    "name": "ipython",
    "version": 3
   },
   "file_extension": ".py",
   "mimetype": "text/x-python",
   "name": "python",
   "nbconvert_exporter": "python",
   "pygments_lexer": "ipython3",
   "version": "3.7.9"
  }
 },
 "nbformat": 4,
 "nbformat_minor": 4
}

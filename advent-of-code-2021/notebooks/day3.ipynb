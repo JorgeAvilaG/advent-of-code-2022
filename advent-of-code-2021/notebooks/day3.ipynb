{
 "cells": [
  {
   "cell_type": "code",
   "execution_count": 42,
   "metadata": {},
   "outputs": [
    {
     "data": {
      "text/plain": [
       "['000011001000',\n",
       " '001111100100',\n",
       " '110101011111',\n",
       " '010100001101',\n",
       " '110001001000',\n",
       " '010000110100',\n",
       " '010011010010',\n",
       " '110101000011',\n",
       " '100111001001',\n",
       " '001101110011']"
      ]
     },
     "execution_count": 42,
     "metadata": {},
     "output_type": "execute_result"
    }
   ],
   "source": [
    "f = open(\"../data/data_day3.txt\", \"r\")\n",
    "data = list(f)\n",
    "data = [x.strip() for x in data]\n",
    "data[0:10]"
   ]
  },
  {
   "cell_type": "code",
   "execution_count": 43,
   "metadata": {},
   "outputs": [
    {
     "name": "stdout",
     "output_type": "stream",
     "text": [
      "12\n",
      "4191876\n"
     ]
    }
   ],
   "source": [
    "n = len(data[0])\n",
    "print(n)\n",
    "\n",
    "processed = []\n",
    "for i in range(n):\n",
    "    processed.append([])\n",
    "    for line in data:\n",
    "        processed[-1].append(line[i])\n",
    "\n",
    "g,e = '',''\n",
    "for i in range(n): \n",
    "    if processed[i].count('1') > processed[i].count('0'):\n",
    "        g+='1'\n",
    "        e+='0'\n",
    "    else:\n",
    "        g+='0'\n",
    "        e+='1'\n",
    "print(int(g,2)*int(e,2))"
   ]
  },
  {
   "cell_type": "code",
   "execution_count": 44,
   "metadata": {},
   "outputs": [
    {
     "name": "stdout",
     "output_type": "stream",
     "text": [
      "0 1000 000011001000\n",
      "0\n",
      "1 513 000011001000\n",
      "1\n",
      "2 257 010100001101\n",
      "0\n",
      "3 132 010100001101\n",
      "1\n",
      "4 69 010100001101\n",
      "0\n",
      "5 44 010100001101\n",
      "1\n",
      "6 22 010101111110\n",
      "1\n",
      "7 11 010101111110\n",
      "0\n",
      "8 6 010101101010\n",
      "1\n",
      "9 3 010101101010\n",
      "1\n",
      "10 2 010101101110\n",
      "1\n",
      "11 2 010101101110\n",
      "1\n",
      "0 1000 000011001000\n",
      "1\n",
      "1 487 110101011111\n",
      "0\n",
      "2 225 100111001001\n",
      "0\n",
      "3 112 100111001001\n",
      "1\n",
      "4 54 100111001001\n",
      "1\n",
      "5 23 100111001001\n",
      "0\n",
      "6 11 100110000011\n",
      "0\n",
      "7 5 100110000011\n",
      "1\n",
      "8 2 100110010111\n",
      "0\n",
      "3414905\n"
     ]
    }
   ],
   "source": [
    "#part 2\n",
    "\n",
    "part2 = data.copy()\n",
    "n = 0\n",
    "while len(part2) > 1:\n",
    "    print(n, len(part2),part2[0])\n",
    "    processed = []\n",
    "    for line in part2:\n",
    "        processed.append(line[n]) \n",
    "    if processed.count('1') >= processed.count('0'):\n",
    "        bit_criteria = '1'\n",
    "    else:\n",
    "        bit_criteria = '0'\n",
    "    print(bit_criteria)\n",
    "    temp = []\n",
    "    for line in part2:\n",
    "        if line[n] == bit_criteria:\n",
    "            temp.append(line)\n",
    "    part2 = temp\n",
    "    \n",
    "    n+=1\n",
    "\n",
    "o2 = part2[0]\n",
    "\n",
    "part2 = data.copy()\n",
    "n = 0\n",
    "while len(part2) > 1:\n",
    "    print(n, len(part2),part2[0])\n",
    "    processed = []\n",
    "    for line in part2:\n",
    "        processed.append(line[n])\n",
    "        \n",
    "    if processed.count('1') >= processed.count('0'):\n",
    "        bit_criteria = '0'\n",
    "    else:\n",
    "        bit_criteria = '1'\n",
    "    print(bit_criteria)\n",
    "    temp = []\n",
    "    for line in part2:\n",
    "        if line[n] == bit_criteria:\n",
    "            temp.append(line)\n",
    "    part2 = temp\n",
    "    \n",
    "    n+=1\n",
    "\n",
    "co2 = part2[0]\n",
    "\n",
    "print(int(o2,2)*int(co2,2))"
   ]
  },
  {
   "cell_type": "code",
   "execution_count": null,
   "metadata": {},
   "outputs": [],
   "source": []
  }
 ],
 "metadata": {
  "kernelspec": {
   "display_name": "Python 3",
   "language": "python",
   "name": "python3"
  },
  "language_info": {
   "codemirror_mode": {
    "name": "ipython",
    "version": 3
   },
   "file_extension": ".py",
   "mimetype": "text/x-python",
   "name": "python",
   "nbconvert_exporter": "python",
   "pygments_lexer": "ipython3",
   "version": "3.7.9"
  }
 },
 "nbformat": 4,
 "nbformat_minor": 4
}

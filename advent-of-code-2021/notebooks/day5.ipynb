{
 "cells": [
  {
   "cell_type": "code",
   "execution_count": 66,
   "metadata": {},
   "outputs": [
    {
     "data": {
      "text/plain": [
       "[[223, 805, 223, 548],\n",
       " [609, 164, 609, 503],\n",
       " [461, 552, 796, 552],\n",
       " [207, 361, 207, 34],\n",
       " [503, 879, 503, 946],\n",
       " [937, 52, 937, 268],\n",
       " [560, 652, 118, 652],\n",
       " [771, 103, 85, 789],\n",
       " [119, 156, 947, 984],\n",
       " [356, 634, 607, 634]]"
      ]
     },
     "execution_count": 66,
     "metadata": {},
     "output_type": "execute_result"
    }
   ],
   "source": [
    "f = open(\"../data/data_day5.txt\", \"r\")\n",
    "data = list(f)\n",
    "data = [x.strip().replace(' -> ',',').split(',') for x in data]\n",
    "\n",
    "data = [[int(part) for part in x ] for x in data]\n",
    "\n",
    "data[0:10]"
   ]
  },
  {
   "cell_type": "code",
   "execution_count": 67,
   "metadata": {},
   "outputs": [
    {
     "data": {
      "text/plain": [
       "7142"
      ]
     },
     "execution_count": 67,
     "metadata": {},
     "output_type": "execute_result"
    }
   ],
   "source": [
    "#part 1\n",
    "smokes = set()\n",
    "big_smokes = set()\n",
    "for line in data:\n",
    "    x1,y1,x2,y2 = line\n",
    "    if not(x1 == x2 or y1 == y2):\n",
    "        continue\n",
    "    \n",
    "    smoke = set()\n",
    "    if x2 < x1:\n",
    "        x1,x2 = x2,x1\n",
    "    [smoke.add((i,y1)) for i in range(x1,x2+1)]\n",
    "    \n",
    "\n",
    "            \n",
    "    if y2 < y1:\n",
    "        y1,y2 = y2,y1\n",
    "    [smoke.add((x1,i)) for i in range(y1,y2+1)]\n",
    "    #print(smoke)\n",
    "    for s in smoke:\n",
    "        if s in smokes:\n",
    "            big_smokes.add(s)\n",
    "        else:\n",
    "            smokes.add(s)\n",
    "    \n",
    "len(big_smokes)        "
   ]
  },
  {
   "cell_type": "code",
   "execution_count": 68,
   "metadata": {},
   "outputs": [
    {
     "data": {
      "text/plain": [
       "20012"
      ]
     },
     "execution_count": 68,
     "metadata": {},
     "output_type": "execute_result"
    }
   ],
   "source": [
    "#part 2\n",
    "smokes = set()\n",
    "big_smokes = set()\n",
    "\n",
    "for line in data:\n",
    "    \n",
    "    x1,y1,x2,y2 = line\n",
    "\n",
    "    if x1 == x2:\n",
    "        dx = 0\n",
    "    else:\n",
    "        dx = abs(x1 - x2)//(x1 - x2)\n",
    "    if y1 == y2:\n",
    "        dy = 0\n",
    "    else:\n",
    "        dy = abs(y1 - y2)//(y1 - y2)\n",
    "\n",
    "    smoke = set()\n",
    "    smoke.add((x1,y1))\n",
    "    while x1 != x2 or y1 != y2:\n",
    "        x1 -=dx\n",
    "        y1 -=dy\n",
    "        smoke.add((x1,y1))\n",
    "\n",
    "    for s in smoke:\n",
    "        if s in smokes:\n",
    "            big_smokes.add(s)\n",
    "        else:\n",
    "            smokes.add(s)\n",
    "len(big_smokes)                "
   ]
  },
  {
   "cell_type": "code",
   "execution_count": null,
   "metadata": {},
   "outputs": [],
   "source": []
  },
  {
   "cell_type": "code",
   "execution_count": null,
   "metadata": {},
   "outputs": [],
   "source": []
  }
 ],
 "metadata": {
  "kernelspec": {
   "display_name": "Python 3",
   "language": "python",
   "name": "python3"
  },
  "language_info": {
   "codemirror_mode": {
    "name": "ipython",
    "version": 3
   },
   "file_extension": ".py",
   "mimetype": "text/x-python",
   "name": "python",
   "nbconvert_exporter": "python",
   "pygments_lexer": "ipython3",
   "version": "3.7.9"
  }
 },
 "nbformat": 4,
 "nbformat_minor": 4
}

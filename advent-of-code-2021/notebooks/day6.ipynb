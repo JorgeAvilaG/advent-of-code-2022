{
 "cells": [
  {
   "cell_type": "code",
   "execution_count": 19,
   "metadata": {},
   "outputs": [
    {
     "data": {
      "text/plain": [
       "[3, 5, 3, 5, 1, 3, 1, 1, 5, 5]"
      ]
     },
     "execution_count": 19,
     "metadata": {},
     "output_type": "execute_result"
    }
   ],
   "source": [
    "f = open(\"../data/data_day6.txt\", \"r\")\n",
    "data = list(f)\n",
    "data = [int(x) for x in data[0].split(',')]\n",
    "data[0:10]"
   ]
  },
  {
   "cell_type": "code",
   "execution_count": 20,
   "metadata": {},
   "outputs": [
    {
     "name": "stdout",
     "output_type": "stream",
     "text": [
      "0 False\n",
      "1 True\n",
      "2 True\n",
      "3 True\n",
      "4 True\n",
      "5 True\n",
      "6 False\n",
      "7 False\n",
      "8 False\n",
      "9 False\n"
     ]
    }
   ],
   "source": [
    "for x in range(10):\n",
    "    print(x, x in data)"
   ]
  },
  {
   "cell_type": "code",
   "execution_count": 21,
   "metadata": {},
   "outputs": [
    {
     "name": "stdout",
     "output_type": "stream",
     "text": [
      "{1: 1401, 2: 1191, 3: 1154, 4: 1034, 5: 950}\n"
     ]
    },
    {
     "data": {
      "text/plain": [
       "365862"
      ]
     },
     "execution_count": 21,
     "metadata": {},
     "output_type": "execute_result"
    }
   ],
   "source": [
    "# Part 1\n",
    "D = {}\n",
    "for x in range(1,6):\n",
    "    fishs = [x]\n",
    "    for _ in range(80):\n",
    "        new_f = 0\n",
    "        for i in range(len(fishs)):\n",
    "            if fishs[i] == 0:\n",
    "                new_f += 1\n",
    "                fishs[i] = 6\n",
    "            else:\n",
    "                fishs[i] = fishs[i]-1\n",
    "        for n in range(new_f):\n",
    "            fishs.append(8)\n",
    "    D[x] = len(fishs)\n",
    "print(D)\n",
    "\n",
    "sol = 0\n",
    "for x in data:\n",
    "    sol += D[x]\n",
    "sol\n",
    "    "
   ]
  },
  {
   "cell_type": "code",
   "execution_count": 40,
   "metadata": {},
   "outputs": [
    {
     "name": "stdout",
     "output_type": "stream",
     "text": [
      "{1: 6206821033, 2: 5617089148, 3: 5217223242, 4: 4726100874, 5: 4368232009}\n"
     ]
    },
    {
     "data": {
      "text/plain": [
       "1653250886439"
      ]
     },
     "execution_count": 40,
     "metadata": {},
     "output_type": "execute_result"
    }
   ],
   "source": [
    "# Part 2\n",
    "\n",
    "\n",
    "D = {}\n",
    "for x in range(1,6):\n",
    "       \n",
    "    fishs = [0]*9\n",
    "    fishs[x] += 1\n",
    "    \n",
    "    for _ in range(256):\n",
    "        \n",
    "        new_f = [0]*9\n",
    "        for i in range(9):\n",
    "            if i == 0:\n",
    "                \n",
    "                new_f[8] += fishs[i]\n",
    "                \n",
    "                new_f[6] += fishs[i]\n",
    "            else:\n",
    "                new_f[i-1] += fishs[i]\n",
    "                \n",
    "        fishs = new_f.copy()\n",
    "    D[x] = sum(fishs)\n",
    "    \n",
    "print(D)\n",
    "sol = 0\n",
    "for x in data:\n",
    "    sol += D[x]\n",
    "sol        \n",
    "\n"
   ]
  },
  {
   "cell_type": "code",
   "execution_count": 24,
   "metadata": {},
   "outputs": [
    {
     "data": {
      "text/plain": [
       "[0, 0, 0, 0, 0, 0, 0, 0, 0]"
      ]
     },
     "execution_count": 24,
     "metadata": {},
     "output_type": "execute_result"
    }
   ],
   "source": [
    "[0]*9"
   ]
  },
  {
   "cell_type": "code",
   "execution_count": null,
   "metadata": {},
   "outputs": [],
   "source": []
  }
 ],
 "metadata": {
  "kernelspec": {
   "display_name": "Python 3",
   "language": "python",
   "name": "python3"
  },
  "language_info": {
   "codemirror_mode": {
    "name": "ipython",
    "version": 3
   },
   "file_extension": ".py",
   "mimetype": "text/x-python",
   "name": "python",
   "nbconvert_exporter": "python",
   "pygments_lexer": "ipython3",
   "version": "3.7.9"
  }
 },
 "nbformat": 4,
 "nbformat_minor": 4
}

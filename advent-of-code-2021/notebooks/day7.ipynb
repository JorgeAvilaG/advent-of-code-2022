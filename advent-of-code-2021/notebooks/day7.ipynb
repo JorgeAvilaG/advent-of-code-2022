{
 "cells": [
  {
   "cell_type": "code",
   "execution_count": 1,
   "metadata": {},
   "outputs": [
    {
     "data": {
      "text/plain": [
       "[1101, 1, 29, 67, 1102, 0, 1, 65, 1008, 65]"
      ]
     },
     "execution_count": 1,
     "metadata": {},
     "output_type": "execute_result"
    }
   ],
   "source": [
    "f = open(\"../data/data_day7.txt\", \"r\")\n",
    "data = list(f)\n",
    "data = [int(x) for x in data[0].split(',')]\n",
    "data[0:10]"
   ]
  },
  {
   "cell_type": "code",
   "execution_count": 6,
   "metadata": {},
   "outputs": [
    {
     "name": "stdout",
     "output_type": "stream",
     "text": [
      "1951 328187\n"
     ]
    }
   ],
   "source": [
    "#part 1\n",
    "min_sol = 10**10\n",
    "for n in range(max(data)):\n",
    "    sol = 0\n",
    "    for c in data:\n",
    "        sol += abs(c-n)\n",
    "    if sol < min_sol:\n",
    "        min_sol = sol\n",
    "print(n,min_sol)"
   ]
  },
  {
   "cell_type": "code",
   "execution_count": 7,
   "metadata": {},
   "outputs": [
    {
     "name": "stdout",
     "output_type": "stream",
     "text": [
      "1951 91257582\n"
     ]
    }
   ],
   "source": [
    "#part 2\n",
    "min_sol = 10**10\n",
    "for n in range(max(data)):\n",
    "    sol = 0\n",
    "    for c in data:\n",
    "        sol += (abs(c-n)*(abs(c-n)+1))//2\n",
    "    if sol < min_sol:\n",
    "        min_sol = sol\n",
    "print(n,min_sol)"
   ]
  },
  {
   "cell_type": "code",
   "execution_count": null,
   "metadata": {},
   "outputs": [],
   "source": []
  }
 ],
 "metadata": {
  "kernelspec": {
   "display_name": "Python 3",
   "language": "python",
   "name": "python3"
  },
  "language_info": {
   "codemirror_mode": {
    "name": "ipython",
    "version": 3
   },
   "file_extension": ".py",
   "mimetype": "text/x-python",
   "name": "python",
   "nbconvert_exporter": "python",
   "pygments_lexer": "ipython3",
   "version": "3.7.9"
  }
 },
 "nbformat": 4,
 "nbformat_minor": 4
}

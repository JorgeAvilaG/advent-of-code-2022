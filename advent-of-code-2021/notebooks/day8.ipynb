{
 "cells": [
  {
   "cell_type": "code",
   "execution_count": 7,
   "metadata": {},
   "outputs": [
    {
     "data": {
      "text/plain": [
       "[['bge',\n",
       "  'dacgef',\n",
       "  'gefac',\n",
       "  'geabf',\n",
       "  'gcab',\n",
       "  'baedf',\n",
       "  'efbdgc',\n",
       "  'agcfeb',\n",
       "  'gb',\n",
       "  'edacfgb'],\n",
       " ['dabef', 'caefg', 'gb', 'gfabe']]"
      ]
     },
     "execution_count": 7,
     "metadata": {},
     "output_type": "execute_result"
    }
   ],
   "source": [
    "f = open(\"../data/data_day8.txt\", \"r\")\n",
    "data = list(f)\n",
    "data = [x.strip().split(' | ') for x in data]\n",
    "data = [[x.split(),y.split()] for x,y in data]\n",
    "data[0]"
   ]
  },
  {
   "cell_type": "code",
   "execution_count": 11,
   "metadata": {},
   "outputs": [
    {
     "name": "stdout",
     "output_type": "stream",
     "text": [
      "355\n"
     ]
    }
   ],
   "source": [
    "# part 1\n",
    "sol = 0\n",
    "for _, line in data:\n",
    "    for segment in line:\n",
    "        if len(segment) in [2,3,4,7]:\n",
    "            sol+=1\n",
    "print(sol)"
   ]
  },
  {
   "cell_type": "code",
   "execution_count": 22,
   "metadata": {},
   "outputs": [
    {
     "data": {
      "text/plain": [
       "{7: {'b', 'e', 'g'},\n",
       " 4: {'a', 'b', 'c', 'g'},\n",
       " 1: {'b', 'g'},\n",
       " 8: {'a', 'b', 'c', 'd', 'e', 'f', 'g'},\n",
       " 6: {'a', 'c', 'd', 'e', 'f', 'g'},\n",
       " 5: {'a', 'c', 'e', 'f', 'g'},\n",
       " 3: {'a', 'b', 'e', 'f', 'g'},\n",
       " 2: {'a', 'b', 'd', 'e', 'f'},\n",
       " 0: {'b', 'c', 'd', 'e', 'f', 'g'},\n",
       " 9: {'a', 'b', 'c', 'e', 'f', 'g'}}"
      ]
     },
     "execution_count": 22,
     "metadata": {},
     "output_type": "execute_result"
    }
   ],
   "source": [
    "# part 2\n",
    "\n",
    "def get_segments(segments):\n",
    "    temp = segments\n",
    "    temp = [set(item) for item in temp]\n",
    "    D = {}\n",
    "    for item in temp:\n",
    "        size = len(item)\n",
    "        if size == 2:\n",
    "            D[1] = item\n",
    "        elif size == 4:\n",
    "            D[4] = item\n",
    "        elif size == 3:\n",
    "            D[7] = item\n",
    "        elif size == 7:\n",
    "            D[8] = item\n",
    "    for item in temp:\n",
    "        size = len(item)\n",
    "        if size == 6:\n",
    "            if not D[1].issubset(item):\n",
    "                D[6] = item\n",
    "            elif D[4].issubset(item):\n",
    "                D[9] = item\n",
    "            else:\n",
    "                D[0] = item\n",
    "        if size == 5:\n",
    "            if D[1].issubset(item):\n",
    "                D[3] = item\n",
    "            elif len(D[4].intersection(item)) == 3:\n",
    "                D[5] = item\n",
    "            else:\n",
    "                D[2] = item \n",
    "    return D\n",
    "\n",
    "\n",
    "get_segments(data[0][0])    "
   ]
  },
  {
   "cell_type": "code",
   "execution_count": 26,
   "metadata": {},
   "outputs": [
    {
     "data": {
      "text/plain": [
       "983030"
      ]
     },
     "execution_count": 26,
     "metadata": {},
     "output_type": "execute_result"
    }
   ],
   "source": [
    "sol = 0\n",
    "for segments, numbers in data:\n",
    "    D = get_segments(segments)\n",
    "    temp = [set(item) for item in numbers]\n",
    "    n = ''\n",
    "    for number in temp:\n",
    "        for digit in D:\n",
    "            if D[digit] == number:\n",
    "                n += str(digit)\n",
    "    sol += int(n)\n",
    "sol\n",
    "    "
   ]
  },
  {
   "cell_type": "code",
   "execution_count": null,
   "metadata": {},
   "outputs": [],
   "source": []
  }
 ],
 "metadata": {
  "kernelspec": {
   "display_name": "Python 3 (ipykernel)",
   "language": "python",
   "name": "python3"
  },
  "language_info": {
   "codemirror_mode": {
    "name": "ipython",
    "version": 3
   },
   "file_extension": ".py",
   "mimetype": "text/x-python",
   "name": "python",
   "nbconvert_exporter": "python",
   "pygments_lexer": "ipython3",
   "version": "3.9.9"
  }
 },
 "nbformat": 4,
 "nbformat_minor": 4
}

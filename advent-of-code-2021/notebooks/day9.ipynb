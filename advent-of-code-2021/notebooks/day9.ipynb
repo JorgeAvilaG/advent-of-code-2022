{
 "cells": [
  {
   "cell_type": "code",
   "execution_count": 50,
   "id": "048f5b4f",
   "metadata": {},
   "outputs": [
    {
     "name": "stdout",
     "output_type": "stream",
     "text": [
      "100\n",
      "100\n"
     ]
    }
   ],
   "source": [
    "f = open(\"../data/data_day9.txt\", \"r\")\n",
    "data = list(f)\n",
    "data = [list(line.strip()) for line in data]\n",
    "data = [[int(x) for x in line] for line in data]\n",
    "print(len(data))\n",
    "print(len(data[0]))\n"
   ]
  },
  {
   "cell_type": "markdown",
   "id": "2274e64f",
   "metadata": {},
   "source": [
    "data = \"\"\"2199943210\n",
    "3987894921\n",
    "9856789892\n",
    "8767896789\n",
    "9899965678\"\"\"\n",
    "data = data.split('\\n')\n",
    "data = [[int(x) for x in line] for line in data]\n",
    "print(len(data))\n",
    "print(len(data[0]))\n",
    "data"
   ]
  },
  {
   "cell_type": "code",
   "execution_count": 51,
   "id": "c4f0971f",
   "metadata": {},
   "outputs": [],
   "source": [
    "def is_low_point(x,y):\n",
    "    point = data[y][x]\n",
    "    for i in [-1,+1]:\n",
    "        if y+i >= 0 and y+i < len(data):\n",
    "            if data[y+i][x] <= point:\n",
    "                return False\n",
    "        if x+i >= 0 and x+i < len(data[0]):\n",
    "            if data[y][x+i] <= point:\n",
    "                return False\n",
    "    return True"
   ]
  },
  {
   "cell_type": "code",
   "execution_count": 52,
   "id": "49653d26",
   "metadata": {},
   "outputs": [
    {
     "data": {
      "text/plain": [
       "530"
      ]
     },
     "execution_count": 52,
     "metadata": {},
     "output_type": "execute_result"
    }
   ],
   "source": [
    "# part 1\n",
    "sol = 0\n",
    "for y in range(len(data)):\n",
    "    for x in range(len(data[0])):\n",
    "        if is_low_point(x,y):\n",
    "            sol+= 1 + data[y][x]\n",
    "sol            "
   ]
  },
  {
   "cell_type": "code",
   "execution_count": 53,
   "id": "5dadfbb7",
   "metadata": {},
   "outputs": [
    {
     "data": {
      "text/plain": [
       "1019494"
      ]
     },
     "execution_count": 53,
     "metadata": {},
     "output_type": "execute_result"
    }
   ],
   "source": [
    "# part 2\n",
    "\n",
    "def size_basin(x0,y0):\n",
    "    to_check=[(x0,y0,data[y0][x0])]\n",
    "    size = set()\n",
    "    \n",
    "    while to_check:\n",
    "        x,y,value = to_check.pop()\n",
    "        \n",
    "        if data[y][x] < value:\n",
    "            continue\n",
    "        if data[y][x] == 9:\n",
    "            continue\n",
    "        \n",
    "        size.add((x,y))\n",
    "        #print(x,y,data[y][x])\n",
    "        for i in [-1,+1]:\n",
    "            if y+i >= 0 and y+i < len(data):\n",
    "                to_check.append((x,y+i,value+1))\n",
    "            if x+i >= 0 and x+i < len(data[0]):\n",
    "                to_check.append((x+i,y,value+1))\n",
    "    return len(size)\n",
    "                \n",
    "    \n",
    "basins = []\n",
    "for y in range(len(data)):\n",
    "    for x in range(len(data[0])):\n",
    "        if is_low_point(x,y):\n",
    "            #print(x,y,'ojoo',data[y][x])\n",
    "            basins.append(size_basin(x,y))\n",
    "           # print(basins[-1])\n",
    "\n",
    "sol = sorted(basins, reverse=True)\n",
    "sol[0]*sol[1]*sol[2]\n"
   ]
  },
  {
   "cell_type": "code",
   "execution_count": 54,
   "id": "7e0719b2",
   "metadata": {},
   "outputs": [
    {
     "data": {
      "text/plain": [
       "7292"
      ]
     },
     "execution_count": 54,
     "metadata": {},
     "output_type": "execute_result"
    }
   ],
   "source": [
    "sum(sol)"
   ]
  },
  {
   "cell_type": "code",
   "execution_count": 55,
   "id": "62b6a670",
   "metadata": {},
   "outputs": [
    {
     "data": {
      "text/plain": [
       "10000"
      ]
     },
     "execution_count": 55,
     "metadata": {},
     "output_type": "execute_result"
    }
   ],
   "source": [
    "total = sum([x.count(9) for x in data])\n",
    "total + sum(sol)\n",
    "    "
   ]
  },
  {
   "cell_type": "code",
   "execution_count": 46,
   "id": "79943599",
   "metadata": {},
   "outputs": [
    {
     "data": {
      "text/plain": [
       "10000"
      ]
     },
     "execution_count": 46,
     "metadata": {},
     "output_type": "execute_result"
    }
   ],
   "source": [
    "100*100\n"
   ]
  },
  {
   "cell_type": "code",
   "execution_count": null,
   "id": "38641abf",
   "metadata": {},
   "outputs": [],
   "source": []
  }
 ],
 "metadata": {
  "kernelspec": {
   "display_name": "Python 3 (ipykernel)",
   "language": "python",
   "name": "python3"
  },
  "language_info": {
   "codemirror_mode": {
    "name": "ipython",
    "version": 3
   },
   "file_extension": ".py",
   "mimetype": "text/x-python",
   "name": "python",
   "nbconvert_exporter": "python",
   "pygments_lexer": "ipython3",
   "version": "3.9.9"
  }
 },
 "nbformat": 4,
 "nbformat_minor": 5
}

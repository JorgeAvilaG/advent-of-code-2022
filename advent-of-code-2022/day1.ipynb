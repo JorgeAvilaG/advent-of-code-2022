{
 "cells": [
  {
   "cell_type": "code",
   "execution_count": 1,
   "metadata": {},
   "outputs": [],
   "source": [
    "f = open(\".\\data\\day1.txt\", \"r\")\n",
    "data = list(f)\n",
    "data = [x.strip() for x in data]\n"
   ]
  },
  {
   "cell_type": "code",
   "execution_count": 2,
   "metadata": {},
   "outputs": [
    {
     "name": "stdout",
     "output_type": "stream",
     "text": [
      "Solution: 66487\n"
     ]
    }
   ],
   "source": [
    "# part 1\n",
    "record = 0\n",
    "current = 0\n",
    "for line in data:\n",
    "    if line == '':\n",
    "        if current > record: record = current\n",
    "        current = 0\n",
    "    else:\n",
    "        current += int(line)\n",
    "\n",
    "print(f'Solution: {record}')\n"
   ]
  },
  {
   "cell_type": "code",
   "execution_count": 3,
   "metadata": {},
   "outputs": [
    {
     "name": "stdout",
     "output_type": "stream",
     "text": [
      "Solution: 197301\n"
     ]
    }
   ],
   "source": [
    "# part 2\n",
    "record = []\n",
    "current = 0\n",
    "for line in data:\n",
    "    if line == '':\n",
    "        record.append(current)\n",
    "        current = 0\n",
    "    else:\n",
    "        current += int(line)\n",
    "record.append(current)\n",
    "record.sort()\n",
    "\n",
    "print(f'Solution: {sum(record[-3:])}')"
   ]
  },
  {
   "cell_type": "code",
   "execution_count": null,
   "metadata": {},
   "outputs": [],
   "source": []
  }
 ],
 "metadata": {
  "kernelspec": {
   "display_name": "Python 3.9.13 ('jupyterlab')",
   "language": "python",
   "name": "python3"
  },
  "language_info": {
   "codemirror_mode": {
    "name": "ipython",
    "version": 3
   },
   "file_extension": ".py",
   "mimetype": "text/x-python",
   "name": "python",
   "nbconvert_exporter": "python",
   "pygments_lexer": "ipython3",
   "version": "3.9.13"
  },
  "orig_nbformat": 4,
  "vscode": {
   "interpreter": {
    "hash": "0203cc3bfc9d7e0b8f87f39f71961d619c76a9641b63e1f8ea02096a657cb8c0"
   }
  }
 },
 "nbformat": 4,
 "nbformat_minor": 2
}

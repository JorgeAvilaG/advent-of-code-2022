{
 "cells": [
  {
   "cell_type": "code",
   "execution_count": 1,
   "metadata": {},
   "outputs": [
    {
     "data": {
      "text/plain": [
       "[['522,57',\n",
       "  '522,59',\n",
       "  '516,59',\n",
       "  '516,67',\n",
       "  '531,67',\n",
       "  '531,59',\n",
       "  '526,59',\n",
       "  '526,57'],\n",
       " ['479,105',\n",
       "  '479,107',\n",
       "  '472,107',\n",
       "  '472,113',\n",
       "  '483,113',\n",
       "  '483,107',\n",
       "  '482,107',\n",
       "  '482,105']]"
      ]
     },
     "execution_count": 1,
     "metadata": {},
     "output_type": "execute_result"
    }
   ],
   "source": [
    "f = open(\".\\data\\day14.txt\", \"r\")\n",
    "data = [x.strip() for x in list(f)]\n",
    "f.close()\n",
    "data = [x.split(' -> ') for x in data]\n",
    "data[0:2]"
   ]
  },
  {
   "cell_type": "code",
   "execution_count": 2,
   "metadata": {},
   "outputs": [
    {
     "name": "stdout",
     "output_type": "stream",
     "text": [
      "587 161 537 460\n"
     ]
    }
   ],
   "source": [
    "rocks = set()\n",
    "max_y = 0\n",
    "max_x = 0\n",
    "min_x = 100000\n",
    "for line in data:\n",
    "    pre = None\n",
    "    for item in line:\n",
    "        a,b = item.split(',')\n",
    "        a,b = int(a),int(b)\n",
    "        if b > max_y: max_y = b\n",
    "        if a > max_x: max_x = a\n",
    "        if a < min_x: min_x = a\n",
    "        if pre is None:\n",
    "            rocks.add((a,b))\n",
    "            pre = (a,b)\n",
    "        else:\n",
    "            if a == pre[0]:\n",
    "                temp = pre[1]\n",
    "                while temp != b:\n",
    "                    rocks.add((a,temp))\n",
    "                    if temp < b:\n",
    "                        temp = temp + 1\n",
    "                    else:\n",
    "                        temp = temp - 1\n",
    "                rocks.add((a,b))\n",
    "                pre = (a,b)\n",
    "            else:\n",
    "                temp = pre[0]\n",
    "                while temp != a:\n",
    "                    rocks.add((temp,b))\n",
    "                    if temp < a:\n",
    "                        temp = temp + 1\n",
    "                    else:\n",
    "                        temp = temp - 1\n",
    "                rocks.add((a,b))\n",
    "                pre = (a,b)\n",
    "print(len(rocks),max_y,max_x,min_x)\n"
   ]
  },
  {
   "cell_type": "code",
   "execution_count": 3,
   "metadata": {},
   "outputs": [
    {
     "name": "stdout",
     "output_type": "stream",
     "text": [
      "1072\n"
     ]
    }
   ],
   "source": [
    "# Part 1\n",
    "counter = 0\n",
    "sand = set()\n",
    "while True:\n",
    "    a,b = 500,0\n",
    "    while b < max_y:\n",
    "        if (a,b+1) not in rocks and (a,b+1) not in sand:\n",
    "            b += 1\n",
    "        elif (a-1,b+1) not in rocks and (a-1,b+1) not in sand:\n",
    "            a -= 1\n",
    "            b += 1\n",
    "        elif (a+1,b+1) not in rocks and (a+1,b+1) not in sand:\n",
    "            a += 1\n",
    "            b += 1\n",
    "        else:\n",
    "            sand.add((a,b))\n",
    "            counter+=1\n",
    "            break\n",
    "    if b == max_y:\n",
    "        break\n",
    "print(counter)\n"
   ]
  },
  {
   "cell_type": "code",
   "execution_count": 4,
   "metadata": {},
   "outputs": [
    {
     "name": "stdout",
     "output_type": "stream",
     "text": [
      "24659\n"
     ]
    }
   ],
   "source": [
    "# Part 2\n",
    "floor = max_y + 2\n",
    "for x in range(min_x-500,max_x+500):\n",
    "    rocks.add((x,floor))\n",
    "\n",
    "counter = 0\n",
    "sand = set()\n",
    "while True:\n",
    "    a,b = 500,0\n",
    "    while (500,0) not in sand:\n",
    "        if (a,b+1) not in rocks and (a,b+1) not in sand:\n",
    "            b += 1\n",
    "        elif (a-1,b+1) not in rocks and (a-1,b+1) not in sand:\n",
    "            a -= 1\n",
    "            b += 1\n",
    "        elif (a+1,b+1) not in rocks and (a+1,b+1) not in sand:\n",
    "            a += 1\n",
    "            b += 1\n",
    "        else:\n",
    "            sand.add((a,b))\n",
    "            counter+=1\n",
    "            break\n",
    "        \n",
    "        if b > max_y+1:\n",
    "            print('ojooo')\n",
    "\n",
    "    if (500,0) in sand:\n",
    "        break\n",
    "print(counter)"
   ]
  },
  {
   "cell_type": "code",
   "execution_count": null,
   "metadata": {},
   "outputs": [],
   "source": []
  }
 ],
 "metadata": {
  "kernelspec": {
   "display_name": "Python 3.9.13 ('red-electrica')",
   "language": "python",
   "name": "python3"
  },
  "language_info": {
   "codemirror_mode": {
    "name": "ipython",
    "version": 3
   },
   "file_extension": ".py",
   "mimetype": "text/x-python",
   "name": "python",
   "nbconvert_exporter": "python",
   "pygments_lexer": "ipython3",
   "version": "3.9.13 (main, Oct 13 2022, 21:23:06) [MSC v.1916 64 bit (AMD64)]"
  },
  "orig_nbformat": 4,
  "vscode": {
   "interpreter": {
    "hash": "480b375f1043213f5c1f0363a14182342a678e76bb2ef498debd342d6015283c"
   }
  }
 },
 "nbformat": 4,
 "nbformat_minor": 2
}

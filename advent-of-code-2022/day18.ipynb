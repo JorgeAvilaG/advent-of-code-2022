{
 "cells": [
  {
   "cell_type": "code",
   "execution_count": 1,
   "metadata": {},
   "outputs": [
    {
     "data": {
      "text/plain": [
       "[[6, 7, 3],\n",
       " [2, 9, 11],\n",
       " [7, 5, 16],\n",
       " [12, 12, 2],\n",
       " [17, 8, 14],\n",
       " [9, 4, 3],\n",
       " [8, 10, 2],\n",
       " [3, 14, 7],\n",
       " [15, 14, 10],\n",
       " [5, 13, 4]]"
      ]
     },
     "execution_count": 1,
     "metadata": {},
     "output_type": "execute_result"
    }
   ],
   "source": [
    "f = open(\".\\data\\day18.txt\", \"r\")\n",
    "data = [x.strip().split(',') for x in list(f)]\n",
    "f.close()\n",
    "data = [[int(x) for x in line] for line in data]\n",
    "data[0:10]\n"
   ]
  },
  {
   "cell_type": "code",
   "execution_count": 2,
   "metadata": {},
   "outputs": [
    {
     "name": "stdout",
     "output_type": "stream",
     "text": [
      "3662\n"
     ]
    }
   ],
   "source": [
    "#part 1\n",
    "rocks = [tuple(line) for line in data]\n",
    "\n",
    "\n",
    "sol = 0\n",
    "for a,b,c in data:\n",
    "    counter = 0\n",
    "    for x in [a+1, a-1]:\n",
    "        if (x,b,c) in rocks:\n",
    "            counter += 1\n",
    "    for x in [b+1, b-1]:\n",
    "        if (a,x,c) in rocks:\n",
    "            counter += 1\n",
    "    for x in [c+1, c-1]:\n",
    "        if (a,b,x) in rocks:\n",
    "            counter += 1\n",
    "    sol+=6-counter\n",
    "print(sol)\n"
   ]
  },
  {
   "cell_type": "code",
   "execution_count": 3,
   "metadata": {},
   "outputs": [
    {
     "name": "stdout",
     "output_type": "stream",
     "text": [
      "3662\n"
     ]
    }
   ],
   "source": [
    "#part 2\n",
    "air_inside = {}\n",
    "\n",
    "sol_part1 = 0\n",
    "for a,b,c in data:\n",
    "    counter = 0\n",
    "    for x in [a+1, a-1]:\n",
    "        if (x,b,c) in rocks:\n",
    "            counter += 1\n",
    "        elif (x,b,c) not in air_inside:\n",
    "            air_inside[(x,b,c)] = 1\n",
    "        else:\n",
    "            air_inside[(x,b,c)] += 1\n",
    "    for x in [b+1, b-1]:\n",
    "        if (a,x,c) in rocks:\n",
    "            counter += 1\n",
    "        elif (a,x,c) not in air_inside:\n",
    "            air_inside[(a,x,c)] = 1\n",
    "        else: \n",
    "            air_inside[(a,x,c)] += 1\n",
    "    for x in [c+1, c-1]:\n",
    "        if (a,b,x) in rocks:\n",
    "            counter += 1\n",
    "        elif (a,b,x) not in air_inside:\n",
    "            air_inside[(a,b,x)] = 1\n",
    "        else:\n",
    "            air_inside[(a,b,x)] += 1\n",
    "    sol_part1+=6-counter\n",
    "print(sol_part1)\n"
   ]
  },
  {
   "cell_type": "code",
   "execution_count": 4,
   "metadata": {},
   "outputs": [
    {
     "name": "stdout",
     "output_type": "stream",
     "text": [
      "19 19 19\n",
      "0 0 1\n"
     ]
    }
   ],
   "source": [
    "max_x = max([x[0] for x in data])\n",
    "max_y = max([x[1] for x in data])\n",
    "max_z = max([x[2] for x in data])\n",
    "min_x = min([x[0] for x in data])\n",
    "min_y = min([x[1] for x in data])\n",
    "min_z = min([x[2] for x in data])\n",
    "print(max_x, max_y, max_z)\n",
    "print(min_x, min_y, min_z)"
   ]
  },
  {
   "cell_type": "code",
   "execution_count": 5,
   "metadata": {},
   "outputs": [
    {
     "name": "stdout",
     "output_type": "stream",
     "text": [
      "2060\n"
     ]
    }
   ],
   "source": [
    "def is_inside(pos, visited_inside):\n",
    "    visited = set()\n",
    "    to_check = [pos]\n",
    "    while to_check:\n",
    "        x,y,z = to_check.pop()\n",
    "        if (x,y,z) in visited_inside:\n",
    "            visited_inside.union(visited)\n",
    "            return True, visited_inside\n",
    "        if x > 19 or y >19  or z > 19:\n",
    "            return False, visited_inside\n",
    "        elif x < 0 or y < 0 or z < 0:\n",
    "            return False, visited_inside\n",
    "        visited.add((x,y,z))\n",
    "        for a,b,c in [(x-1,y,z),(x,y-1,z),(x,y,z-1),(x+1,y,z),(x,y+1,z),(x,y,z+1)]:\n",
    "            if (a,b,c) in rocks:\n",
    "                continue\n",
    "            if (a,b,c) not in visited:\n",
    "                to_check.append((a,b,c))\n",
    "    visited_inside = visited_inside.union(visited)\n",
    "    return True , visited_inside\n",
    "\n",
    "visited_inside = set()\n",
    "sol_part2 = sol_part1\n",
    "counter = 0\n",
    "for air in air_inside.keys():\n",
    "    b, temp = is_inside(air, visited_inside)\n",
    "    if b:\n",
    "        visited_inside = temp\n",
    "        #print(len(visited_inside))\n",
    "        counter += 1\n",
    "        #print(counter, air)\n",
    "        sol_part2 = sol_part2 - air_inside[air]\n",
    "print(sol_part2)"
   ]
  },
  {
   "cell_type": "code",
   "execution_count": null,
   "metadata": {},
   "outputs": [],
   "source": []
  }
 ],
 "metadata": {
  "kernelspec": {
   "display_name": "Python 3.9.13 ('red-electrica')",
   "language": "python",
   "name": "python3"
  },
  "language_info": {
   "codemirror_mode": {
    "name": "ipython",
    "version": 3
   },
   "file_extension": ".py",
   "mimetype": "text/x-python",
   "name": "python",
   "nbconvert_exporter": "python",
   "pygments_lexer": "ipython3",
   "version": "3.9.13"
  },
  "orig_nbformat": 4,
  "vscode": {
   "interpreter": {
    "hash": "480b375f1043213f5c1f0363a14182342a678e76bb2ef498debd342d6015283c"
   }
  }
 },
 "nbformat": 4,
 "nbformat_minor": 2
}

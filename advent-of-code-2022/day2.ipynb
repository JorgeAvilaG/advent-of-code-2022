{
 "cells": [
  {
   "cell_type": "code",
   "execution_count": 1,
   "metadata": {},
   "outputs": [],
   "source": [
    "f = open(\".\\data\\day2.txt\", \"r\")\n",
    "data = list(f)\n",
    "data = [x.strip().split() for x in data]"
   ]
  },
  {
   "cell_type": "code",
   "execution_count": 2,
   "metadata": {},
   "outputs": [
    {
     "data": {
      "text/plain": [
       "13005"
      ]
     },
     "execution_count": 2,
     "metadata": {},
     "output_type": "execute_result"
    }
   ],
   "source": [
    "# part 1\n",
    "counter = 0\n",
    "for line in data:\n",
    "    a, b = line\n",
    "    if a == 'A': # Rock\n",
    "        if b == 'X': # Rock\n",
    "            counter += 3\n",
    "        elif b == 'Y': # Papel\n",
    "            counter += 6\n",
    "        else: #tijeras\n",
    "            counter += 0\n",
    "    if a == 'B': # Papel\n",
    "        if b == 'X': # Rock\n",
    "            counter += 0\n",
    "        elif b == 'Y': # Papel\n",
    "            counter += 3\n",
    "        else: #tijeras\n",
    "            counter += 6\n",
    "    if a == 'C': # tijeras\n",
    "        if b == 'X': # Rock\n",
    "            counter += 6\n",
    "        elif b == 'Y': # Papel\n",
    "            counter += 0\n",
    "        else: #tijeras\n",
    "            counter += 3\n",
    "\n",
    "    if b == 'X':\n",
    "        counter += 1\n",
    "    elif b == 'Y':\n",
    "        counter += 2\n",
    "    else:\n",
    "        counter += 3\n",
    "counter\n"
   ]
  },
  {
   "cell_type": "code",
   "execution_count": 3,
   "metadata": {},
   "outputs": [
    {
     "data": {
      "text/plain": [
       "11373"
      ]
     },
     "execution_count": 3,
     "metadata": {},
     "output_type": "execute_result"
    }
   ],
   "source": [
    "# part 1\n",
    "counter = 0\n",
    "for line in data:\n",
    "    a, b = line\n",
    "    if a == 'A': # Rock\n",
    "        if b == 'X': # lose\n",
    "            counter += 3\n",
    "        elif b == 'Y': # empate\n",
    "            counter += 1\n",
    "        else: #win\n",
    "            counter += 2\n",
    "    if a == 'B': # Papel\n",
    "        if b == 'X': # lose\n",
    "            counter += 1\n",
    "        elif b == 'Y': # empate\n",
    "            counter += 2\n",
    "        else: #win\n",
    "            counter += 3\n",
    "    if a == 'C': # tijeras\n",
    "        if b == 'X': # lose\n",
    "            counter += 2\n",
    "        elif b == 'Y': # empate\n",
    "            counter += 3\n",
    "        else: # win\n",
    "            counter += 1\n",
    "\n",
    "    if b == 'X':\n",
    "        counter += 0\n",
    "    elif b == 'Y':\n",
    "        counter += 3\n",
    "    else:\n",
    "        counter += 6\n",
    "counter"
   ]
  },
  {
   "cell_type": "code",
   "execution_count": null,
   "metadata": {},
   "outputs": [],
   "source": []
  }
 ],
 "metadata": {
  "kernelspec": {
   "display_name": "Python 3.9.13 ('jupyterlab')",
   "language": "python",
   "name": "python3"
  },
  "language_info": {
   "codemirror_mode": {
    "name": "ipython",
    "version": 3
   },
   "file_extension": ".py",
   "mimetype": "text/x-python",
   "name": "python",
   "nbconvert_exporter": "python",
   "pygments_lexer": "ipython3",
   "version": "3.9.13"
  },
  "orig_nbformat": 4,
  "vscode": {
   "interpreter": {
    "hash": "0203cc3bfc9d7e0b8f87f39f71961d619c76a9641b63e1f8ea02096a657cb8c0"
   }
  }
 },
 "nbformat": 4,
 "nbformat_minor": 2
}

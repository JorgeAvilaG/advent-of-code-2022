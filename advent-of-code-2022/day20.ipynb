{
 "cells": [
  {
   "cell_type": "code",
   "execution_count": 1,
   "metadata": {},
   "outputs": [
    {
     "data": {
      "text/plain": [
       "[-4707, 2246, 4162, 3642, 1168, 3101, -2569, 5481, 332, 7522]"
      ]
     },
     "execution_count": 1,
     "metadata": {},
     "output_type": "execute_result"
    }
   ],
   "source": [
    "f = open(\".\\data\\day20.txt\", \"r\")\n",
    "data = [int(x.strip()) for x in list(f)]\n",
    "f.close()\n",
    "data[0:10]\n"
   ]
  },
  {
   "cell_type": "code",
   "execution_count": 2,
   "metadata": {},
   "outputs": [],
   "source": [
    "D = {}\n",
    "for n in range(len(data)):\n",
    "    D[(n,data[n])] = [((n-1)%len(data),data[(n-1)%len(data)]), ((n+1)%len(data),data[(n+1)%len(data)]) ]\n",
    "    \n",
    "#D[(0,-4707)]"
   ]
  },
  {
   "cell_type": "code",
   "execution_count": 3,
   "metadata": {},
   "outputs": [],
   "source": [
    "for n in range(len(data)):\n",
    "    number = data[n]\n",
    "    pre,post = D[(n,number)]\n",
    "    if number > 0:\n",
    "        pruuu = (number)%(len(data)-1)\n",
    "        D[post][0] = pre\n",
    "        D[pre][1] = post\n",
    "        for i in range(pruuu):\n",
    "            post = D[post][1]\n",
    "        pre = D[post][0]\n",
    "        D[(n,number)] = [pre , post]\n",
    "        D[post][0] = (n,number)\n",
    "        D[pre][1] =  (n,number)\n",
    "    if number < 0:\n",
    "        cycles = abs(number)//(len(data)-1)\n",
    "        pruuu = number + cycles*(len(data)-1)\n",
    "        D[post][0] = pre\n",
    "        D[pre][1] = post\n",
    "        for i in range(abs(pruuu)):\n",
    "            pre = D[pre][0]\n",
    "        post = D[pre][1]\n",
    "        D[(n,number)] = [pre , post]\n",
    "        D[post][0] = (n,number)\n",
    "        D[pre][1] =  (n,number)       \n",
    "  \n",
    "    if number == 0:\n",
    "        n_0 = n\n",
    "    #print(D)"
   ]
  },
  {
   "cell_type": "code",
   "execution_count": 4,
   "metadata": {},
   "outputs": [
    {
     "name": "stdout",
     "output_type": "stream",
     "text": [
      "999 (3493, 4139)\n",
      "1999 (3338, 101)\n",
      "2999 (2180, 2913)\n",
      "7153\n"
     ]
    }
   ],
   "source": [
    "sol = 0\n",
    "pre, post = D[(n_0,0)]\n",
    "for i in range(1,3001):\n",
    "    post = D[post][1]\n",
    "    if i%1000 == 999:\n",
    "        sol+= post[1]\n",
    "        print(i,post)\n",
    "print(sol)        "
   ]
  },
  {
   "cell_type": "code",
   "execution_count": 5,
   "metadata": {},
   "outputs": [
    {
     "data": {
      "text/plain": [
       "[-3820150143171, 1822829237638, 3377834054786, 2955807695226, 947936130704]"
      ]
     },
     "execution_count": 5,
     "metadata": {},
     "output_type": "execute_result"
    }
   ],
   "source": [
    "# part 2\n",
    "update_data = [x*811589153 for x in data]\n",
    "update_data[0:5]"
   ]
  },
  {
   "cell_type": "code",
   "execution_count": 6,
   "metadata": {},
   "outputs": [],
   "source": [
    "D = {}\n",
    "for n in range(len(update_data)):\n",
    "    D[(n,update_data[n])] = [((n-1)%len(update_data),update_data[(n-1)%len(update_data)]), ((n+1)%len(update_data),update_data[(n+1)%len(update_data)]) ]"
   ]
  },
  {
   "cell_type": "code",
   "execution_count": 7,
   "metadata": {},
   "outputs": [],
   "source": [
    "for _ in range(10):\n",
    "    for n in range(len(update_data)):\n",
    "        number = update_data[n]\n",
    "        pre,post = D[(n,number)]\n",
    "        if number > 0:\n",
    "            pruuu = (number)%(len(update_data)-1)\n",
    "            D[post][0] = pre\n",
    "            D[pre][1] = post\n",
    "            for i in range(pruuu):\n",
    "                post = D[post][1]\n",
    "            pre = D[post][0]\n",
    "            D[(n,number)] = [pre , post]\n",
    "            D[post][0] = (n,number)\n",
    "            D[pre][1] =  (n,number)\n",
    "        if number < 0:\n",
    "            cycles = abs(number)//(len(update_data)-1)\n",
    "            pruuu = number + cycles*(len(update_data)-1)\n",
    "            D[post][0] = pre\n",
    "            D[pre][1] = post\n",
    "            for i in range(abs(pruuu)):\n",
    "                pre = D[pre][0]\n",
    "            post = D[pre][1]\n",
    "            D[(n,number)] = [pre , post]\n",
    "            D[post][0] = (n,number)\n",
    "            D[pre][1] =  (n,number)       \n",
    "    \n",
    "        if number == 0:\n",
    "            n_0 = n"
   ]
  },
  {
   "cell_type": "code",
   "execution_count": 8,
   "metadata": {},
   "outputs": [
    {
     "name": "stdout",
     "output_type": "stream",
     "text": [
      "999 (3242, -5173880850375)\n",
      "1999 (1144, 6827899544189)\n",
      "2999 (2443, 4492957551008)\n",
      "6146976244822\n"
     ]
    }
   ],
   "source": [
    "sol = 0\n",
    "pre, post = D[(n_0,0)]\n",
    "for i in range(1,3001):\n",
    "    post = D[post][1]\n",
    "    if i%1000 == 999:\n",
    "        sol+= post[1]\n",
    "        print(i,post)\n",
    "print(sol)  "
   ]
  },
  {
   "cell_type": "code",
   "execution_count": null,
   "metadata": {},
   "outputs": [],
   "source": []
  }
 ],
 "metadata": {
  "kernelspec": {
   "display_name": "Python 3",
   "language": "python",
   "name": "python3"
  },
  "language_info": {
   "codemirror_mode": {
    "name": "ipython",
    "version": 3
   },
   "file_extension": ".py",
   "mimetype": "text/x-python",
   "name": "python",
   "nbconvert_exporter": "python",
   "pygments_lexer": "ipython3",
   "version": "3.7.9"
  },
  "orig_nbformat": 4,
  "vscode": {
   "interpreter": {
    "hash": "68a6ae3e2399868ae5a564f3ca4e81a5451c3ca1ffe3b8d5d0da66c2f0b35b5a"
   }
  }
 },
 "nbformat": 4,
 "nbformat_minor": 2
}

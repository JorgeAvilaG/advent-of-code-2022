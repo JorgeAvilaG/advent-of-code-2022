{
 "cells": [
  {
   "cell_type": "code",
   "execution_count": 1,
   "metadata": {},
   "outputs": [
    {
     "data": {
      "text/plain": [
       "[['glgt:', 'wfcz', '-', 'fqtr'],\n",
       " ['rdhm:', 'jqrl', '+', 'tqhb'],\n",
       " ['lnhp:', 'hnvj', '+', 'bbcj'],\n",
       " ['rslm:', '5'],\n",
       " ['rjqn:', 'mgqs', '+', 'sjrh'],\n",
       " ['mnwl:', '3'],\n",
       " ['sqvc:', 'dhng', '*', 'jsfd'],\n",
       " ['ffnq:', '11'],\n",
       " ['tzrt:', 'sljc', '+', 'qmnw'],\n",
       " ['wlbq:', 'rzmd', '*', 'gggr']]"
      ]
     },
     "execution_count": 1,
     "metadata": {},
     "output_type": "execute_result"
    }
   ],
   "source": [
    "f = open(\".\\data\\day21.txt\", \"r\")\n",
    "data = [x.strip().split(' ') for x in list(f)]\n",
    "f.close()\n",
    "data[0:10]\n"
   ]
  },
  {
   "cell_type": "code",
   "execution_count": 2,
   "metadata": {},
   "outputs": [
    {
     "name": "stdout",
     "output_type": "stream",
     "text": [
      "62386792426088\n"
     ]
    }
   ],
   "source": [
    "# part 1\n",
    "operations = {}\n",
    "monkeys = {}\n",
    "for line in data:\n",
    "    if len(line) == 2:\n",
    "        monkeys[line[0][0:-1]] = int(line[1])\n",
    "    else:\n",
    "        operations[line[0][0:-1]] = line[1:]\n",
    "\n",
    "def solve_operations(monkeys, operations):\n",
    "    for monkey in operations.keys():\n",
    "        pre_monkey1, oper, pre_monkey2 = operations[monkey]\n",
    "        if pre_monkey1 in monkeys and pre_monkey2 in monkeys:\n",
    "            if oper == '+':\n",
    "                monkeys[monkey] = monkeys[pre_monkey1] + monkeys[pre_monkey2]\n",
    "            elif oper == '-':\n",
    "                monkeys[monkey] = monkeys[pre_monkey1] - monkeys[pre_monkey2]\n",
    "            elif oper == '*':\n",
    "                monkeys[monkey] = monkeys[pre_monkey1] * monkeys[pre_monkey2]\n",
    "            elif oper == '/':\n",
    "                monkeys[monkey] = monkeys[pre_monkey1] // monkeys[pre_monkey2]\n",
    "    return monkeys, operations\n",
    "\n",
    "while 'root' not in monkeys.keys():\n",
    "    monkeys, operations = solve_operations(monkeys, operations)\n",
    "print(monkeys['root'])"
   ]
  },
  {
   "cell_type": "code",
   "execution_count": 3,
   "metadata": {},
   "outputs": [
    {
     "data": {
      "text/plain": [
       "585"
      ]
     },
     "execution_count": 3,
     "metadata": {},
     "output_type": "execute_result"
    }
   ],
   "source": [
    "# part 2\n",
    "monkeys['humn']"
   ]
  },
  {
   "cell_type": "code",
   "execution_count": 4,
   "metadata": {},
   "outputs": [
    {
     "data": {
      "text/plain": [
       "['pgnv', '+', 'wcnp']"
      ]
     },
     "execution_count": 4,
     "metadata": {},
     "output_type": "execute_result"
    }
   ],
   "source": [
    "operations['root']"
   ]
  },
  {
   "cell_type": "code",
   "execution_count": 5,
   "metadata": {},
   "outputs": [],
   "source": [
    "def part2(data, n):\n",
    "    operations = {}\n",
    "    monkeys = {}\n",
    "    for line in data:\n",
    "        if len(line) == 2:\n",
    "            monkeys[line[0][0:-1]] = int(line[1])\n",
    "        else:\n",
    "            operations[line[0][0:-1]] = line[1:]\n",
    "\n",
    "    def solve_operations(monkeys, operations):\n",
    "        for monkey in operations.keys():\n",
    "            pre_monkey1, oper, pre_monkey2 = operations[monkey]\n",
    "            if pre_monkey1 in monkeys and pre_monkey2 in monkeys:\n",
    "                if oper == '+':\n",
    "                    monkeys[monkey] = monkeys[pre_monkey1] + monkeys[pre_monkey2]\n",
    "                elif oper == '-':\n",
    "                    monkeys[monkey] = monkeys[pre_monkey1] - monkeys[pre_monkey2]\n",
    "                elif oper == '*':\n",
    "                    monkeys[monkey] = monkeys[pre_monkey1] * monkeys[pre_monkey2]\n",
    "                elif oper == '/':\n",
    "                    monkeys[monkey] = monkeys[pre_monkey1] // monkeys[pre_monkey2]\n",
    "        return monkeys, operations\n",
    "\n",
    "\n",
    "    monkeys['humn'] = n#* 10**5\n",
    "    while 'root' not in monkeys.keys():\n",
    "        monkeys, operations = solve_operations(monkeys, operations)\n",
    "    #print(monkeys['pgnv'],monkeys['wcnp'])\n",
    "    #print(monkeys['pgnv']-monkeys['wcnp'])\n",
    "    return monkeys['pgnv']-monkeys['wcnp']\n",
    "#print(monkeys['root'])"
   ]
  },
  {
   "cell_type": "code",
   "execution_count": 6,
   "metadata": {},
   "outputs": [
    {
     "name": "stdout",
     "output_type": "stream",
     "text": [
      "959081515537\n",
      "-302416426850\n"
     ]
    },
    {
     "data": {
      "text/plain": [
       "[<matplotlib.lines.Line2D at 0x2665dd385c8>]"
      ]
     },
     "execution_count": 6,
     "metadata": {},
     "output_type": "execute_result"
    },
    {
     "data": {
      "image/png": "[encoded data removed]",
      "text/plain": [
       "<Figure size 432x288 with 1 Axes>"
      ]
     },
     "metadata": {
      "needs_background": "light"
     },
     "output_type": "display_data"
    }
   ],
   "source": [
    "import matplotlib.pyplot as plt\n",
    "sol = []\n",
    "for x in range(38,40):\n",
    "    temp = part2(data, x*10**11)\n",
    "    sol.append(temp)\n",
    "    print(temp)\n",
    "    if temp == 0:\n",
    "        print(x)\n",
    "plt.plot(sol)"
   ]
  },
  {
   "cell_type": "code",
   "execution_count": 7,
   "metadata": {},
   "outputs": [
    {
     "name": "stdout",
     "output_type": "stream",
     "text": [
      "3876027196185\n"
     ]
    }
   ],
   "source": [
    "current_sol = 38*10**11\n",
    "n = 10\n",
    "final = True\n",
    "while n >= 0 and final: \n",
    "    for x in range(0,10):\n",
    "        temp = part2(data, current_sol + x*10**n)\n",
    "        #print(temp, current_sol, x, n)\n",
    "        if temp < 0:\n",
    "            current_sol = current_sol + (x-1)*10**n\n",
    "            n -= 1\n",
    "            break\n",
    "        if temp == 0:\n",
    "            print(current_sol + x*10**n)\n",
    "            final = False\n",
    "            break   \n",
    "    else:\n",
    "        current_sol = current_sol = current_sol + (x)*10**n\n",
    "        n -= 1"
   ]
  },
  {
   "cell_type": "code",
   "execution_count": 8,
   "metadata": {},
   "outputs": [
    {
     "data": {
      "text/plain": [
       "0"
      ]
     },
     "execution_count": 8,
     "metadata": {},
     "output_type": "execute_result"
    }
   ],
   "source": [
    "part2(data,3876027196185)"
   ]
  },
  {
   "cell_type": "code",
   "execution_count": null,
   "metadata": {},
   "outputs": [],
   "source": []
  }
 ],
 "metadata": {
  "kernelspec": {
   "display_name": "trabajo3",
   "language": "python",
   "name": "python3"
  },
  "language_info": {
   "codemirror_mode": {
    "name": "ipython",
    "version": 3
   },
   "file_extension": ".py",
   "mimetype": "text/x-python",
   "name": "python",
   "nbconvert_exporter": "python",
   "pygments_lexer": "ipython3",
   "version": "3.7.9"
  },
  "orig_nbformat": 4,
  "vscode": {
   "interpreter": {
    "hash": "d9c1095f325b186a9c68c70257a87c03b55e546702fefa611caba39ab0727f0d"
   }
  }
 },
 "nbformat": 4,
 "nbformat_minor": 2
}

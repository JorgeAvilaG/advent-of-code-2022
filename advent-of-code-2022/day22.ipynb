{
 "cells": [
  {
   "cell_type": "code",
   "execution_count": 1,
   "metadata": {},
   "outputs": [],
   "source": [
    "f = open(\".\\data\\day22.txt\", \"r\")\n",
    "data = [list(x.rstrip()) for x in list(f)]\n",
    "f.close()\n",
    "maze = data[0:-2]\n",
    "trace = data[-1]"
   ]
  },
  {
   "cell_type": "code",
   "execution_count": 2,
   "metadata": {},
   "outputs": [],
   "source": [
    "trace = ''.join(trace)\n",
    "import re\n",
    "trace = re.findall(r'\\d+|\\D+', trace)\n",
    "#trace"
   ]
  },
  {
   "cell_type": "code",
   "execution_count": 3,
   "metadata": {},
   "outputs": [
    {
     "name": "stdout",
     "output_type": "stream",
     "text": [
      "50\n"
     ]
    }
   ],
   "source": [
    "# Part 1\n",
    "for x in range(len(data[0])):\n",
    "    if data[0][x] == '.':\n",
    "        print(x)\n",
    "        pos_0 = (0,x)\n",
    "        break\n",
    "direc = (0,1)\n",
    "def direction(to_do, direc):\n",
    "    if to_do == 'R':\n",
    "        if direc == (0,1):\n",
    "            direc = (1,0)\n",
    "        elif direc == (1,0):\n",
    "            direc = (0,-1)\n",
    "        elif direc == (0,-1):\n",
    "            direc = (-1,0)\n",
    "        elif direc == (-1,0):\n",
    "            direc = (0,1)\n",
    "    elif to_do == 'L':\n",
    "        if direc == (0,1):\n",
    "            direc = (-1,0)\n",
    "        elif direc == (1,0):\n",
    "            direc = (0,1)\n",
    "        elif direc == (0,-1):\n",
    "            direc = (1,0)\n",
    "        elif direc == (-1,0):\n",
    "            direc = (0,-1)\n",
    "    return direc"
   ]
  },
  {
   "cell_type": "code",
   "execution_count": 4,
   "metadata": {},
   "outputs": [
    {
     "data": {
      "text/plain": [
       "(0, 50)"
      ]
     },
     "execution_count": 4,
     "metadata": {},
     "output_type": "execute_result"
    }
   ],
   "source": [
    "pos_0"
   ]
  },
  {
   "cell_type": "code",
   "execution_count": 5,
   "metadata": {},
   "outputs": [],
   "source": [
    "pos = pos_0\n",
    "direc = (0,1)\n",
    "visited = set()\n",
    "\n",
    "counter = 0\n",
    "for to_do in trace:\n",
    "    #if counter == 100:\n",
    "    #    break\n",
    "    #counter+=1\n",
    "    #print(pos, direc, to_do)\n",
    "    if to_do in 'RL':\n",
    "        direc = direction(to_do, direc)\n",
    "        continue\n",
    "    number = int(to_do)\n",
    "    for i in range(number):\n",
    "        temp_pos = (pos[0] + direc[0], pos[1] + direc[1])\n",
    "        #print(pos,temp_pos,direc,number)\n",
    "        \n",
    "        if temp_pos[1] < 0 and direc == (0,-1): # go left\n",
    "            temp_pos = (temp_pos[0], len(maze[temp_pos[0]])-1)\n",
    "\n",
    "\n",
    "        elif temp_pos[0] < 0 and direc == (-1,0): # go up\n",
    "            if temp_pos[1]<=49:\n",
    "                print('maaaaal')\n",
    "                break\n",
    "            elif temp_pos[1] >= 50 and temp_pos[1]<=99:\n",
    "                temp_pos = (149, temp_pos[1])\n",
    "            elif temp_pos[1] >= 100 and temp_pos[1]<=149:\n",
    "                temp_pos = (49, temp_pos[1]) \n",
    "\n",
    "        elif temp_pos[0] >199 and direc == (1,0): # go down\n",
    "            if temp_pos[1]>=0 and temp_pos[1]<=49: \n",
    "                temp_pos = (100, temp_pos[1])\n",
    "        elif temp_pos[1]>=50 and temp_pos[1]<=99 and temp_pos[0] >149 and direc == (1,0):\n",
    "            temp_pos = (0, temp_pos[1])\n",
    "        elif temp_pos[1]>=100 and temp_pos[1]<=149 and temp_pos[0] >49 and direc == (1,0):\n",
    "            temp_pos = (0, temp_pos[1])\n",
    "        \n",
    "        elif temp_pos[1] >= len(maze[temp_pos[0]]) and direc == (0,1): # go right\n",
    "            if temp_pos[0]<=99:\n",
    "                temp_pos = (temp_pos[0], 50)\n",
    "            else:\n",
    "                temp_pos = (temp_pos[0], 0)   \n",
    "\n",
    "        elif maze[temp_pos[0]][temp_pos[1]] == ' ':\n",
    "                if temp_pos[0] == 99 and direc == (-1,0): # go up\n",
    "                    temp_pos = (199, temp_pos[1])\n",
    "                else: # go left\n",
    "                    temp_pos = (temp_pos[0], len(maze[temp_pos[0]])-1)\n",
    "        \n",
    "\n",
    "        #print(pos,temp_pos,direc,maze[temp_pos[0]][temp_pos[1]])\n",
    "\n",
    "        if maze[temp_pos[0]][temp_pos[1]] == '#':\n",
    "            break\n",
    "        elif maze[temp_pos[0]][temp_pos[1]] == '.':\n",
    "            pos = temp_pos\n",
    "            visited.add((pos,direc))\n",
    "    "
   ]
  },
  {
   "cell_type": "code",
   "execution_count": 6,
   "metadata": {},
   "outputs": [
    {
     "data": {
      "text/plain": [
       "1428"
      ]
     },
     "execution_count": 6,
     "metadata": {},
     "output_type": "execute_result"
    }
   ],
   "source": [
    "if direc == (0,1):\n",
    "    facing = 0\n",
    "elif direc == (1,0):\n",
    "    facing = 1\n",
    "elif direc == (0,-1):\n",
    "    facing = 2\n",
    "elif direc == (-1,0):\n",
    "    facing = 3\n",
    "(pos[0]+1)*1000 + (pos[1]+1)*4 + facing"
   ]
  },
  {
   "cell_type": "code",
   "execution_count": 7,
   "metadata": {},
   "outputs": [],
   "source": [
    "# part 2\n",
    "pos = pos_0\n",
    "direc = (0,1)\n",
    "temp_dir = direc\n",
    "visited = set()\n",
    "\n",
    "counter = 0\n",
    "for to_do in trace:\n",
    "    #if counter == 100:\n",
    "    #    break\n",
    "    #counter+=1\n",
    "    #print(pos, direc, to_do)\n",
    "    if to_do in 'RL':\n",
    "        direc = direction(to_do, direc)\n",
    "        temp_dir = direc\n",
    "        continue\n",
    "    number = int(to_do)\n",
    "    for i in range(number):\n",
    "        temp_pos = (pos[0] + direc[0], pos[1] + direc[1])\n",
    "        #print(pos,temp_pos,direc,number)\n",
    "        \n",
    "        # go up\n",
    "        if temp_pos[0] < 0 and temp_pos[1]>=50 and temp_pos[1]<=99 and direc == (-1,0):\n",
    "            temp_dir = (0,1)\n",
    "            temp_pos = (temp_pos[1]+100,0)\n",
    "        # go left\n",
    "        elif temp_pos[0] >=150 and temp_pos[0]<=199 and temp_pos[1]<0 and direc == (0,-1):\n",
    "            temp_dir = (1,0)\n",
    "            temp_pos = (0, temp_pos[0]-100)\n",
    "\n",
    "        # go up \n",
    "        elif temp_pos[0] < 0 and temp_pos[1]>=100 and temp_pos[1]<=149 and direc == (-1,0):\n",
    "            temp_dir = (-1,0)\n",
    "            temp_pos = (199, temp_pos[1]-100)\n",
    "        # go down\n",
    "        elif temp_pos[0] >199 and temp_pos[1]>=0 and temp_pos[1]<=49 and direc == (1,0):\n",
    "            temp_dir = (1,0)\n",
    "            temp_pos = (0, temp_pos[1]+100)\n",
    "        \n",
    "        # go left\n",
    "        elif temp_pos[0] >= 0 and temp_pos[0]<=49 and temp_pos[1]<50 and direc == (0,-1):\n",
    "            temp_dir = (0,1)\n",
    "            temp_pos = (149-temp_pos[0], 0)\n",
    "        # go left\n",
    "        elif temp_pos[0] >= 100 and temp_pos[0]<=149 and temp_pos[1]<0 and direc == (0,-1):\n",
    "            temp_dir = (0,1)\n",
    "            temp_pos = (149-temp_pos[0], 50)\n",
    "\n",
    "        # go left\n",
    "        elif temp_pos[0] >=50 and temp_pos[0]<=99 and temp_pos[1]<50 and direc == (0,-1):\n",
    "            temp_dir = (1,0)\n",
    "            temp_pos = (100, temp_pos[0]-50)\n",
    "        # go up\n",
    "        elif temp_pos[0]<100 and temp_pos[1]>=0 and temp_pos[1]<=49 and direc == (-1,0):\n",
    "            temp_dir = (0,1)\n",
    "            temp_pos = (temp_pos[1]+50, 50)\n",
    "        \n",
    "        # go right\n",
    "        elif temp_pos[0]>=0 and temp_pos[0]<=49 and temp_pos[1]>149 and direc == (0,1):\n",
    "            temp_dir = (0,-1)\n",
    "            temp_pos = (149-temp_pos[0], 99)\n",
    "        # go right\n",
    "        elif temp_pos[0]>=100 and temp_pos[0]<=149 and temp_pos[1]>99 and direc == (0,1):\n",
    "            temp_dir = (0,-1)\n",
    "            temp_pos = (149-temp_pos[0], 149)\n",
    "\n",
    "        # go down\n",
    "        elif temp_pos[0]>49 and temp_pos[1]>=100 and temp_pos[1]<=149 and direc == (1,0):\n",
    "            temp_dir = (0,-1)\n",
    "            temp_pos = (temp_pos[1]-50 ,99)\n",
    "        # go right\n",
    "        elif temp_pos[0]>=50 and temp_pos[0]<=99 and temp_pos[1]>99 and direc == (0,1):\n",
    "            temp_dir = (-1,0)\n",
    "            temp_pos = (49, temp_pos[0]+50)\n",
    "        \n",
    "        # go down\n",
    "        elif temp_pos[0]>149 and temp_pos[1]>=50 and temp_pos[1]<=99 and direc == (1,0):\n",
    "            temp_dir = (0,-1)\n",
    "            temp_pos = (temp_pos[1]+100,49)\n",
    "        # go right\n",
    "        elif temp_pos[0]>=150 and temp_pos[0]<=199 and temp_pos[1]>49 and direc == (0,1):\n",
    "            temp_dir = (-1,0)\n",
    "            temp_pos = (149, temp_pos[0]-100)\n",
    "\n",
    "        \n",
    "\n",
    "        #print(pos,temp_pos,direc,maze[temp_pos[0]][temp_pos[1]])\n",
    "\n",
    "        if maze[temp_pos[0]][temp_pos[1]] == '#':\n",
    "            break\n",
    "        elif maze[temp_pos[0]][temp_pos[1]] == '.':\n",
    "            pos = temp_pos\n",
    "            direc = temp_dir\n",
    "            visited.add((pos,direc))\n",
    "\n"
   ]
  },
  {
   "cell_type": "code",
   "execution_count": 8,
   "metadata": {},
   "outputs": [
    {
     "data": {
      "text/plain": [
       "142380"
      ]
     },
     "execution_count": 8,
     "metadata": {},
     "output_type": "execute_result"
    }
   ],
   "source": [
    "if direc == (0,1):\n",
    "    facing = 0\n",
    "elif direc == (1,0):\n",
    "    facing = 1\n",
    "elif direc == (0,-1):\n",
    "    facing = 2\n",
    "elif direc == (-1,0):\n",
    "    facing = 3\n",
    "(pos[0]+1)*1000 + (pos[1]+1)*4 + facing"
   ]
  }
 ],
 "metadata": {
  "kernelspec": {
   "display_name": "trabajo3",
   "language": "python",
   "name": "python3"
  },
  "language_info": {
   "codemirror_mode": {
    "name": "ipython",
    "version": 3
   },
   "file_extension": ".py",
   "mimetype": "text/x-python",
   "name": "python",
   "nbconvert_exporter": "python",
   "pygments_lexer": "ipython3",
   "version": "3.7.9"
  },
  "orig_nbformat": 4,
  "vscode": {
   "interpreter": {
    "hash": "d9c1095f325b186a9c68c70257a87c03b55e546702fefa611caba39ab0727f0d"
   }
  }
 },
 "nbformat": 4,
 "nbformat_minor": 2
}

{
 "cells": [
  {
   "cell_type": "code",
   "execution_count": 1,
   "metadata": {},
   "outputs": [
    {
     "data": {
      "text/plain": [
       "['1-12212=-=--=0221',\n",
       " '1----2-1',\n",
       " '1=2==-1-1=1-02---',\n",
       " '220--0=2-01-',\n",
       " '2=02-101-2-0221',\n",
       " '10=-21-',\n",
       " '1-02-0-10=0002',\n",
       " '20',\n",
       " '1==0-',\n",
       " '22-1201-011=']"
      ]
     },
     "execution_count": 1,
     "metadata": {},
     "output_type": "execute_result"
    }
   ],
   "source": [
    "f = open(\".\\data\\day25.txt\", \"r\")\n",
    "data = [x.strip() for x in list(f)]\n",
    "f.close()\n",
    "data[0:10]"
   ]
  },
  {
   "cell_type": "code",
   "execution_count": 2,
   "metadata": {},
   "outputs": [
    {
     "data": {
      "text/plain": [
       "34191676204851"
      ]
     },
     "execution_count": 2,
     "metadata": {},
     "output_type": "execute_result"
    }
   ],
   "source": [
    "sol = 0\n",
    "for number in data:\n",
    "    temp = 0\n",
    "    five = 1\n",
    "    for n in range(len(number)-1,-1,-1):\n",
    "        n = number[n]\n",
    "        if n == '2':\n",
    "            temp += five*2\n",
    "        elif n == '1':\n",
    "            temp += five*1\n",
    "        elif n == '0':\n",
    "            temp += five*0\n",
    "        elif n == '-':\n",
    "            temp += five*-1\n",
    "        elif n == '=':\n",
    "            temp += five*-2\n",
    "        five *= 5   \n",
    "    sol += temp\n",
    "sol"
   ]
  },
  {
   "cell_type": "code",
   "execution_count": 3,
   "metadata": {},
   "outputs": [
    {
     "data": {
      "text/plain": [
       "'2-0-020-1==1021=--01'"
      ]
     },
     "execution_count": 3,
     "metadata": {},
     "output_type": "execute_result"
    }
   ],
   "source": [
    "number = sol\n",
    "temp = []\n",
    "while True:\n",
    "    temp.append(number%5)\n",
    "    number = number//5\n",
    "    if number == 0:\n",
    "        break\n",
    "\n",
    "sol = ''\n",
    "pre = 0\n",
    "for n in temp:\n",
    "    number = n+pre\n",
    "    if number == 0:\n",
    "        sol = '0' + sol\n",
    "        pre = 0\n",
    "    elif number == 1:\n",
    "        sol = '1' + sol\n",
    "        pre = 0\n",
    "    elif number == 2:\n",
    "        sol = '2' + sol\n",
    "        pre = 0\n",
    "    elif number == 3:\n",
    "        sol = '=' + sol\n",
    "        pre = 1\n",
    "    elif number == 4:\n",
    "        sol = '-' + sol\n",
    "        pre = 1\n",
    "    elif number == 5:\n",
    "        sol = '0' + sol\n",
    "        pre = 1\n",
    "if pre == 1:\n",
    "    sol = '1' + sol\n",
    "sol"
   ]
  }
 ],
 "metadata": {
  "kernelspec": {
   "display_name": "trabajo3",
   "language": "python",
   "name": "python3"
  },
  "language_info": {
   "codemirror_mode": {
    "name": "ipython",
    "version": 3
   },
   "file_extension": ".py",
   "mimetype": "text/x-python",
   "name": "python",
   "nbconvert_exporter": "python",
   "pygments_lexer": "ipython3",
   "version": "3.7.9"
  },
  "orig_nbformat": 4,
  "vscode": {
   "interpreter": {
    "hash": "d9c1095f325b186a9c68c70257a87c03b55e546702fefa611caba39ab0727f0d"
   }
  }
 },
 "nbformat": 4,
 "nbformat_minor": 2
}

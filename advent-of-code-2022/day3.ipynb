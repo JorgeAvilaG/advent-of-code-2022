{
 "cells": [
  {
   "cell_type": "code",
   "execution_count": 1,
   "metadata": {},
   "outputs": [],
   "source": [
    "f = open(\".\\data\\day3.txt\", \"r\")\n",
    "data = list(f)\n",
    "data = [(x.strip()[:(len(x)//2)],x.strip()[(len(x)//2):]) for x in data]"
   ]
  },
  {
   "cell_type": "code",
   "execution_count": 2,
   "metadata": {},
   "outputs": [
    {
     "data": {
      "text/plain": [
       "8105"
      ]
     },
     "execution_count": 2,
     "metadata": {},
     "output_type": "execute_result"
    }
   ],
   "source": [
    "# Part 1\n",
    "priority = \"abcdefghijklmnopqrstuvwxyzABCDEFGHIJKLMNOPQRSTUVWXYZ\"\n",
    "sol = 0\n",
    "for a,b in data:\n",
    "    for letter in a:\n",
    "        if letter in b: \n",
    "            sol += priority.find(letter)+1\n",
    "            break\n",
    "sol"
   ]
  },
  {
   "cell_type": "code",
   "execution_count": 3,
   "metadata": {},
   "outputs": [],
   "source": [
    "# Part 2\n",
    "f = open(\".\\data\\day3.txt\", \"r\")\n",
    "data = list(f)\n",
    "data = [x.strip() for x in data]"
   ]
  },
  {
   "cell_type": "code",
   "execution_count": 4,
   "metadata": {},
   "outputs": [
    {
     "data": {
      "text/plain": [
       "2363"
      ]
     },
     "execution_count": 4,
     "metadata": {},
     "output_type": "execute_result"
    }
   ],
   "source": [
    "sol = 0\n",
    "for i in range(0,len(data),3):\n",
    "    a,b,c = data[i], data[i+1], data[i+2]\n",
    "    for letter in a:\n",
    "        if letter in b and letter in c: \n",
    "            sol += priority.find(letter)+1\n",
    "            break\n",
    "sol"
   ]
  }
 ],
 "metadata": {
  "kernelspec": {
   "display_name": "Python 3.9.13 ('red-electrica')",
   "language": "python",
   "name": "python3"
  },
  "language_info": {
   "codemirror_mode": {
    "name": "ipython",
    "version": 3
   },
   "file_extension": ".py",
   "mimetype": "text/x-python",
   "name": "python",
   "nbconvert_exporter": "python",
   "pygments_lexer": "ipython3",
   "version": "3.9.13"
  },
  "orig_nbformat": 4,
  "vscode": {
   "interpreter": {
    "hash": "480b375f1043213f5c1f0363a14182342a678e76bb2ef498debd342d6015283c"
   }
  }
 },
 "nbformat": 4,
 "nbformat_minor": 2
}

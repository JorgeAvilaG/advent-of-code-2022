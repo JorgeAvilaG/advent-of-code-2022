{
 "cells": [
  {
   "cell_type": "code",
   "execution_count": 1,
   "metadata": {},
   "outputs": [],
   "source": [
    "f = open(\".\\data\\day4.txt\", \"r\")\n",
    "data = list(f)\n",
    "data = [x.strip().split(',') for x in data]\n",
    "data = [(x[0].split('-'),x[1].split('-')) for x in data]"
   ]
  },
  {
   "cell_type": "code",
   "execution_count": 2,
   "metadata": {},
   "outputs": [
    {
     "data": {
      "text/plain": [
       "657"
      ]
     },
     "execution_count": 2,
     "metadata": {},
     "output_type": "execute_result"
    }
   ],
   "source": [
    "# Part 1\n",
    "sol = 0\n",
    "for a,b in data:\n",
    "    if (int(a[0]) >= int(b[0])) and (int(a[1]) <= int(b[1])):\n",
    "        sol += 1\n",
    "        continue\n",
    "    if (int(b[0]) >= int(a[0])) and (int(b[1]) <= int(a[1])):\n",
    "        sol += 1   \n",
    "\n",
    "sol"
   ]
  },
  {
   "cell_type": "code",
   "execution_count": 3,
   "metadata": {},
   "outputs": [
    {
     "data": {
      "text/plain": [
       "938"
      ]
     },
     "execution_count": 3,
     "metadata": {},
     "output_type": "execute_result"
    }
   ],
   "source": [
    "# Part 2\n",
    "sol = 0\n",
    "for a,b in data:\n",
    "    if (int(a[0]) >= int(b[0])) and (int(a[0]) <= int(b[1])):\n",
    "        sol += 1\n",
    "    elif (int(a[1]) >= int(b[0])) and (int(a[1]) <= int(b[1])):\n",
    "        sol += 1  \n",
    "    elif (int(b[0]) >= int(a[0])) and (int(b[0]) <= int(a[1])):\n",
    "        sol += 1\n",
    "    elif (int(b[1]) >= int(a[0])) and (int(b[1]) <= int(a[1])):\n",
    "        sol += 1  \n",
    "sol"
   ]
  }
 ],
 "metadata": {
  "kernelspec": {
   "display_name": "Python 3.9.13 ('red-electrica')",
   "language": "python",
   "name": "python3"
  },
  "language_info": {
   "codemirror_mode": {
    "name": "ipython",
    "version": 3
   },
   "file_extension": ".py",
   "mimetype": "text/x-python",
   "name": "python",
   "nbconvert_exporter": "python",
   "pygments_lexer": "ipython3",
   "version": "3.9.13"
  },
  "orig_nbformat": 4,
  "vscode": {
   "interpreter": {
    "hash": "480b375f1043213f5c1f0363a14182342a678e76bb2ef498debd342d6015283c"
   }
  }
 },
 "nbformat": 4,
 "nbformat_minor": 2
}

{
 "cells": [
  {
   "cell_type": "code",
   "execution_count": 1,
   "metadata": {},
   "outputs": [
    {
     "data": {
      "text/plain": [
       "['[C]         [S] [H]',\n",
       " '[F] [B]     [C] [S]     [W]',\n",
       " '[B] [W]     [W] [M] [S] [B]',\n",
       " '[L] [H] [G] [L] [P] [F] [Q]',\n",
       " '[D] [P] [J] [F] [T] [G] [M] [T]',\n",
       " '[P] [G] [B] [N] [L] [W] [P] [W] [R]',\n",
       " '[Z] [V] [W] [J] [J] [C] [T] [S] [C]',\n",
       " '[S] [N] [F] [G] [W] [B] [H] [F] [N]',\n",
       " '1   2   3   4   5   6   7   8   9',\n",
       " '']"
      ]
     },
     "execution_count": 1,
     "metadata": {},
     "output_type": "execute_result"
    }
   ],
   "source": [
    "\n",
    "f = open(\".\\data\\day5.txt\", \"r\")\n",
    "data = list(f)\n",
    "data = [x.strip() for x in data]\n",
    "data[0:10]"
   ]
  },
  {
   "cell_type": "code",
   "execution_count": 2,
   "metadata": {},
   "outputs": [
    {
     "data": {
      "text/plain": [
       "{'1': ['S', 'Z', 'P', 'D', 'L', 'B', 'F', 'C'],\n",
       " '2': ['N', 'V', 'G', 'P', 'H', 'W', 'B'],\n",
       " '3': ['F', 'W', 'B', 'J', 'G'],\n",
       " '4': ['G', 'J', 'N', 'F', 'L', 'W', 'C', 'S'],\n",
       " '5': ['W', 'J', 'L', 'T', 'P', 'M', 'S', 'H'],\n",
       " '6': ['B', 'C', 'W', 'G', 'F', 'S'],\n",
       " '7': ['H', 'T', 'P', 'M', 'Q', 'B', 'W'],\n",
       " '8': ['F', 'S', 'W', 'T'],\n",
       " '9': ['N', 'C', 'R']}"
      ]
     },
     "execution_count": 2,
     "metadata": {},
     "output_type": "execute_result"
    }
   ],
   "source": [
    "cargo = {\n",
    "    '1': [],\n",
    "    '2': [],\n",
    "    '3': [],\n",
    "    '4': [],\n",
    "    '5': [],\n",
    "    '6': [],\n",
    "    '7': [],\n",
    "    '8': [],\n",
    "    '9': [],\n",
    "}\n",
    "for line in data[0:8]:\n",
    "    counter = 1\n",
    "    pos = 1\n",
    "    while counter < len(line):\n",
    "        if line[counter] != ' ':\n",
    "            cargo[str(pos)].append(line[counter])\n",
    "        pos += 1\n",
    "        counter += 4\n",
    "for key in cargo:\n",
    "    cargo[key].reverse()\n",
    "import copy\n",
    "original_cargo = copy.deepcopy(cargo)\n",
    "original_cargo"
   ]
  },
  {
   "cell_type": "code",
   "execution_count": 3,
   "metadata": {},
   "outputs": [],
   "source": [
    "movements = [(line.split(' ')[1],line.split(' ')[3],line.split(' ')[5]) for line in data[10:]]"
   ]
  },
  {
   "cell_type": "code",
   "execution_count": 4,
   "metadata": {},
   "outputs": [
    {
     "data": {
      "text/plain": [
       "'FWSHSPJWM'"
      ]
     },
     "execution_count": 4,
     "metadata": {},
     "output_type": "execute_result"
    }
   ],
   "source": [
    "# Part 1\n",
    "cargo = copy.deepcopy(original_cargo)\n",
    "for ammount,origin,destination in movements:\n",
    "    for _ in range(int(ammount)):\n",
    "        crate = cargo[origin].pop()\n",
    "        cargo[destination].append(crate)\n",
    "\n",
    "sol = ''\n",
    "for key in cargo:\n",
    "    sol += cargo[key][-1]\n",
    "sol"
   ]
  },
  {
   "cell_type": "code",
   "execution_count": 5,
   "metadata": {},
   "outputs": [
    {
     "data": {
      "text/plain": [
       "'PWPWHGFZS'"
      ]
     },
     "execution_count": 5,
     "metadata": {},
     "output_type": "execute_result"
    }
   ],
   "source": [
    "# Part 2\n",
    "cargo = copy.deepcopy(original_cargo)\n",
    "for ammount,origin,destination in movements:\n",
    "    cargo[destination].extend(cargo[origin][-int(ammount):])\n",
    "    for _ in range(int(ammount)):\n",
    "        cargo[origin].pop()\n",
    "        \n",
    "sol = ''\n",
    "for key in cargo:\n",
    "    sol += cargo[key][-1]\n",
    "sol"
   ]
  },
  {
   "cell_type": "code",
   "execution_count": null,
   "metadata": {},
   "outputs": [],
   "source": []
  }
 ],
 "metadata": {
  "kernelspec": {
   "display_name": "Python 3.9.13 ('red-electrica')",
   "language": "python",
   "name": "python3"
  },
  "language_info": {
   "codemirror_mode": {
    "name": "ipython",
    "version": 3
   },
   "file_extension": ".py",
   "mimetype": "text/x-python",
   "name": "python",
   "nbconvert_exporter": "python",
   "pygments_lexer": "ipython3",
   "version": "3.9.13"
  },
  "orig_nbformat": 4,
  "vscode": {
   "interpreter": {
    "hash": "480b375f1043213f5c1f0363a14182342a678e76bb2ef498debd342d6015283c"
   }
  }
 },
 "nbformat": 4,
 "nbformat_minor": 2
}

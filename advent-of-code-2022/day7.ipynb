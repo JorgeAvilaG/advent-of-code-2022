{
 "cells": [
  {
   "cell_type": "code",
   "execution_count": 1,
   "metadata": {},
   "outputs": [
    {
     "data": {
      "text/plain": [
       "['$ cd /',\n",
       " '$ ls',\n",
       " 'dir dpbwg',\n",
       " 'dir dvwfscw',\n",
       " 'dir hccpl',\n",
       " 'dir jsgbg',\n",
       " 'dir lhjmzsl',\n",
       " '63532 mwvbpw.mmg',\n",
       " '239480 npj',\n",
       " 'dir pngs']"
      ]
     },
     "execution_count": 1,
     "metadata": {},
     "output_type": "execute_result"
    }
   ],
   "source": [
    "f = open(\".\\data\\day7.txt\", \"r\")\n",
    "data = [x.strip() for x in list(f)]\n",
    "data[0:10]"
   ]
  },
  {
   "cell_type": "code",
   "execution_count": 2,
   "metadata": {},
   "outputs": [],
   "source": [
    "directories = {'/':{}}\n",
    "position = directories\n",
    "direction = []\n",
    "\n",
    "for line in data:\n",
    "    commands = line.split(' ')\n",
    "    if commands[0] == '$':\n",
    "        if commands[1] == 'cd':\n",
    "            if commands[2] == '/':\n",
    "                position = directories['/']\n",
    "                direction = ['/']\n",
    "            elif commands[2] == '..':\n",
    "                direction.pop()\n",
    "                position = directories\n",
    "                for dir in direction:\n",
    "                    position = position[dir]\n",
    "            else:\n",
    "                position = position[commands[2]]\n",
    "                direction.append(commands[2])\n",
    "        elif commands[1] == 'ls':\n",
    "            pass\n",
    "    elif commands[0] == 'dir':\n",
    "        position[commands[1]] = {}\n",
    "    else:\n",
    "        position[commands[1]] = int(commands[0])\n",
    "        \n"
   ]
  },
  {
   "cell_type": "code",
   "execution_count": 3,
   "metadata": {},
   "outputs": [
    {
     "data": {
      "text/plain": [
       "1350966"
      ]
     },
     "execution_count": 3,
     "metadata": {},
     "output_type": "execute_result"
    }
   ],
   "source": [
    "# Part1\n",
    "\n",
    "def cal_size(directory):\n",
    "    size = 0\n",
    "    for file in directory:\n",
    "        if type(directory[file]) is dict:\n",
    "            size += cal_size(directory[file])\n",
    "        else:\n",
    "            size += directory[file]\n",
    "    dirs.append((size))\n",
    "    return size\n",
    "\n",
    "dirs = []\n",
    "cal_size(directories)\n",
    "\n",
    "sol = 0\n",
    "for dir in dirs:\n",
    "    if dir < 100000: \n",
    "        sol+=dir\n",
    "\n",
    "sol"
   ]
  },
  {
   "cell_type": "code",
   "execution_count": 4,
   "metadata": {},
   "outputs": [
    {
     "data": {
      "text/plain": [
       "6296435"
      ]
     },
     "execution_count": 4,
     "metadata": {},
     "output_type": "execute_result"
    }
   ],
   "source": [
    "# part 2\n",
    "\n",
    "total_space = 70000000\n",
    "update = 30000000\n",
    "free = total_space - dirs[-1]\n",
    "\n",
    "candidates = []\n",
    "for dir in dirs:\n",
    "    if free+dir >= update:\n",
    "        candidates.append(dir)\n",
    "min(candidates)"
   ]
  }
 ],
 "metadata": {
  "kernelspec": {
   "display_name": "Python 3.9.13 ('red-electrica')",
   "language": "python",
   "name": "python3"
  },
  "language_info": {
   "codemirror_mode": {
    "name": "ipython",
    "version": 3
   },
   "file_extension": ".py",
   "mimetype": "text/x-python",
   "name": "python",
   "nbconvert_exporter": "python",
   "pygments_lexer": "ipython3",
   "version": "3.9.13"
  },
  "orig_nbformat": 4,
  "vscode": {
   "interpreter": {
    "hash": "480b375f1043213f5c1f0363a14182342a678e76bb2ef498debd342d6015283c"
   }
  }
 },
 "nbformat": 4,
 "nbformat_minor": 2
}

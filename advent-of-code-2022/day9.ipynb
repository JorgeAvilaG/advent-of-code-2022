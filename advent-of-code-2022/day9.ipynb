{
 "cells": [
  {
   "cell_type": "code",
   "execution_count": 1,
   "metadata": {},
   "outputs": [
    {
     "data": {
      "text/plain": [
       "[['R', '1'],\n",
       " ['U', '1'],\n",
       " ['D', '2'],\n",
       " ['L', '2'],\n",
       " ['D', '1'],\n",
       " ['U', '1'],\n",
       " ['R', '2'],\n",
       " ['D', '2'],\n",
       " ['R', '2'],\n",
       " ['U', '1']]"
      ]
     },
     "execution_count": 1,
     "metadata": {},
     "output_type": "execute_result"
    }
   ],
   "source": [
    "f = open(\".\\data\\day9.txt\", \"r\")\n",
    "data = [x.strip().split(' ') for x in list(f)]\n",
    "data[0:10]"
   ]
  },
  {
   "cell_type": "code",
   "execution_count": 2,
   "metadata": {},
   "outputs": [
    {
     "data": {
      "text/plain": [
       "6057"
      ]
     },
     "execution_count": 2,
     "metadata": {},
     "output_type": "execute_result"
    }
   ],
   "source": [
    "# part 1\n",
    "visited= set()\n",
    "H_pos = [0,0]\n",
    "T_pos = [0,0]\n",
    "visited.add(tuple(T_pos))\n",
    "\n",
    "for d, n in data:\n",
    "    for _ in range(int(n)):\n",
    "        if d == 'R':\n",
    "            H_pos[1] = H_pos[1]+1\n",
    "        elif d == 'L':\n",
    "            H_pos[1] = H_pos[1]-1\n",
    "        elif d == 'U':\n",
    "            H_pos[0] = H_pos[0]+1\n",
    "        elif d == 'D':\n",
    "            H_pos[0] = H_pos[0]-1\n",
    "\n",
    "        if (T_pos[0]-H_pos[0])**2 + (T_pos[1]-H_pos[1])**2 > 2:\n",
    "            if H_pos[1] > T_pos[1]: T_pos[1] = T_pos[1]+1\n",
    "            elif H_pos[1] < T_pos[1]: T_pos[1] = T_pos[1]-1\n",
    "            if H_pos[0] > T_pos[0]: T_pos[0] = T_pos[0]+1\n",
    "            elif H_pos[0] < T_pos[0]: T_pos[0] = T_pos[0]-1\n",
    "        \n",
    "        visited.add(tuple(T_pos))\n",
    "\n",
    "\n",
    "len(visited)\n",
    "        "
   ]
  },
  {
   "cell_type": "code",
   "execution_count": 3,
   "metadata": {},
   "outputs": [
    {
     "data": {
      "text/plain": [
       "2514"
      ]
     },
     "execution_count": 3,
     "metadata": {},
     "output_type": "execute_result"
    }
   ],
   "source": [
    "# part 2\n",
    "visited= set()\n",
    "knots = []\n",
    "for _ in range(10):\n",
    "    knots.append([0,0])\n",
    "visited.add(tuple(knots[-1]))\n",
    "\n",
    "H_pos = knots[0]\n",
    "\n",
    "for d, n in data:\n",
    "    for _ in range(int(n)):\n",
    "        if d == 'R':\n",
    "            H_pos[1] = H_pos[1]+1\n",
    "        elif d == 'L':\n",
    "            H_pos[1] = H_pos[1]-1\n",
    "        elif d == 'U':\n",
    "            H_pos[0] = H_pos[0]+1\n",
    "        elif d == 'D':\n",
    "            H_pos[0] = H_pos[0]-1\n",
    "\n",
    "        \n",
    "        for knot in range(1,10):\n",
    "            T_pos = knots[knot]\n",
    "            pre_T_pos = knots[knot-1]\n",
    "\n",
    "            if (T_pos[0]-pre_T_pos[0])**2 + (T_pos[1]-pre_T_pos[1])**2 > 2:\n",
    "                if pre_T_pos[1] > T_pos[1]: T_pos[1] = T_pos[1]+1\n",
    "                elif pre_T_pos[1] < T_pos[1]: T_pos[1] = T_pos[1]-1\n",
    "                if pre_T_pos[0] > T_pos[0]: T_pos[0] = T_pos[0]+1\n",
    "                elif pre_T_pos[0] < T_pos[0]: T_pos[0] = T_pos[0]-1\n",
    "        \n",
    "        visited.add(tuple(knots[-1]))\n",
    "\n",
    "len(visited)\n"
   ]
  }
 ],
 "metadata": {
  "kernelspec": {
   "display_name": "Python 3.9.13 ('red-electrica')",
   "language": "python",
   "name": "python3"
  },
  "language_info": {
   "codemirror_mode": {
    "name": "ipython",
    "version": 3
   },
   "file_extension": ".py",
   "mimetype": "text/x-python",
   "name": "python",
   "nbconvert_exporter": "python",
   "pygments_lexer": "ipython3",
   "version": "3.9.13 (main, Oct 13 2022, 21:23:06) [MSC v.1916 64 bit (AMD64)]"
  },
  "orig_nbformat": 4,
  "vscode": {
   "interpreter": {
    "hash": "480b375f1043213f5c1f0363a14182342a678e76bb2ef498debd342d6015283c"
   }
  }
 },
 "nbformat": 4,
 "nbformat_minor": 2
}

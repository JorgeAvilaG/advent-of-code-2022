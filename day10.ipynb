{
 "cells": [
  {
   "cell_type": "code",
   "execution_count": 1,
   "metadata": {},
   "outputs": [
    {
     "data": {
      "text/plain": [
       "[['addx', '1'],\n",
       " ['addx', '4'],\n",
       " ['noop'],\n",
       " ['noop'],\n",
       " ['addx', '30'],\n",
       " ['addx', '-24'],\n",
       " ['addx', '-1'],\n",
       " ['noop'],\n",
       " ['addx', '4'],\n",
       " ['addx', '1']]"
      ]
     },
     "execution_count": 1,
     "metadata": {},
     "output_type": "execute_result"
    }
   ],
   "source": [
    "f = open(\".\\data\\day10.txt\", \"r\")\n",
    "data = [x.strip().split(' ') for x in list(f)]\n",
    "data[0:10]"
   ]
  },
  {
   "cell_type": "code",
   "execution_count": 2,
   "metadata": {},
   "outputs": [],
   "source": [
    "# Part 1\n",
    "X_register = [0,]\n",
    "busy = 0\n",
    "pos = 0\n",
    "X = 1\n",
    "for n in range(1,230):\n",
    "    if not busy:\n",
    "        command = data[pos]\n",
    "        pos +=1\n",
    "        if command[0] == 'noop':\n",
    "            busy += 1\n",
    "        elif command[0] == 'addx':\n",
    "            busy += 2\n",
    "    \n",
    "    X_register.append(X)\n",
    "\n",
    "    if command[0] == 'addx' and busy == 1:\n",
    "        X += int(command[1])\n",
    "\n",
    "    busy -= 1\n",
    "    "
   ]
  },
  {
   "cell_type": "code",
   "execution_count": 3,
   "metadata": {},
   "outputs": [
    {
     "data": {
      "text/plain": [
       "10760"
      ]
     },
     "execution_count": 3,
     "metadata": {},
     "output_type": "execute_result"
    }
   ],
   "source": [
    "sol = 0\n",
    "for x in range(20,230,40):\n",
    "    sol += X_register[x] * x\n",
    "sol"
   ]
  },
  {
   "cell_type": "code",
   "execution_count": 4,
   "metadata": {},
   "outputs": [],
   "source": [
    "#Part 2\n",
    "screen = []\n",
    "busy = 0\n",
    "pos = 0\n",
    "X = 1\n",
    "for n in range(0,240):\n",
    "    if not busy:\n",
    "        command = data[pos]\n",
    "        pos +=1\n",
    "        if command[0] == 'noop':\n",
    "            busy += 1\n",
    "        elif command[0] == 'addx':\n",
    "            busy += 2\n",
    "    \n",
    "    if n%40 in [X,X+1,X-1]:\n",
    "        screen.append('#')\n",
    "    else:\n",
    "        screen.append('.')\n",
    "\n",
    "    if command[0] == 'addx' and busy == 1:\n",
    "        X += int(command[1])\n",
    "\n",
    "    busy -= 1"
   ]
  },
  {
   "cell_type": "code",
   "execution_count": 5,
   "metadata": {},
   "outputs": [
    {
     "name": "stdout",
     "output_type": "stream",
     "text": [
      "####.###...##..###..#..#.####..##..#..#.\n",
      "#....#..#.#..#.#..#.#..#.#....#..#.#..#.\n",
      "###..#..#.#....#..#.####.###..#....####.\n",
      "#....###..#.##.###..#..#.#....#.##.#..#.\n",
      "#....#....#..#.#....#..#.#....#..#.#..#.\n",
      "#....#.....###.#....#..#.#.....###.#..#.\n",
      "\n",
      "\n",
      "\n"
     ]
    }
   ],
   "source": [
    "for x in range(40,400,40):\n",
    "    print(''.join(screen[x-40:x]))"
   ]
  }
 ],
 "metadata": {
  "kernelspec": {
   "display_name": "Python 3.9.13 ('red-electrica')",
   "language": "python",
   "name": "python3"
  },
  "language_info": {
   "codemirror_mode": {
    "name": "ipython",
    "version": 3
   },
   "file_extension": ".py",
   "mimetype": "text/x-python",
   "name": "python",
   "nbconvert_exporter": "python",
   "pygments_lexer": "ipython3",
   "version": "3.9.13"
  },
  "orig_nbformat": 4,
  "vscode": {
   "interpreter": {
    "hash": "480b375f1043213f5c1f0363a14182342a678e76bb2ef498debd342d6015283c"
   }
  }
 },
 "nbformat": 4,
 "nbformat_minor": 2
}

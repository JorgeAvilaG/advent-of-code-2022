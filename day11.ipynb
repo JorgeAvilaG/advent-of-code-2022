{
 "cells": [
  {
   "cell_type": "code",
   "execution_count": 5,
   "metadata": {},
   "outputs": [
    {
     "data": {
      "text/plain": [
       "['Monkey 0:',\n",
       " 'Starting items: 83, 88, 96, 79, 86, 88, 70',\n",
       " 'Operation: new = old * 5',\n",
       " 'Test: divisible by 11',\n",
       " 'If true: throw to monkey 2',\n",
       " 'If false: throw to monkey 3',\n",
       " '',\n",
       " 'Monkey 1:',\n",
       " 'Starting items: 59, 63, 98, 85, 68, 72',\n",
       " 'Operation: new = old * 11']"
      ]
     },
     "execution_count": 5,
     "metadata": {},
     "output_type": "execute_result"
    }
   ],
   "source": [
    "f = open(\".\\data\\day11.txt\", \"r\")\n",
    "data = [x.strip() for x in list(f)]\n",
    "data[0:10]"
   ]
  },
  {
   "cell_type": "code",
   "execution_count": 6,
   "metadata": {},
   "outputs": [],
   "source": [
    "from collections import deque\n",
    "from copy import deepcopy\n",
    "\n",
    "class monkey:\n",
    "    \"\"\"monkey\"\"\"\n",
    "    def __init__(self, ):\n",
    "        self.inspected = 0\n",
    "        pass\n",
    "\n",
    "monkeys = {}\n",
    "counter = 0\n",
    "for line in data:\n",
    "    if counter%7 == 0:\n",
    "        current_m = int(line.split(' ')[1][0])\n",
    "        monkeys[current_m] = monkey()\n",
    "        \n",
    "    elif counter%7 == 1:\n",
    "        temp = line.split(':')[1].split(',')\n",
    "        monkeys[current_m].items = deque([int(item) for item in temp])\n",
    "\n",
    "    elif counter%7 == 2:\n",
    "        temp = line.split(' ')\n",
    "        if temp[-1] != 'old':\n",
    "            monkeys[current_m].operation_ref = int(temp[-1])\n",
    "            if temp[-2] == '+':\n",
    "                monkeys[current_m].operation = lambda  self,a: a + self.operation_ref\n",
    "            elif temp[-2] == '*':\n",
    "                monkeys[current_m].operation = lambda self,b: b * self.operation_ref\n",
    "        else:\n",
    "            if temp[-2] == '+':\n",
    "                monkeys[current_m].operation = lambda self,c: c + c\n",
    "            elif temp[-2] == '*':\n",
    "                monkeys[current_m].operation = lambda self,d: d * d\n",
    "    \n",
    "    elif counter%7 == 3:\n",
    "        temp = line.split(' ')\n",
    "        monkeys[current_m].divisible = int(temp[-1])\n",
    "    \n",
    "    elif counter%7 == 4:\n",
    "        temp = line.split(' ')\n",
    "        monkeys[current_m].true = int(temp[-1])\n",
    "\n",
    "    elif counter%7 == 5:\n",
    "        temp = line.split(' ')\n",
    "        monkeys[current_m].false = int(temp[-1])\n",
    "\n",
    "    counter+=1"
   ]
  },
  {
   "cell_type": "code",
   "execution_count": 3,
   "metadata": {},
   "outputs": [],
   "source": [
    "# Part1\n",
    "for _ in range(20):\n",
    "    for monkey in monkeys:\n",
    "        while monkeys[monkey].items:\n",
    "            monkeys[monkey].inspected += 1\n",
    "            item = monkeys[monkey].items.popleft()\n",
    "            item = monkeys[monkey].operation(monkeys[monkey],item)//3\n",
    "            if  item%monkeys[monkey].divisible==0:\n",
    "                monkeys[monkeys[monkey].true].items.append(item)\n",
    "            else:\n",
    "                monkeys[monkeys[monkey].false].items.append(item)"
   ]
  },
  {
   "cell_type": "code",
   "execution_count": 4,
   "metadata": {},
   "outputs": [
    {
     "data": {
      "text/plain": [
       "64032"
      ]
     },
     "execution_count": 4,
     "metadata": {},
     "output_type": "execute_result"
    }
   ],
   "source": [
    "inspected_final = []\n",
    "for monkey in monkeys:\n",
    "    inspected_final.append(monkeys[monkey].inspected)\n",
    "inspected_final.sort(reverse=True)\n",
    "inspected_final[0]*inspected_final[1]"
   ]
  },
  {
   "cell_type": "code",
   "execution_count": 7,
   "metadata": {},
   "outputs": [],
   "source": [
    "# Part2\n",
    "# max_number equals to the product of the first 8 prime numbers\n",
    "max_number = 2*3*5*7*11*13*17*19\n",
    "\n",
    "# loop\n",
    "for _ in range(10000):\n",
    "    # loop over monkeys and inspect items\n",
    "    for monkey in monkeys:\n",
    "        while monkeys[monkey].items:\n",
    "            monkeys[monkey].inspected += 1\n",
    "            item = monkeys[monkey].items.popleft()\n",
    "            item = monkeys[monkey].operation(monkeys[monkey],item)%max_number\n",
    "\n",
    "            if  item%monkeys[monkey].divisible==0:\n",
    "                monkeys[monkeys[monkey].true].items.append(item)\n",
    "            else:\n",
    "                monkeys[monkeys[monkey].false].items.append(item)\n"
   ]
  },
  {
   "cell_type": "code",
   "execution_count": 8,
   "metadata": {},
   "outputs": [
    {
     "data": {
      "text/plain": [
       "12729522272"
      ]
     },
     "execution_count": 8,
     "metadata": {},
     "output_type": "execute_result"
    }
   ],
   "source": [
    "inspected_final = []\n",
    "for monkey in monkeys:\n",
    "    inspected_final.append(monkeys[monkey].inspected)\n",
    "inspected_final.sort(reverse=True)\n",
    "inspected_final[0]*inspected_final[1]"
   ]
  }
 ],
 "metadata": {
  "kernelspec": {
   "display_name": "Python 3.9.13 ('red-electrica')",
   "language": "python",
   "name": "python3"
  },
  "language_info": {
   "codemirror_mode": {
    "name": "ipython",
    "version": 3
   },
   "file_extension": ".py",
   "mimetype": "text/x-python",
   "name": "python",
   "nbconvert_exporter": "python",
   "pygments_lexer": "ipython3",
   "version": "3.9.13 (main, Oct 13 2022, 21:23:06) [MSC v.1916 64 bit (AMD64)]"
  },
  "orig_nbformat": 4,
  "vscode": {
   "interpreter": {
    "hash": "480b375f1043213f5c1f0363a14182342a678e76bb2ef498debd342d6015283c"
   }
  }
 },
 "nbformat": 4,
 "nbformat_minor": 2
}

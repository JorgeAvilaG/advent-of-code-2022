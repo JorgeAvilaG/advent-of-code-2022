{
 "cells": [
  {
   "cell_type": "code",
   "execution_count": 1,
   "metadata": {},
   "outputs": [],
   "source": [
    "import numpy as np\n",
    "f = open(\".\\data\\day12.txt\", \"r\")\n",
    "data = [list(x.strip()) for x in list(f)]\n",
    "#data"
   ]
  },
  {
   "cell_type": "code",
   "execution_count": 2,
   "metadata": {},
   "outputs": [
    {
     "name": "stdout",
     "output_type": "stream",
     "text": [
      "[20, 0] [20, 46]\n"
     ]
    },
    {
     "data": {
      "text/plain": [
       "matrix([[0, 1, 2, ..., 0, 0, 0],\n",
       "        [0, 1, 2, ..., 0, 0, 0],\n",
       "        [0, 1, 2, ..., 0, 0, 0],\n",
       "        ...,\n",
       "        [0, 1, 2, ..., 0, 0, 0],\n",
       "        [0, 1, 2, ..., 0, 0, 0],\n",
       "        [0, 1, 2, ..., 0, 0, 0]])"
      ]
     },
     "execution_count": 2,
     "metadata": {},
     "output_type": "execute_result"
    }
   ],
   "source": [
    "letters = ['a', 'b', 'c', 'd', 'e', 'f', 'g', 'h', 'i', 'j', 'k', 'l', 'm', 'n', 'o', 'p', 'q', 'r', 's', 't', 'u', 'v', 'w', 'x', 'y', 'z']\n",
    "numbers = [x for x in range(0,26)]\n",
    "dict_letters = dict(zip(letters, numbers))\n",
    "# sustitute each letter in data by a number in order\n",
    "for i in range(0, len(data)):\n",
    "    for j in range(0, len(data[0])):\n",
    "        if data[i][j] in letters:\n",
    "            data[i][j] = dict_letters.get(data[i][j])\n",
    "        else:\n",
    "            if data[i][j] == 'S':\n",
    "                data[i][j] = 0\n",
    "                pos_0 = [i,j]\n",
    "            elif data[i][j] == 'E':\n",
    "                data[i][j] = 25\n",
    "                pos_end = [i,j]\n",
    "print(pos_0, pos_end)\n",
    "data = np.matrix(data)\n",
    "data"
   ]
  },
  {
   "cell_type": "code",
   "execution_count": 3,
   "metadata": {},
   "outputs": [
    {
     "name": "stdout",
     "output_type": "stream",
     "text": [
      "352\n"
     ]
    }
   ],
   "source": [
    "# part 1\n",
    "steps = 0\n",
    "to_check = [(pos_0, steps)]\n",
    "visited = {}\n",
    "while to_check:\n",
    "    pos, steps = to_check.pop(0)\n",
    "    if tuple(pos) in visited:\n",
    "        if visited[tuple(pos)] <= steps:\n",
    "            continue\n",
    "    visited[tuple(pos)] = steps\n",
    "    height = data[pos[0], pos[1]]\n",
    "    \n",
    "    for i in [pos[0] + 1, pos[0] - 1]:\n",
    "        if i >= 0 and i < data.shape[0]:\n",
    "            if data[i, pos[1]] <= height+1:\n",
    "                to_check.append(((i, pos[1]), steps + 1))\n",
    "    for j in [pos[1] + 1, pos[1] - 1]:\n",
    "        if j >= 0 and j < data.shape[1]:\n",
    "            if data[pos[0], j] <= height+1:\n",
    "                to_check.append(((pos[0], j), steps + 1))\n",
    "print(visited[tuple(pos_end)])"
   ]
  },
  {
   "cell_type": "code",
   "execution_count": 4,
   "metadata": {},
   "outputs": [
    {
     "name": "stdout",
     "output_type": "stream",
     "text": [
      "345\n"
     ]
    }
   ],
   "source": [
    "# part 2\n",
    "to_check = []\n",
    "visited = {}\n",
    "for i in range(0, data.shape[0]):\n",
    "    for j in range(0, data.shape[1]):\n",
    "        if data[i,j] == 0:\n",
    "            to_check.append(([i,j], 0))\n",
    "\n",
    "while to_check:\n",
    "    pos, steps = to_check.pop(0)\n",
    "    if tuple(pos) in visited:\n",
    "        if visited[tuple(pos)] <= steps:\n",
    "            continue\n",
    "    visited[tuple(pos)] = steps\n",
    "    height = data[pos[0], pos[1]]\n",
    "    \n",
    "    for i in [pos[0] + 1, pos[0] - 1]:\n",
    "        if i >= 0 and i < data.shape[0]:\n",
    "            if data[i, pos[1]] <= height+1:\n",
    "                to_check.append(((i, pos[1]), steps + 1))\n",
    "    for j in [pos[1] + 1, pos[1] - 1]:\n",
    "        if j >= 0 and j < data.shape[1]:\n",
    "            if data[pos[0], j] <= height+1:\n",
    "                to_check.append(((pos[0], j), steps + 1))\n",
    "print(visited[tuple(pos_end)])\n",
    "        "
   ]
  }
 ],
 "metadata": {
  "kernelspec": {
   "display_name": "Python 3.9.13 ('red-electrica')",
   "language": "python",
   "name": "python3"
  },
  "language_info": {
   "codemirror_mode": {
    "name": "ipython",
    "version": 3
   },
   "file_extension": ".py",
   "mimetype": "text/x-python",
   "name": "python",
   "nbconvert_exporter": "python",
   "pygments_lexer": "ipython3",
   "version": "3.9.13"
  },
  "orig_nbformat": 4,
  "vscode": {
   "interpreter": {
    "hash": "480b375f1043213f5c1f0363a14182342a678e76bb2ef498debd342d6015283c"
   }
  }
 },
 "nbformat": 4,
 "nbformat_minor": 2
}

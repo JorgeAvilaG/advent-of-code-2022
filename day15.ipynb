{
 "cells": [
  {
   "cell_type": "code",
   "execution_count": 1,
   "metadata": {},
   "outputs": [
    {
     "data": {
      "text/plain": [
       "[[1943362, 12808, 1861152, -42022],\n",
       " [906633, 3319637, 2096195, 3402757],\n",
       " [2358896, 2158796, 2331052, 2934800],\n",
       " [1787606, 3963631, 2096195, 3402757],\n",
       " [2282542, 3116014, 2331052, 2934800],\n",
       " [173912, 1873897, 429790, 2000000],\n",
       " [3391153, 3437167, 3720655, 3880705],\n",
       " [3834843, 2463103, 2971569, 2563051],\n",
       " [3917316, 3981011, 3720655, 3880705],\n",
       " [1466100, 1389028, 429790, 2000000]]"
      ]
     },
     "execution_count": 1,
     "metadata": {},
     "output_type": "execute_result"
    }
   ],
   "source": [
    "f = open(\".\\data\\day15.txt\", \"r\")\n",
    "data = [x.strip() for x in list(f)]\n",
    "f.close()\n",
    "\n",
    "import re\n",
    "numbers = [re.findall(r'[-+]?\\d+',line) for line in data ]\n",
    "numbers = [[int(x) for x in line] for line in numbers]\n",
    "numbers[0:10]\n",
    "\n",
    " "
   ]
  },
  {
   "cell_type": "code",
   "execution_count": 2,
   "metadata": {},
   "outputs": [
    {
     "name": "stdout",
     "output_type": "stream",
     "text": [
      "4725496\n"
     ]
    }
   ],
   "source": [
    "def distance(a,b,c,d):\n",
    "    return abs(a-c) + abs(b-d)\n",
    "\n",
    "# part 1\n",
    "row = 2000000\n",
    "ranges = []\n",
    "for a,b,c,d in numbers:\n",
    "    dis = distance(a,b,c,d)\n",
    "    \n",
    "\n",
    "    if (dis - abs(b-row)) < 0:\n",
    "        #print(\"no solution\")\n",
    "        continue\n",
    "    else:\n",
    "        x1 = -(dis - abs(b-row))+a\n",
    "        x2 = (dis - abs(b-row))+a\n",
    "        ranges.append((x1,x2))\n",
    "while ranges:\n",
    "    ranges.sort(key=lambda x: x[0])\n",
    "    \n",
    "    current = ranges.pop(0)\n",
    "    if ranges:\n",
    "        next = ranges.pop(0)\n",
    "        \n",
    "        if current[1] >= next[0] and current[1] <= next[1]:\n",
    "            ranges.append((current[0],next[1]))\n",
    "        elif next[0] >= current[0] and next[1] <= current[1]:\n",
    "            ranges.append((current[0],current[1]))\n",
    "        else:\n",
    "            ranges.append(current)\n",
    "            ranges.append(next)   \n",
    "    else:\n",
    "        print(current[1]-current[0])\n",
    "\n"
   ]
  },
  {
   "cell_type": "code",
   "execution_count": 3,
   "metadata": {},
   "outputs": [
    {
     "name": "stdout",
     "output_type": "stream",
     "text": [
      "0\n",
      "100000\n",
      "200000\n",
      "300000\n",
      "400000\n",
      "500000\n",
      "600000\n",
      "700000\n",
      "800000\n",
      "900000\n",
      "1000000\n",
      "1100000\n",
      "1200000\n",
      "1300000\n",
      "1400000\n",
      "1500000\n",
      "1600000\n",
      "1700000\n",
      "1800000\n",
      "1900000\n",
      "2000000\n",
      "2100000\n",
      "2200000\n",
      "2300000\n",
      "2400000\n",
      "2500000\n",
      "2600000\n",
      "2700000\n",
      "2800000\n",
      "2900000\n",
      "3000000\n",
      "[(-894242, 3012820), (3012822, 3599936), (3012822, 3769484), (3324184, 4674452), (3450976, 4218710)] 3042458\n"
     ]
    }
   ],
   "source": [
    "# part 2\n",
    "\n",
    "max_row = 4000000\n",
    "exit = False\n",
    "for row in range(0,max_row):\n",
    "    if row%100000 == 0:\n",
    "        print(row)\n",
    "    ranges = []\n",
    "    for a,b,c,d in numbers:\n",
    "        dis = distance(a,b,c,d)\n",
    "\n",
    "        if (dis - abs(b-row)) < 0:\n",
    "            #print(\"no solution\")\n",
    "            continue\n",
    "        else:\n",
    "            x1 = -(dis - abs(b-row))+a\n",
    "            x2 = (dis - abs(b-row))+a\n",
    "            ranges.append((x1,x2))\n",
    "\n",
    "    while ranges:\n",
    "        ranges.sort(key=lambda x: x[0])\n",
    "        \n",
    "        current = ranges.pop(0)\n",
    "        if ranges:\n",
    "            next = ranges.pop(0)\n",
    "            \n",
    "            if current[1] >= next[0]-1 and current[1] <= next[1]:\n",
    "                ranges.append((current[0],next[1]))\n",
    "            elif next[0] >= current[0] and next[1] <= current[1]:\n",
    "                ranges.append((current[0],current[1]))\n",
    "            else:\n",
    "                ranges.append(current)\n",
    "                ranges.append(next)\n",
    "                ranges.sort(key=lambda x: x[0])\n",
    "                print(ranges, row)\n",
    "                exit = True\n",
    "                break  \n",
    "        else:\n",
    "            #print(current[1]-current[0])\n",
    "            pass\n",
    "    if exit:\n",
    "        break"
   ]
  },
  {
   "cell_type": "code",
   "execution_count": 4,
   "metadata": {},
   "outputs": [
    {
     "data": {
      "text/plain": [
       "12051287042458"
      ]
     },
     "execution_count": 4,
     "metadata": {},
     "output_type": "execute_result"
    }
   ],
   "source": [
    "4000000*3012821+3042458"
   ]
  },
  {
   "cell_type": "code",
   "execution_count": null,
   "metadata": {},
   "outputs": [],
   "source": []
  }
 ],
 "metadata": {
  "kernelspec": {
   "display_name": "Python 3.9.13 ('red-electrica')",
   "language": "python",
   "name": "python3"
  },
  "language_info": {
   "codemirror_mode": {
    "name": "ipython",
    "version": 3
   },
   "file_extension": ".py",
   "mimetype": "text/x-python",
   "name": "python",
   "nbconvert_exporter": "python",
   "pygments_lexer": "ipython3",
   "version": "3.9.13"
  },
  "orig_nbformat": 4,
  "vscode": {
   "interpreter": {
    "hash": "480b375f1043213f5c1f0363a14182342a678e76bb2ef498debd342d6015283c"
   }
  }
 },
 "nbformat": 4,
 "nbformat_minor": 2
}

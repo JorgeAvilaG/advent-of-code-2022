{
 "cells": [
  {
   "cell_type": "code",
   "execution_count": 75,
   "metadata": {},
   "outputs": [
    {
     "name": "stdout",
     "output_type": "stream",
     "text": [
      "10091 ><<<><<>>>><<><<<<>>>><<<>>><<\n"
     ]
    }
   ],
   "source": [
    "f = open(\".\\data\\day17.txt\", \"r\")\n",
    "data = [x.strip() for x in list(f)]\n",
    "f.close()\n",
    "\n",
    "data = data[0]\n",
    "print(len(data), data[0:30])"
   ]
  },
  {
   "cell_type": "code",
   "execution_count": 76,
   "metadata": {},
   "outputs": [],
   "source": [
    "def rock1(pos):\n",
    "    y,x = pos\n",
    "    rock = set()\n",
    "    for i in range(4):\n",
    "        rock.add((y, x+i))\n",
    "    return rock\n",
    "def rock2(pos):\n",
    "    y,x = pos\n",
    "    rock = set()\n",
    "    for i in range(3):\n",
    "        rock.add((y+1, x+i))\n",
    "    rock.add((y+2, x+1))\n",
    "    rock.add((y, x+1))\n",
    "    return rock\n",
    "def rock3(pos):\n",
    "    y,x = pos\n",
    "    rock = set()\n",
    "    for i in range(3):\n",
    "        rock.add((y, x+i))\n",
    "    rock.add((y+1, x+2))\n",
    "    rock.add((y+2, x+2))\n",
    "    return rock\n",
    "def rock4(pos):\n",
    "    y,x = pos\n",
    "    rock = set()\n",
    "    for i in range(4):\n",
    "        rock.add((y+i, x))\n",
    "    return rock\n",
    "def rock5(pos):\n",
    "    y,x = pos\n",
    "    rock = set()\n",
    "    for i in range(2):\n",
    "        rock.add((y, x+i))\n",
    "        rock.add((y+1, x+i))\n",
    "    return rock\n",
    "gen_rocks = [rock1, rock2, rock3, rock4, rock5]"
   ]
  },
  {
   "cell_type": "code",
   "execution_count": 77,
   "metadata": {},
   "outputs": [
    {
     "name": "stdout",
     "output_type": "stream",
     "text": [
      "3147 2022\n"
     ]
    }
   ],
   "source": [
    "# part 1\n",
    "\n",
    "rocks = set()\n",
    "for i in range(7):\n",
    "    rocks.add((0, i))\n",
    "rocks\n",
    "\n",
    "\n",
    "counter = 0\n",
    "wind_n = 0\n",
    "rock_n = 0\n",
    "max_y = 0\n",
    "while counter <= 2021:\n",
    "    counter += 1\n",
    "    rock = gen_rocks[rock_n]((max_y+4,2))\n",
    "    rock_n = (rock_n + 1) % 5\n",
    "    falling = True\n",
    "    while falling:\n",
    "        \n",
    "        wind = data[wind_n]\n",
    "        if wind == '<':\n",
    "            new_rock = set((y, x-1) for y, x in rock)\n",
    "            temp = [x for y, x in new_rock]\n",
    "            if -1 not in temp:\n",
    "                for piece in new_rock:\n",
    "                    if piece in rocks:\n",
    "                        break\n",
    "                else:\n",
    "                    rock = new_rock.copy()\n",
    "        elif wind == '>':\n",
    "            new_rock = set((y, x+1) for y, x in rock)\n",
    "            temp = [x for y, x in new_rock]\n",
    "            if 7 not in temp: \n",
    "                for piece in new_rock:\n",
    "                    if piece in rocks:\n",
    "                        break\n",
    "                else:\n",
    "                    rock = new_rock.copy()\n",
    "        wind_n = (wind_n + 1) % len(data)\n",
    "        #print(rock)\n",
    "        new_rock = set((y-1, x) for y, x in rock)\n",
    "        for piece in new_rock:\n",
    "            if piece in rocks:\n",
    "                rocks = rocks.union(rock)\n",
    "                max_y = max([max_y,max([y for y, x in rock])])\n",
    "                falling = False\n",
    "                break\n",
    "        else:\n",
    "            rock = new_rock.copy()\n",
    "    #print(max_y,counter)\n",
    "print(max_y,counter)      \n",
    "    "
   ]
  },
  {
   "cell_type": "code",
   "execution_count": 78,
   "metadata": {},
   "outputs": [
    {
     "name": "stdout",
     "output_type": "stream",
     "text": [
      "10091\n"
     ]
    }
   ],
   "source": [
    "# part 2\n",
    "print(len(data))"
   ]
  },
  {
   "cell_type": "code",
   "execution_count": 84,
   "metadata": {},
   "outputs": [
    {
     "name": "stdout",
     "output_type": "stream",
     "text": [
      "1 1 0 0\n",
      "1732 1731 2732 2732\n",
      "2800 4358\n",
      "3442 1710 5352 2620\n",
      "5152 1710 7972 2620\n",
      "6862 1710 10592 2620\n",
      "8572 1710 13212 2620\n",
      "15392 10001\n"
     ]
    }
   ],
   "source": [
    "rocks = set()\n",
    "for i in range(7):\n",
    "    rocks.add((0, i))\n",
    "rocks\n",
    "\n",
    "counter = 0\n",
    "wind_n = 0\n",
    "rock_n = 0\n",
    "max_y = 0\n",
    "pre_max_y = 0\n",
    "pre_counter = 0\n",
    "while counter <= 10000:\n",
    "    #if counter%35==0:\n",
    "    #    print(counter,counter-pre_counter,max_y,max_y-pre_max_y)\n",
    "    #    pre_counter = counter\n",
    "    #    pre_max_y = max_y\n",
    "    if counter == 1732+1068:\n",
    "        print(counter,max_y)\n",
    "    counter += 1\n",
    "    rock = gen_rocks[rock_n]((max_y+4,2))\n",
    "    rock_n = (rock_n + 1) % 5\n",
    "    falling = True\n",
    "    while falling:\n",
    "        if wind_n==0:\n",
    "            print(counter,counter-pre_counter,max_y,max_y-pre_max_y)\n",
    "            pre_counter = counter\n",
    "            pre_max_y = max_y\n",
    "        \n",
    "        wind = data[wind_n]\n",
    "        if wind == '<':\n",
    "            new_rock = set((y, x-1) for y, x in rock)\n",
    "            temp = [x for y, x in new_rock]\n",
    "            if -1 not in temp:\n",
    "                for piece in new_rock:\n",
    "                    if piece in rocks:\n",
    "                        break\n",
    "                else:\n",
    "                    rock = new_rock.copy()\n",
    "        elif wind == '>':\n",
    "            new_rock = set((y, x+1) for y, x in rock)\n",
    "            temp = [x for y, x in new_rock]\n",
    "            if 7 not in temp: \n",
    "                for piece in new_rock:\n",
    "                    if piece in rocks:\n",
    "                        break\n",
    "                else:\n",
    "                    rock = new_rock.copy()\n",
    "        wind_n = (wind_n + 1) % len(data)\n",
    "        #print(rock)\n",
    "        new_rock = set((y-1, x) for y, x in rock)\n",
    "        for piece in new_rock:\n",
    "            if piece in rocks:\n",
    "                rocks = rocks.union(rock)\n",
    "                max_y = max([max_y,max([y for y, x in rock])])\n",
    "                falling = False\n",
    "                break\n",
    "        else:\n",
    "            rock = new_rock.copy()\n",
    "    \n",
    "        \n",
    "    #print(max_y,counter)\n",
    "print(max_y,counter)      "
   ]
  },
  {
   "cell_type": "code",
   "execution_count": 85,
   "metadata": {},
   "outputs": [
    {
     "name": "stdout",
     "output_type": "stream",
     "text": [
      "1532163742758\n"
     ]
    }
   ],
   "source": [
    "sol = 2732\n",
    "temp = 1000000000000-1732 \n",
    "sol+=(temp//1710)*2620\n",
    "sol+=4358-2732\n",
    "\n",
    "print(sol)"
   ]
  },
  {
   "cell_type": "code",
   "execution_count": 83,
   "metadata": {},
   "outputs": [
    {
     "data": {
      "text/plain": [
       "1068"
      ]
     },
     "execution_count": 83,
     "metadata": {},
     "output_type": "execute_result"
    }
   ],
   "source": [
    "temp%1710"
   ]
  },
  {
   "cell_type": "code",
   "execution_count": null,
   "metadata": {},
   "outputs": [],
   "source": []
  }
 ],
 "metadata": {
  "kernelspec": {
   "display_name": "Python 3.9.13 ('red-electrica')",
   "language": "python",
   "name": "python3"
  },
  "language_info": {
   "codemirror_mode": {
    "name": "ipython",
    "version": 3
   },
   "file_extension": ".py",
   "mimetype": "text/x-python",
   "name": "python",
   "nbconvert_exporter": "python",
   "pygments_lexer": "ipython3",
   "version": "3.9.13"
  },
  "orig_nbformat": 4,
  "vscode": {
   "interpreter": {
    "hash": "480b375f1043213f5c1f0363a14182342a678e76bb2ef498debd342d6015283c"
   }
  }
 },
 "nbformat": 4,
 "nbformat_minor": 2
}

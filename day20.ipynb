{
 "cells": [
  {
   "cell_type": "code",
   "execution_count": 1,
   "metadata": {},
   "outputs": [
    {
     "data": {
      "text/plain": [
       "[[1, 3, 3, 2, 15, 3, 9],\n",
       " [2, 4, 4, 4, 5, 3, 7],\n",
       " [3, 4, 4, 2, 11, 2, 7],\n",
       " [4, 4, 4, 4, 14, 2, 16],\n",
       " [5, 4, 4, 4, 8, 2, 18],\n",
       " [6, 4, 4, 2, 14, 4, 19],\n",
       " [7, 2, 4, 3, 20, 2, 16],\n",
       " [8, 4, 4, 2, 10, 3, 14],\n",
       " [9, 4, 4, 3, 7, 3, 20],\n",
       " [10, 4, 3, 3, 14, 4, 17],\n",
       " [11, 4, 4, 3, 5, 4, 11],\n",
       " [12, 2, 3, 3, 13, 3, 15],\n",
       " [13, 3, 4, 3, 6, 4, 11],\n",
       " [14, 3, 4, 3, 18, 4, 16],\n",
       " [15, 3, 4, 3, 19, 3, 8],\n",
       " [16, 3, 4, 3, 20, 3, 14],\n",
       " [17, 3, 3, 2, 19, 2, 20],\n",
       " [18, 3, 3, 2, 20, 2, 20],\n",
       " [19, 3, 4, 4, 5, 4, 8],\n",
       " [20, 4, 4, 4, 9, 2, 20],\n",
       " [21, 2, 3, 3, 11, 2, 16],\n",
       " [22, 2, 3, 3, 16, 2, 11],\n",
       " [23, 4, 4, 4, 12, 3, 8],\n",
       " [24, 4, 4, 2, 7, 3, 10],\n",
       " [25, 2, 2, 2, 10, 2, 11],\n",
       " [26, 4, 3, 3, 7, 3, 9],\n",
       " [27, 4, 4, 3, 7, 4, 11],\n",
       " [28, 2, 4, 4, 11, 3, 8],\n",
       " [29, 4, 4, 4, 17, 2, 13],\n",
       " [30, 3, 4, 4, 6, 2, 20]]"
      ]
     },
     "execution_count": 1,
     "metadata": {},
     "output_type": "execute_result"
    }
   ],
   "source": [
    "f = open(\".\\data\\day19.txt\", \"r\")\n",
    "data = [x.strip() for x in list(f)]\n",
    "f.close()\n",
    "import re\n",
    "data = [re.findall(r'\\d+', x) for x in data]\n",
    "data = [[int(y) for y in x] for x in data]\n",
    "data\n"
   ]
  }
 ],
 "metadata": {
  "kernelspec": {
   "display_name": "Python 3.9.13 ('red-electrica')",
   "language": "python",
   "name": "python3"
  },
  "language_info": {
   "codemirror_mode": {
    "name": "ipython",
    "version": 3
   },
   "file_extension": ".py",
   "mimetype": "text/x-python",
   "name": "python",
   "nbconvert_exporter": "python",
   "pygments_lexer": "ipython3",
   "version": "3.9.13 (main, Oct 13 2022, 21:23:06) [MSC v.1916 64 bit (AMD64)]"
  },
  "orig_nbformat": 4,
  "vscode": {
   "interpreter": {
    "hash": "480b375f1043213f5c1f0363a14182342a678e76bb2ef498debd342d6015283c"
   }
  }
 },
 "nbformat": 4,
 "nbformat_minor": 2
}

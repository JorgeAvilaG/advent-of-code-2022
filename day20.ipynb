{
 "cells": [
  {
   "cell_type": "code",
   "execution_count": 20,
   "metadata": {},
   "outputs": [
    {
     "data": {
      "text/plain": [
       "[-4707, 2246, 4162, 3642, 1168, 3101, -2569, 5481, 332, 7522]"
      ]
     },
     "execution_count": 20,
     "metadata": {},
     "output_type": "execute_result"
    }
   ],
   "source": [
    "f = open(\".\\data\\day20.txt\", \"r\")\n",
    "data = [int(x.strip()) for x in list(f)]\n",
    "f.close()\n",
    "data[0:10]\n"
   ]
  },
  {
   "cell_type": "code",
   "execution_count": 21,
   "metadata": {},
   "outputs": [],
   "source": [
    "D = {}\n",
    "for n in range(len(data)):\n",
    "    D[(n,data[n])] = [((n-1)%len(data),data[(n-1)%len(data)]), ((n+1)%len(data),data[(n+1)%len(data)]) ]\n",
    "    \n",
    "#D[(0,-4707)]"
   ]
  },
  {
   "cell_type": "code",
   "execution_count": 22,
   "metadata": {},
   "outputs": [],
   "source": [
    "# Part 1\n",
    "for n in range(len(data)):\n",
    "    number = data[n]\n",
    "    pre,post = D[(n,number)]\n",
    "    if number > 0:\n",
    "        D[post][0] = pre\n",
    "        D[pre][1] = post\n",
    "        for i in range(number):\n",
    "            post = D[post][1]\n",
    "        pre = D[post][0]\n",
    "        D[(n,number)] = [pre , post]\n",
    "        D[post][0] = (n,number)\n",
    "        D[pre][1] =  (n,number)    \n",
    "    if number < 0:\n",
    "        D[post][0] = pre\n",
    "        D[pre][1] = post\n",
    "        for i in range(abs(number)):\n",
    "            pre = D[pre][0]\n",
    "        post = D[pre][1]\n",
    "        D[(n,number)] = [pre , post]\n",
    "        D[post][0] = (n,number)\n",
    "        D[pre][1] =  (n,number)   \n",
    "    if number == 0:\n",
    "        n_0 = n\n",
    "    #print(D)\n"
   ]
  },
  {
   "cell_type": "code",
   "execution_count": 23,
   "metadata": {},
   "outputs": [
    {
     "name": "stdout",
     "output_type": "stream",
     "text": [
      "999 (3493, 4139)\n",
      "1999 (3338, 101)\n",
      "2999 (2180, 2913)\n",
      "7153\n"
     ]
    }
   ],
   "source": [
    "sol = 0\n",
    "pre, post = D[(n_0,0)]\n",
    "for i in range(1,3001):\n",
    "    post = D[post][1]\n",
    "    if i%1000 == 999:\n",
    "        sol+= post[1]\n",
    "        print(i,post)\n",
    "print(sol)        "
   ]
  },
  {
   "cell_type": "code",
   "execution_count": null,
   "metadata": {},
   "outputs": [],
   "source": []
  }
 ],
 "metadata": {
  "kernelspec": {
   "display_name": "jupyterlab",
   "language": "python",
   "name": "python3"
  },
  "language_info": {
   "codemirror_mode": {
    "name": "ipython",
    "version": 3
   },
   "file_extension": ".py",
   "mimetype": "text/x-python",
   "name": "python",
   "nbconvert_exporter": "python",
   "pygments_lexer": "ipython3",
   "version": "3.9.13"
  },
  "orig_nbformat": 4,
  "vscode": {
   "interpreter": {
    "hash": "0203cc3bfc9d7e0b8f87f39f71961d619c76a9641b63e1f8ea02096a657cb8c0"
   }
  }
 },
 "nbformat": 4,
 "nbformat_minor": 2
}

{
 "cells": [
  {
   "cell_type": "code",
   "execution_count": 1,
   "metadata": {},
   "outputs": [
    {
     "data": {
      "text/plain": [
       "75"
      ]
     },
     "execution_count": 1,
     "metadata": {},
     "output_type": "execute_result"
    }
   ],
   "source": [
    "f = open(\".\\data\\day23.txt\", \"r\")\n",
    "data = [list(x.strip()) for x in list(f)]\n",
    "f.close()\n",
    "len(data[0])"
   ]
  },
  {
   "cell_type": "code",
   "execution_count": 2,
   "metadata": {},
   "outputs": [
    {
     "data": {
      "text/plain": [
       "2801"
      ]
     },
     "execution_count": 2,
     "metadata": {},
     "output_type": "execute_result"
    }
   ],
   "source": [
    "elves = set()\n",
    "for i in range(len(data[0])):\n",
    "    for j in range(len(data[0])):\n",
    "        if data[i][j] == \"#\":\n",
    "            elves.add((i,j))\n",
    "len(elves)"
   ]
  },
  {
   "cell_type": "code",
   "execution_count": 3,
   "metadata": {},
   "outputs": [],
   "source": [
    "# Part 1\n",
    "rounds = 10\n",
    "cheacking = [(-1,1,-1,0,-1,-1),(1,1,1,0,1,-1),(1,-1,0,-1,-1,-1),(1,1,0,1,-1,1)]\n",
    "counter = 0\n",
    "\n",
    "for r in range(rounds):\n",
    "    proposed = {}\n",
    "    for e in elves:\n",
    "        i,j = e\n",
    "        alone = True\n",
    "        for p in [(i-1,j),(i+1,j),(i,j-1),(i,j+1),(i+1,j+1),(i+1,j-1),(i-1,j+1),(i-1,j-1)]:\n",
    "            if p in elves:\n",
    "                alone = False\n",
    "                break\n",
    "        if alone:\n",
    "            continue\n",
    "\n",
    "        for c in cheacking:\n",
    "            \n",
    "            alone = True\n",
    "            for p in [(i+c[0],j+c[1]),(i+c[2],j+c[3]),(i+c[4],j+c[5])]:\n",
    "                \n",
    "                if p in elves:\n",
    "                    alone = False\n",
    "                    break\n",
    "            if alone:\n",
    "                \n",
    "                if (i+c[2],j+c[3]) not in proposed:\n",
    "                    proposed[(i+c[2],j+c[3])] = []\n",
    "                proposed[(i+c[2],j+c[3])].append((i,j))\n",
    "                break     \n",
    "\n",
    "    for p in proposed:\n",
    "        if len(proposed[p]) == 1:\n",
    "            \n",
    "            elves.remove(proposed[p][0])\n",
    "            elves.add(p)\n",
    "    \n",
    "    temp = cheacking.pop(0)\n",
    "    cheacking.append(temp)\n",
    "\n",
    "\n"
   ]
  },
  {
   "cell_type": "code",
   "execution_count": 4,
   "metadata": {},
   "outputs": [
    {
     "name": "stdout",
     "output_type": "stream",
     "text": [
      "78 78 -4 -6\n"
     ]
    }
   ],
   "source": [
    "max_i, max_j, min_i, min_j = 0,0,1000,1000\n",
    "for e in elves:\n",
    "    i,j = e\n",
    "    if i > max_i:\n",
    "        max_i = i\n",
    "    if j > max_j:\n",
    "        max_j = j\n",
    "    if i < min_i:\n",
    "        min_i = i\n",
    "    if j < min_j:\n",
    "        min_j = j\n",
    "print(max_i, max_j, min_i, min_j)\n"
   ]
  },
  {
   "cell_type": "code",
   "execution_count": 5,
   "metadata": {},
   "outputs": [
    {
     "data": {
      "text/plain": [
       "4254"
      ]
     },
     "execution_count": 5,
     "metadata": {},
     "output_type": "execute_result"
    }
   ],
   "source": [
    "(max_i-min_i+1)*(max_j-min_j+1)-len(elves)"
   ]
  },
  {
   "cell_type": "code",
   "execution_count": 6,
   "metadata": {},
   "outputs": [
    {
     "name": "stdout",
     "output_type": "stream",
     "text": [
      "992\n"
     ]
    }
   ],
   "source": [
    "# part 2\n",
    "elves = set()\n",
    "for i in range(len(data[0])):\n",
    "    for j in range(len(data[0])):\n",
    "        if data[i][j] == \"#\":\n",
    "            elves.add((i,j))\n",
    "\n",
    "\n",
    "rounds = 1000\n",
    "cheacking = [(-1,1,-1,0,-1,-1),(1,1,1,0,1,-1),(1,-1,0,-1,-1,-1),(1,1,0,1,-1,1)]\n",
    "counter = 0\n",
    "\n",
    "for r in range(rounds):\n",
    "    counter+=1\n",
    "    moved = False\n",
    "\n",
    "    proposed = {}\n",
    "    for e in elves:\n",
    "        i,j = e\n",
    "        alone = True\n",
    "        for p in [(i-1,j),(i+1,j),(i,j-1),(i,j+1),(i+1,j+1),(i+1,j-1),(i-1,j+1),(i-1,j-1)]:\n",
    "            if p in elves:\n",
    "                alone = False\n",
    "                break\n",
    "        if alone:\n",
    "            continue\n",
    "\n",
    "        for c in cheacking:\n",
    "            \n",
    "            alone = True\n",
    "            for p in [(i+c[0],j+c[1]),(i+c[2],j+c[3]),(i+c[4],j+c[5])]:\n",
    "                \n",
    "                if p in elves:\n",
    "                    alone = False\n",
    "                    break\n",
    "            if alone:\n",
    "                \n",
    "                if (i+c[2],j+c[3]) not in proposed:\n",
    "                    proposed[(i+c[2],j+c[3])] = []\n",
    "                proposed[(i+c[2],j+c[3])].append((i,j))\n",
    "                break     \n",
    "\n",
    "    for p in proposed:\n",
    "        if len(proposed[p]) == 1:\n",
    "            moved = True\n",
    "            elves.remove(proposed[p][0])\n",
    "            elves.add(p)\n",
    "    \n",
    "    temp = cheacking.pop(0)\n",
    "    cheacking.append(temp)\n",
    "\n",
    "    if moved == False:\n",
    "        break\n",
    "print(counter)"
   ]
  }
 ],
 "metadata": {
  "kernelspec": {
   "display_name": "trabajo3",
   "language": "python",
   "name": "python3"
  },
  "language_info": {
   "codemirror_mode": {
    "name": "ipython",
    "version": 3
   },
   "file_extension": ".py",
   "mimetype": "text/x-python",
   "name": "python",
   "nbconvert_exporter": "python",
   "pygments_lexer": "ipython3",
   "version": "3.7.9"
  },
  "orig_nbformat": 4,
  "vscode": {
   "interpreter": {
    "hash": "d9c1095f325b186a9c68c70257a87c03b55e546702fefa611caba39ab0727f0d"
   }
  }
 },
 "nbformat": 4,
 "nbformat_minor": 2
}

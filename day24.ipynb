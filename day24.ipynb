{
 "cells": [
  {
   "cell_type": "code",
   "execution_count": 27,
   "metadata": {},
   "outputs": [
    {
     "name": "stdout",
     "output_type": "stream",
     "text": [
      "37 102\n"
     ]
    }
   ],
   "source": [
    "f = open(\".\\data\\day24.txt\", \"r\")\n",
    "data = [list(x.strip()) for x in list(f)]\n",
    "f.close()\n",
    "print(len(data),len(data[0]))"
   ]
  },
  {
   "cell_type": "code",
   "execution_count": 41,
   "metadata": {},
   "outputs": [
    {
     "name": "stdout",
     "output_type": "stream",
     "text": [
      "3500\n"
     ]
    },
    {
     "data": {
      "text/plain": [
       "True"
      ]
     },
     "execution_count": 41,
     "metadata": {},
     "output_type": "execute_result"
    }
   ],
   "source": [
    "winds = {}\n",
    "walls = set()\n",
    "for i in range(len(data)):\n",
    "    for j in range(len(data[0])):\n",
    "        if data[i][j] == '>':\n",
    "            winds[(i-1,j-1)] = (0,1)\n",
    "        elif data[i][j] == '<':\n",
    "            winds[(i-1,j-1)] = (0,-1)\n",
    "        elif data[i][j] == '^':\n",
    "            winds[(i-1,j-1)] = (-1,0)\n",
    "        elif data[i][j] == 'v':\n",
    "            winds[(i-1,j-1)] = (1,0)\n",
    "        elif data[i][j] == '#':\n",
    "            walls.add((i-1,j-1))\n",
    "def winds_squedule(winds,time):\n",
    "    wind =set()\n",
    "    for w in winds:\n",
    "        direction = winds[w]\n",
    "        wind.add( ((w[0]+direction[0]*time)%(len(data)-2),\n",
    "            (w[1]+direction[1]*time)%(len(data[0])-2)) )\n",
    "    return wind\n",
    "\n",
    "walls.add((-2,0))\n",
    "walls.add((len(data)-1,len(data[0])-3))\n",
    "print((len(data)-2)*(len(data[0])-2))\n",
    "winds_squedule(winds,0) == winds_squedule(winds,700)"
   ]
  },
  {
   "cell_type": "code",
   "execution_count": 37,
   "metadata": {},
   "outputs": [
    {
     "name": "stdout",
     "output_type": "stream",
     "text": [
      "279\n"
     ]
    }
   ],
   "source": [
    "# part 1\n",
    "wind_times = {}\n",
    "sol = []\n",
    "n = 700\n",
    "start = (-1,0)\n",
    "#walls.add(start)\n",
    "end = (len(data)-2,len(data[0])-3)\n",
    "time = 0\n",
    "visited = {}\n",
    "to_check = [(start,time)]\n",
    "while to_check:\n",
    "    pos, time = to_check.pop()\n",
    "    if (pos,time%n) in visited:\n",
    "        if time >= visited[(pos,time%n)]:\n",
    "            continue\n",
    "        else:\n",
    "            visited[(pos,time%n)] = time\n",
    "    else:\n",
    "        visited[(pos,time%n)] = time\n",
    "    if pos == end:\n",
    "        sol.append(time)\n",
    "        continue\n",
    "\n",
    "    if (time+1)%n not in wind_times:\n",
    "        wind_times[(time+1)%n] = winds_squedule(winds,(time+1)%n)\n",
    "\n",
    "    for i,j in [(0,0),(0,1),(1,0),(0,-1),(-1,0)]:       \n",
    "        new_pos = (pos[0]+i,pos[1]+j)\n",
    "        if new_pos in walls:\n",
    "            continue\n",
    "        if new_pos in wind_times[(time+1)%n]:\n",
    "            continue\n",
    "        to_check.append((new_pos,time+1))\n",
    "    #print(len(to_check),to_check)\n",
    "print(min(sol))\n"
   ]
  },
  {
   "cell_type": "code",
   "execution_count": 40,
   "metadata": {},
   "outputs": [
    {
     "data": {
      "text/plain": [
       "66437"
      ]
     },
     "execution_count": 40,
     "metadata": {},
     "output_type": "execute_result"
    }
   ],
   "source": [
    "# part 2\n",
    "wind_times = {}\n",
    "sol = []\n",
    "n = 700\n",
    "start = (-1,0)\n",
    "end = (len(data)-2,len(data[0])-3)\n",
    "time = 0\n",
    "visited = {}\n",
    "to_check = [(start,time)]\n",
    "while to_check:\n",
    "    pos, time = to_check.pop()\n",
    "    if (pos,time%n) in visited:\n",
    "        if time >= visited[(pos,time%n)]:\n",
    "            continue\n",
    "        else:\n",
    "            visited[(pos,time%n)] = time\n",
    "    else:\n",
    "        visited[(pos,time%n)] = time\n",
    "    if pos == end:\n",
    "        sol.append(time)\n",
    "        continue\n",
    "\n",
    "    if (time+1)%n not in wind_times:\n",
    "        wind_times[(time+1)%n] = winds_squedule(winds,(time+1)%n)\n",
    "\n",
    "    for i,j in [(0,0),(0,1),(1,0),(0,-1),(-1,0)]:       \n",
    "        new_pos = (pos[0]+i,pos[1]+j)\n",
    "        if new_pos in walls:\n",
    "            continue\n",
    "        if new_pos in wind_times[(time+1)%n]:\n",
    "            continue\n",
    "        to_check.append((new_pos,time+1))\n",
    "    #print(len(to_check),to_check)\n",
    "print(min(sol))\n"
   ]
  },
  {
   "cell_type": "code",
   "execution_count": 42,
   "metadata": {},
   "outputs": [
    {
     "name": "stdout",
     "output_type": "stream",
     "text": [
      "529\n"
     ]
    }
   ],
   "source": [
    "wind_times = {}\n",
    "sol = []\n",
    "n = 700\n",
    "start = (len(data)-2,len(data[0])-3)\n",
    "end = (-1,0)\n",
    "time = 279\n",
    "visited = {}\n",
    "to_check = [(start,time)]\n",
    "while to_check:\n",
    "    pos, time = to_check.pop()\n",
    "    if (pos,time%n) in visited:\n",
    "        if time >= visited[(pos,time%n)]:\n",
    "            continue\n",
    "        else:\n",
    "            visited[(pos,time%n)] = time\n",
    "    else:\n",
    "        visited[(pos,time%n)] = time\n",
    "    if pos == end:\n",
    "        sol.append(time)\n",
    "        continue\n",
    "\n",
    "    if (time+1)%n not in wind_times:\n",
    "        wind_times[(time+1)%n] = winds_squedule(winds,(time+1)%n)\n",
    "\n",
    "    for i,j in [(0,0),(0,1),(1,0),(0,-1),(-1,0)]:       \n",
    "        new_pos = (pos[0]+i,pos[1]+j)\n",
    "        if new_pos in walls:\n",
    "            continue\n",
    "        if new_pos in wind_times[(time+1)%n]:\n",
    "            continue\n",
    "        to_check.append((new_pos,time+1))\n",
    "    #print(len(to_check),to_check)\n",
    "print(min(sol))"
   ]
  },
  {
   "cell_type": "code",
   "execution_count": 44,
   "metadata": {},
   "outputs": [
    {
     "name": "stdout",
     "output_type": "stream",
     "text": [
      "762\n"
     ]
    }
   ],
   "source": [
    "wind_times = {}\n",
    "sol = []\n",
    "n = 700\n",
    "start = (-1,0)\n",
    "end = (len(data)-2,len(data[0])-3)\n",
    "time = 529\n",
    "visited = {}\n",
    "to_check = [(start,time)]\n",
    "while to_check:\n",
    "    pos, time = to_check.pop()\n",
    "    if (pos,time%n) in visited:\n",
    "        if time >= visited[(pos,time%n)]:\n",
    "            continue\n",
    "        else:\n",
    "            visited[(pos,time%n)] = time\n",
    "    else:\n",
    "        visited[(pos,time%n)] = time\n",
    "    if pos == end:\n",
    "        sol.append(time)\n",
    "        continue\n",
    "\n",
    "    if (time+1)%n not in wind_times:\n",
    "        wind_times[(time+1)%n] = winds_squedule(winds,(time+1)%n)\n",
    "\n",
    "    for i,j in [(0,0),(0,1),(1,0),(0,-1),(-1,0)]:       \n",
    "        new_pos = (pos[0]+i,pos[1]+j)\n",
    "        if new_pos in walls:\n",
    "            continue\n",
    "        if new_pos in wind_times[(time+1)%n]:\n",
    "            continue\n",
    "        to_check.append((new_pos,time+1))\n",
    "    #print(len(to_check),to_check)\n",
    "print(min(sol))"
   ]
  }
 ],
 "metadata": {
  "kernelspec": {
   "display_name": "trabajo3",
   "language": "python",
   "name": "python3"
  },
  "language_info": {
   "codemirror_mode": {
    "name": "ipython",
    "version": 3
   },
   "file_extension": ".py",
   "mimetype": "text/x-python",
   "name": "python",
   "nbconvert_exporter": "python",
   "pygments_lexer": "ipython3",
   "version": "3.7.9"
  },
  "orig_nbformat": 4,
  "vscode": {
   "interpreter": {
    "hash": "d9c1095f325b186a9c68c70257a87c03b55e546702fefa611caba39ab0727f0d"
   }
  }
 },
 "nbformat": 4,
 "nbformat_minor": 2
}

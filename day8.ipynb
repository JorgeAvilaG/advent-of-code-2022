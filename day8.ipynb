{
 "cells": [
  {
   "cell_type": "code",
   "execution_count": 1,
   "metadata": {},
   "outputs": [
    {
     "data": {
      "text/plain": [
       "matrix([[0, 0, 2, ..., 1, 1, 0],\n",
       "        [1, 0, 2, ..., 0, 0, 3],\n",
       "        [0, 0, 3, ..., 0, 3, 3],\n",
       "        ...,\n",
       "        [3, 0, 0, ..., 2, 3, 1],\n",
       "        [3, 1, 0, ..., 2, 3, 2],\n",
       "        [1, 3, 2, ..., 2, 0, 3]])"
      ]
     },
     "execution_count": 1,
     "metadata": {},
     "output_type": "execute_result"
    }
   ],
   "source": [
    "import numpy as np\n",
    "f = open(\".\\data\\day8.txt\", \"r\")\n",
    "data = [list(x.strip()) for x in list(f)]\n",
    "data = [[int(pos) for pos in line] for line in data ]\n",
    "data = np.matrix(data)\n",
    "data"
   ]
  },
  {
   "cell_type": "code",
   "execution_count": 2,
   "metadata": {},
   "outputs": [
    {
     "data": {
      "text/plain": [
       "1698"
      ]
     },
     "execution_count": 2,
     "metadata": {},
     "output_type": "execute_result"
    }
   ],
   "source": [
    "# part 1\n",
    "counter = 0\n",
    "for j in range(1,len(data)-1):\n",
    "    for i in range(1,len(data)-1):\n",
    "        hight = data[j,i]\n",
    "        if hight > data[j,:i].max():\n",
    "            counter += 1\n",
    "            continue\n",
    "        elif hight > data[j,i+1:].max():\n",
    "            counter += 1\n",
    "            continue\n",
    "        elif hight > data[:j,i].max():\n",
    "            counter += 1\n",
    "            continue\n",
    "        elif hight > data[j+1:,i].max():\n",
    "            counter += 1\n",
    "            continue\n",
    "\n",
    "counter += len(data)*2 + (len(data)-2)*2\n",
    "counter\n"
   ]
  },
  {
   "cell_type": "code",
   "execution_count": 3,
   "metadata": {},
   "outputs": [
    {
     "data": {
      "text/plain": [
       "672280"
      ]
     },
     "execution_count": 3,
     "metadata": {},
     "output_type": "execute_result"
    }
   ],
   "source": [
    "# part 2\n",
    "\n",
    "sol = 0\n",
    "for j in range(1,len(data)-1):\n",
    "    for i in range(1,len(data)-1):\n",
    "        temp = 1\n",
    "        hight = data[j,i]\n",
    "        if hight > data[j,:i].max():\n",
    "            temp *= data[j,:i].size\n",
    "        else:\n",
    "            counter = 0\n",
    "            z = 0\n",
    "            while True:\n",
    "                counter += 1\n",
    "                z+=1\n",
    "                if data[j,i-z] >= hight:\n",
    "                    break\n",
    "            temp *= counter\n",
    "\n",
    "        if hight > data[j,i+1:].max():\n",
    "            temp *= data[j,i+1:].size\n",
    "        else:\n",
    "            counter = 0\n",
    "            z = 0\n",
    "            while True:\n",
    "                counter += 1\n",
    "                z+=1\n",
    "                if data[j,i+z] >= hight:\n",
    "                    break\n",
    "            temp *= counter\n",
    "        \n",
    "\n",
    "        if hight > data[:j,i].max():\n",
    "            temp *= data[:j,i].size\n",
    "        else:\n",
    "            counter = 0\n",
    "            z = 0\n",
    "            while True:\n",
    "                counter += 1\n",
    "                z+=1\n",
    "                if data[j-z,i] >= hight:\n",
    "                    break\n",
    "            temp *= counter\n",
    "\n",
    "        if hight > data[j+1:,i].max():\n",
    "            temp *= data[j+1:,i].size\n",
    "        else:\n",
    "            counter = 0\n",
    "            z = 0\n",
    "            while True:\n",
    "                counter += 1\n",
    "                z+=1\n",
    "                if data[j+z,i] >= hight:\n",
    "                    break\n",
    "            temp *= counter   \n",
    "        \n",
    "        \n",
    "        if temp > sol: sol = temp\n",
    "\n",
    "sol\n"
   ]
  }
 ],
 "metadata": {
  "kernelspec": {
   "display_name": "Python 3.9.13 ('red-electrica')",
   "language": "python",
   "name": "python3"
  },
  "language_info": {
   "codemirror_mode": {
    "name": "ipython",
    "version": 3
   },
   "file_extension": ".py",
   "mimetype": "text/x-python",
   "name": "python",
   "nbconvert_exporter": "python",
   "pygments_lexer": "ipython3",
   "version": "3.9.13"
  },
  "orig_nbformat": 4,
  "vscode": {
   "interpreter": {
    "hash": "480b375f1043213f5c1f0363a14182342a678e76bb2ef498debd342d6015283c"
   }
  }
 },
 "nbformat": 4,
 "nbformat_minor": 2
}
